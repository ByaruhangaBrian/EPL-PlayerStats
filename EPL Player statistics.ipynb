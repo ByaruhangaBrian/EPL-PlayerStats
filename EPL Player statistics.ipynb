{
 "cells": [
  {
   "cell_type": "code",
   "execution_count": 103,
   "metadata": {},
   "outputs": [],
   "source": [
    "import pandas as pd\n",
    "import requests\n",
    "from bs4 import BeautifulSoup, Comment\n",
    "import seaborn as sns\n",
    "import matplotlib.pyplot as plt\n",
    "import plotly.express as px"
   ]
  },
  {
   "cell_type": "code",
   "execution_count": 104,
   "metadata": {
    "scrolled": true
   },
   "outputs": [],
   "source": [
    "url = 'https://fbref.com/en/comps/9/stats/Premier-League-Stats#stats_standard'\n",
    "#     table_class = 'stats_table sortable min_width now_sortable'\n",
    "soup = BeautifulSoup(requests.get(url).content, 'html.parser')\n",
    "# I noticed that tables \n",
    "table = BeautifulSoup(soup.select_one('#all_stats_standard').find_next(text=lambda x: isinstance(x, Comment)), 'html.parser')\n",
    "df = pd.read_html(str(table))[0]"
   ]
  },
  {
   "cell_type": "code",
   "execution_count": 105,
   "metadata": {},
   "outputs": [],
   "source": [
    "# some data cleaning\n",
    "\n",
    "# remove multilevel columns\n",
    "df.columns = df.columns.droplevel()"
   ]
  },
  {
   "cell_type": "code",
   "execution_count": 106,
   "metadata": {},
   "outputs": [],
   "source": [
    "# Remove duplicated columns\n",
    "df = df.loc[:,~df.columns.duplicated()]"
   ]
  },
  {
   "cell_type": "code",
   "execution_count": 107,
   "metadata": {},
   "outputs": [],
   "source": [
    "# Remove columns that arent needed. \n",
    "df.drop(df.columns[[0,18,19,20,21,22,23,24,25]], inplace=True, axis = 1)"
   ]
  },
  {
   "cell_type": "code",
   "execution_count": null,
   "metadata": {},
   "outputs": [],
   "source": []
  },
  {
   "cell_type": "code",
   "execution_count": 108,
   "metadata": {},
   "outputs": [],
   "source": [
    "# Nation, , \n",
    "# Trim Nation to get last 3 digits\n",
    "df['Nation'] = df['Nation'].str[-3:]\n",
    "# df"
   ]
  },
  {
   "cell_type": "code",
   "execution_count": 109,
   "metadata": {},
   "outputs": [],
   "source": [
    "# Position \n",
    "# SOme players have more than one position so I will take the first one\n",
    "df['Pos'] = df['Pos'].str[:2]\n",
    "# df"
   ]
  },
  {
   "cell_type": "code",
   "execution_count": 110,
   "metadata": {},
   "outputs": [],
   "source": [
    "# Age\n",
    "# Remain with only full age of player\n",
    "# Drop Born year column\n",
    "df['Age'] = df['Age'].str[:2]\n",
    "df.drop(['Born'], inplace=True, axis = 1)"
   ]
  },
  {
   "cell_type": "code",
   "execution_count": 111,
   "metadata": {},
   "outputs": [],
   "source": [
    "# I noticed there were 21 inique teams as opposed to 20,on checking there was a team named Squad which is the columns name. \n",
    "# drop repeated headers scrapped as rows\n",
    "df.drop(df[df['Squad'] == 'Squad'].index, inplace = True)\n",
    "# df[df['Squad'] == 'Squad']"
   ]
  },
  {
   "cell_type": "code",
   "execution_count": 112,
   "metadata": {},
   "outputs": [
    {
     "data": {
      "text/html": [
       "<div>\n",
       "<style scoped>\n",
       "    .dataframe tbody tr th:only-of-type {\n",
       "        vertical-align: middle;\n",
       "    }\n",
       "\n",
       "    .dataframe tbody tr th {\n",
       "        vertical-align: top;\n",
       "    }\n",
       "\n",
       "    .dataframe thead th {\n",
       "        text-align: right;\n",
       "    }\n",
       "</style>\n",
       "<table border=\"1\" class=\"dataframe\">\n",
       "  <thead>\n",
       "    <tr style=\"text-align: right;\">\n",
       "      <th></th>\n",
       "      <th>Player</th>\n",
       "      <th>Nation</th>\n",
       "      <th>Pos</th>\n",
       "      <th>Squad</th>\n",
       "      <th>Age</th>\n",
       "      <th>MP</th>\n",
       "      <th>Starts</th>\n",
       "      <th>Min</th>\n",
       "      <th>90s</th>\n",
       "      <th>Gls</th>\n",
       "      <th>Ast</th>\n",
       "      <th>G-PK</th>\n",
       "      <th>PK</th>\n",
       "      <th>PKatt</th>\n",
       "      <th>CrdY</th>\n",
       "      <th>CrdR</th>\n",
       "    </tr>\n",
       "  </thead>\n",
       "  <tbody>\n",
       "    <tr>\n",
       "      <th>44</th>\n",
       "      <td>Ross Barkley</td>\n",
       "      <td>ENG</td>\n",
       "      <td>MF</td>\n",
       "      <td>Chelsea</td>\n",
       "      <td>27</td>\n",
       "      <td>2</td>\n",
       "      <td>0</td>\n",
       "      <td>42</td>\n",
       "      <td>0.5</td>\n",
       "      <td>0</td>\n",
       "      <td>0</td>\n",
       "      <td>0</td>\n",
       "      <td>0</td>\n",
       "      <td>0</td>\n",
       "      <td>0</td>\n",
       "      <td>0</td>\n",
       "    </tr>\n",
       "    <tr>\n",
       "      <th>45</th>\n",
       "      <td>Ross Barkley</td>\n",
       "      <td>ENG</td>\n",
       "      <td>MF</td>\n",
       "      <td>Aston Villa</td>\n",
       "      <td>27</td>\n",
       "      <td>18</td>\n",
       "      <td>14</td>\n",
       "      <td>1167</td>\n",
       "      <td>13.0</td>\n",
       "      <td>3</td>\n",
       "      <td>1</td>\n",
       "      <td>3</td>\n",
       "      <td>0</td>\n",
       "      <td>0</td>\n",
       "      <td>0</td>\n",
       "      <td>0</td>\n",
       "    </tr>\n",
       "    <tr>\n",
       "      <th>269</th>\n",
       "      <td>Ruben Loftus-Cheek</td>\n",
       "      <td>ENG</td>\n",
       "      <td>FW</td>\n",
       "      <td>Chelsea</td>\n",
       "      <td>25</td>\n",
       "      <td>1</td>\n",
       "      <td>1</td>\n",
       "      <td>60</td>\n",
       "      <td>0.7</td>\n",
       "      <td>0</td>\n",
       "      <td>0</td>\n",
       "      <td>0</td>\n",
       "      <td>0</td>\n",
       "      <td>0</td>\n",
       "      <td>0</td>\n",
       "      <td>0</td>\n",
       "    </tr>\n",
       "    <tr>\n",
       "      <th>270</th>\n",
       "      <td>Ruben Loftus-Cheek</td>\n",
       "      <td>ENG</td>\n",
       "      <td>MF</td>\n",
       "      <td>Fulham</td>\n",
       "      <td>25</td>\n",
       "      <td>24</td>\n",
       "      <td>19</td>\n",
       "      <td>1661</td>\n",
       "      <td>18.5</td>\n",
       "      <td>1</td>\n",
       "      <td>0</td>\n",
       "      <td>1</td>\n",
       "      <td>0</td>\n",
       "      <td>0</td>\n",
       "      <td>3</td>\n",
       "      <td>0</td>\n",
       "    </tr>\n",
       "    <tr>\n",
       "      <th>286</th>\n",
       "      <td>Ainsley Maitland-Niles</td>\n",
       "      <td>ENG</td>\n",
       "      <td>DF</td>\n",
       "      <td>Arsenal</td>\n",
       "      <td>23</td>\n",
       "      <td>11</td>\n",
       "      <td>5</td>\n",
       "      <td>490</td>\n",
       "      <td>5.4</td>\n",
       "      <td>0</td>\n",
       "      <td>0</td>\n",
       "      <td>0</td>\n",
       "      <td>0</td>\n",
       "      <td>0</td>\n",
       "      <td>0</td>\n",
       "      <td>0</td>\n",
       "    </tr>\n",
       "    <tr>\n",
       "      <th>287</th>\n",
       "      <td>Ainsley Maitland-Niles</td>\n",
       "      <td>ENG</td>\n",
       "      <td>MF</td>\n",
       "      <td>West Brom</td>\n",
       "      <td>23</td>\n",
       "      <td>7</td>\n",
       "      <td>7</td>\n",
       "      <td>630</td>\n",
       "      <td>7.0</td>\n",
       "      <td>0</td>\n",
       "      <td>0</td>\n",
       "      <td>0</td>\n",
       "      <td>0</td>\n",
       "      <td>0</td>\n",
       "      <td>1</td>\n",
       "      <td>0</td>\n",
       "    </tr>\n",
       "    <tr>\n",
       "      <th>320</th>\n",
       "      <td>Takumi Minamino</td>\n",
       "      <td>JPN</td>\n",
       "      <td>MF</td>\n",
       "      <td>Southampton</td>\n",
       "      <td>26</td>\n",
       "      <td>6</td>\n",
       "      <td>5</td>\n",
       "      <td>410</td>\n",
       "      <td>4.6</td>\n",
       "      <td>2</td>\n",
       "      <td>0</td>\n",
       "      <td>2</td>\n",
       "      <td>0</td>\n",
       "      <td>0</td>\n",
       "      <td>0</td>\n",
       "      <td>0</td>\n",
       "    </tr>\n",
       "    <tr>\n",
       "      <th>321</th>\n",
       "      <td>Takumi Minamino</td>\n",
       "      <td>JPN</td>\n",
       "      <td>MF</td>\n",
       "      <td>Liverpool</td>\n",
       "      <td>26</td>\n",
       "      <td>9</td>\n",
       "      <td>2</td>\n",
       "      <td>293</td>\n",
       "      <td>3.3</td>\n",
       "      <td>1</td>\n",
       "      <td>0</td>\n",
       "      <td>1</td>\n",
       "      <td>0</td>\n",
       "      <td>0</td>\n",
       "      <td>0</td>\n",
       "      <td>0</td>\n",
       "    </tr>\n",
       "    <tr>\n",
       "      <th>411</th>\n",
       "      <td>Mathew Ryan</td>\n",
       "      <td>AUS</td>\n",
       "      <td>GK</td>\n",
       "      <td>Arsenal</td>\n",
       "      <td>28</td>\n",
       "      <td>1</td>\n",
       "      <td>1</td>\n",
       "      <td>90</td>\n",
       "      <td>1.0</td>\n",
       "      <td>0</td>\n",
       "      <td>0</td>\n",
       "      <td>0</td>\n",
       "      <td>0</td>\n",
       "      <td>0</td>\n",
       "      <td>0</td>\n",
       "      <td>0</td>\n",
       "    </tr>\n",
       "    <tr>\n",
       "      <th>412</th>\n",
       "      <td>Mathew Ryan</td>\n",
       "      <td>AUS</td>\n",
       "      <td>GK</td>\n",
       "      <td>Brighton</td>\n",
       "      <td>28</td>\n",
       "      <td>11</td>\n",
       "      <td>11</td>\n",
       "      <td>990</td>\n",
       "      <td>11.0</td>\n",
       "      <td>0</td>\n",
       "      <td>0</td>\n",
       "      <td>0</td>\n",
       "      <td>0</td>\n",
       "      <td>0</td>\n",
       "      <td>1</td>\n",
       "      <td>0</td>\n",
       "    </tr>\n",
       "    <tr>\n",
       "      <th>444</th>\n",
       "      <td>Robert Snodgrass</td>\n",
       "      <td>SCO</td>\n",
       "      <td>MF</td>\n",
       "      <td>West Brom</td>\n",
       "      <td>33</td>\n",
       "      <td>8</td>\n",
       "      <td>6</td>\n",
       "      <td>526</td>\n",
       "      <td>5.8</td>\n",
       "      <td>0</td>\n",
       "      <td>0</td>\n",
       "      <td>0</td>\n",
       "      <td>0</td>\n",
       "      <td>0</td>\n",
       "      <td>2</td>\n",
       "      <td>0</td>\n",
       "    </tr>\n",
       "    <tr>\n",
       "      <th>445</th>\n",
       "      <td>Robert Snodgrass</td>\n",
       "      <td>SCO</td>\n",
       "      <td>FW</td>\n",
       "      <td>West Ham</td>\n",
       "      <td>33</td>\n",
       "      <td>3</td>\n",
       "      <td>0</td>\n",
       "      <td>5</td>\n",
       "      <td>0.1</td>\n",
       "      <td>0</td>\n",
       "      <td>0</td>\n",
       "      <td>0</td>\n",
       "      <td>0</td>\n",
       "      <td>0</td>\n",
       "      <td>0</td>\n",
       "      <td>0</td>\n",
       "    </tr>\n",
       "    <tr>\n",
       "      <th>495</th>\n",
       "      <td>Theo Walcott</td>\n",
       "      <td>ENG</td>\n",
       "      <td>MF</td>\n",
       "      <td>Southampton</td>\n",
       "      <td>32</td>\n",
       "      <td>15</td>\n",
       "      <td>15</td>\n",
       "      <td>1234</td>\n",
       "      <td>13.7</td>\n",
       "      <td>2</td>\n",
       "      <td>2</td>\n",
       "      <td>2</td>\n",
       "      <td>0</td>\n",
       "      <td>0</td>\n",
       "      <td>0</td>\n",
       "      <td>0</td>\n",
       "    </tr>\n",
       "    <tr>\n",
       "      <th>496</th>\n",
       "      <td>Theo Walcott</td>\n",
       "      <td>ENG</td>\n",
       "      <td>FW</td>\n",
       "      <td>Everton</td>\n",
       "      <td>32</td>\n",
       "      <td>1</td>\n",
       "      <td>0</td>\n",
       "      <td>13</td>\n",
       "      <td>0.1</td>\n",
       "      <td>0</td>\n",
       "      <td>0</td>\n",
       "      <td>0</td>\n",
       "      <td>0</td>\n",
       "      <td>0</td>\n",
       "      <td>0</td>\n",
       "      <td>0</td>\n",
       "    </tr>\n",
       "    <tr>\n",
       "      <th>514</th>\n",
       "      <td>Joe Willock</td>\n",
       "      <td>ENG</td>\n",
       "      <td>MF</td>\n",
       "      <td>Arsenal</td>\n",
       "      <td>21</td>\n",
       "      <td>7</td>\n",
       "      <td>2</td>\n",
       "      <td>238</td>\n",
       "      <td>2.6</td>\n",
       "      <td>0</td>\n",
       "      <td>0</td>\n",
       "      <td>0</td>\n",
       "      <td>0</td>\n",
       "      <td>0</td>\n",
       "      <td>1</td>\n",
       "      <td>0</td>\n",
       "    </tr>\n",
       "    <tr>\n",
       "      <th>515</th>\n",
       "      <td>Joe Willock</td>\n",
       "      <td>ENG</td>\n",
       "      <td>MF</td>\n",
       "      <td>Newcastle Utd</td>\n",
       "      <td>21</td>\n",
       "      <td>7</td>\n",
       "      <td>7</td>\n",
       "      <td>589</td>\n",
       "      <td>6.5</td>\n",
       "      <td>1</td>\n",
       "      <td>0</td>\n",
       "      <td>1</td>\n",
       "      <td>0</td>\n",
       "      <td>0</td>\n",
       "      <td>0</td>\n",
       "      <td>0</td>\n",
       "    </tr>\n",
       "  </tbody>\n",
       "</table>\n",
       "</div>"
      ],
      "text/plain": [
       "                     Player Nation Pos          Squad Age  MP Starts   Min  \\\n",
       "44             Ross Barkley    ENG  MF        Chelsea  27   2      0    42   \n",
       "45             Ross Barkley    ENG  MF    Aston Villa  27  18     14  1167   \n",
       "269      Ruben Loftus-Cheek    ENG  FW        Chelsea  25   1      1    60   \n",
       "270      Ruben Loftus-Cheek    ENG  MF         Fulham  25  24     19  1661   \n",
       "286  Ainsley Maitland-Niles    ENG  DF        Arsenal  23  11      5   490   \n",
       "287  Ainsley Maitland-Niles    ENG  MF      West Brom  23   7      7   630   \n",
       "320         Takumi Minamino    JPN  MF    Southampton  26   6      5   410   \n",
       "321         Takumi Minamino    JPN  MF      Liverpool  26   9      2   293   \n",
       "411             Mathew Ryan    AUS  GK        Arsenal  28   1      1    90   \n",
       "412             Mathew Ryan    AUS  GK       Brighton  28  11     11   990   \n",
       "444        Robert Snodgrass    SCO  MF      West Brom  33   8      6   526   \n",
       "445        Robert Snodgrass    SCO  FW       West Ham  33   3      0     5   \n",
       "495            Theo Walcott    ENG  MF    Southampton  32  15     15  1234   \n",
       "496            Theo Walcott    ENG  FW        Everton  32   1      0    13   \n",
       "514             Joe Willock    ENG  MF        Arsenal  21   7      2   238   \n",
       "515             Joe Willock    ENG  MF  Newcastle Utd  21   7      7   589   \n",
       "\n",
       "      90s Gls Ast G-PK PK PKatt CrdY CrdR  \n",
       "44    0.5   0   0    0  0     0    0    0  \n",
       "45   13.0   3   1    3  0     0    0    0  \n",
       "269   0.7   0   0    0  0     0    0    0  \n",
       "270  18.5   1   0    1  0     0    3    0  \n",
       "286   5.4   0   0    0  0     0    0    0  \n",
       "287   7.0   0   0    0  0     0    1    0  \n",
       "320   4.6   2   0    2  0     0    0    0  \n",
       "321   3.3   1   0    1  0     0    0    0  \n",
       "411   1.0   0   0    0  0     0    0    0  \n",
       "412  11.0   0   0    0  0     0    1    0  \n",
       "444   5.8   0   0    0  0     0    2    0  \n",
       "445   0.1   0   0    0  0     0    0    0  \n",
       "495  13.7   2   2    2  0     0    0    0  \n",
       "496   0.1   0   0    0  0     0    0    0  \n",
       "514   2.6   0   0    0  0     0    1    0  \n",
       "515   6.5   1   0    1  0     0    0    0  "
      ]
     },
     "execution_count": 112,
     "metadata": {},
     "output_type": "execute_result"
    }
   ],
   "source": [
    "# From .describe I noticed there were duplicate players on checking its because players have played for more than one team this season\n",
    "df[df['Player'].duplicated(keep=False)]"
   ]
  },
  {
   "cell_type": "code",
   "execution_count": 113,
   "metadata": {},
   "outputs": [],
   "source": [
    "# change data types\n",
    "df[['Age','MP','Starts','Min','Gls','Ast','G-PK','PK','PKatt','CrdY','CrdR']] = df[['Age','MP','Starts','Min','Gls','Ast','G-PK','PK','PKatt','CrdY','CrdR']].apply(pd.to_numeric)"
   ]
  },
  {
   "cell_type": "code",
   "execution_count": null,
   "metadata": {},
   "outputs": [],
   "source": []
  },
  {
   "cell_type": "code",
   "execution_count": 168,
   "metadata": {},
   "outputs": [],
   "source": []
  },
  {
   "cell_type": "code",
   "execution_count": 72,
   "metadata": {},
   "outputs": [],
   "source": [
    "df_nation = df.groupby(['Squad','Nation'])['Nation'].count().reset_index(name='count').sort_values(['Squad','count'],ascending=False)"
   ]
  },
  {
   "cell_type": "code",
   "execution_count": 94,
   "metadata": {},
   "outputs": [
    {
     "data": {
      "text/html": [
       "<div>\n",
       "<style scoped>\n",
       "    .dataframe tbody tr th:only-of-type {\n",
       "        vertical-align: middle;\n",
       "    }\n",
       "\n",
       "    .dataframe tbody tr th {\n",
       "        vertical-align: top;\n",
       "    }\n",
       "\n",
       "    .dataframe thead th {\n",
       "        text-align: right;\n",
       "    }\n",
       "</style>\n",
       "<table border=\"1\" class=\"dataframe\">\n",
       "  <thead>\n",
       "    <tr style=\"text-align: right;\">\n",
       "      <th></th>\n",
       "      <th>Squad</th>\n",
       "      <th>Nation</th>\n",
       "      <th>count</th>\n",
       "    </tr>\n",
       "  </thead>\n",
       "  <tbody>\n",
       "    <tr>\n",
       "      <th>258</th>\n",
       "      <td>Wolves</td>\n",
       "      <td>POR</td>\n",
       "      <td>9</td>\n",
       "    </tr>\n",
       "    <tr>\n",
       "      <th>251</th>\n",
       "      <td>Wolves</td>\n",
       "      <td>ENG</td>\n",
       "      <td>4</td>\n",
       "    </tr>\n",
       "    <tr>\n",
       "      <th>248</th>\n",
       "      <td>Wolves</td>\n",
       "      <td>BRA</td>\n",
       "      <td>2</td>\n",
       "    </tr>\n",
       "    <tr>\n",
       "      <th>252</th>\n",
       "      <td>Wolves</td>\n",
       "      <td>ESP</td>\n",
       "      <td>2</td>\n",
       "    </tr>\n",
       "    <tr>\n",
       "      <th>247</th>\n",
       "      <td>Wolves</td>\n",
       "      <td>BEL</td>\n",
       "      <td>1</td>\n",
       "    </tr>\n",
       "    <tr>\n",
       "      <th>249</th>\n",
       "      <td>Wolves</td>\n",
       "      <td>CIV</td>\n",
       "      <td>1</td>\n",
       "    </tr>\n",
       "    <tr>\n",
       "      <th>250</th>\n",
       "      <td>Wolves</td>\n",
       "      <td>DEN</td>\n",
       "      <td>1</td>\n",
       "    </tr>\n",
       "    <tr>\n",
       "      <th>253</th>\n",
       "      <td>Wolves</td>\n",
       "      <td>FRA</td>\n",
       "      <td>1</td>\n",
       "    </tr>\n",
       "    <tr>\n",
       "      <th>254</th>\n",
       "      <td>Wolves</td>\n",
       "      <td>ITA</td>\n",
       "      <td>1</td>\n",
       "    </tr>\n",
       "    <tr>\n",
       "      <th>255</th>\n",
       "      <td>Wolves</td>\n",
       "      <td>MAR</td>\n",
       "      <td>1</td>\n",
       "    </tr>\n",
       "    <tr>\n",
       "      <th>256</th>\n",
       "      <td>Wolves</td>\n",
       "      <td>MEX</td>\n",
       "      <td>1</td>\n",
       "    </tr>\n",
       "    <tr>\n",
       "      <th>257</th>\n",
       "      <td>Wolves</td>\n",
       "      <td>NED</td>\n",
       "      <td>1</td>\n",
       "    </tr>\n",
       "    <tr>\n",
       "      <th>259</th>\n",
       "      <td>Wolves</td>\n",
       "      <td>USA</td>\n",
       "      <td>1</td>\n",
       "    </tr>\n",
       "    <tr>\n",
       "      <th>238</th>\n",
       "      <td>West Ham</td>\n",
       "      <td>ENG</td>\n",
       "      <td>9</td>\n",
       "    </tr>\n",
       "    <tr>\n",
       "      <th>237</th>\n",
       "      <td>West Ham</td>\n",
       "      <td>CZE</td>\n",
       "      <td>2</td>\n",
       "    </tr>\n",
       "    <tr>\n",
       "      <th>232</th>\n",
       "      <td>West Ham</td>\n",
       "      <td>ALG</td>\n",
       "      <td>1</td>\n",
       "    </tr>\n",
       "    <tr>\n",
       "      <th>233</th>\n",
       "      <td>West Ham</td>\n",
       "      <td>ARG</td>\n",
       "      <td>1</td>\n",
       "    </tr>\n",
       "    <tr>\n",
       "      <th>234</th>\n",
       "      <td>West Ham</td>\n",
       "      <td>BRA</td>\n",
       "      <td>1</td>\n",
       "    </tr>\n",
       "    <tr>\n",
       "      <th>235</th>\n",
       "      <td>West Ham</td>\n",
       "      <td>CIV</td>\n",
       "      <td>1</td>\n",
       "    </tr>\n",
       "    <tr>\n",
       "      <th>236</th>\n",
       "      <td>West Ham</td>\n",
       "      <td>COD</td>\n",
       "      <td>1</td>\n",
       "    </tr>\n",
       "    <tr>\n",
       "      <th>239</th>\n",
       "      <td>West Ham</td>\n",
       "      <td>ESP</td>\n",
       "      <td>1</td>\n",
       "    </tr>\n",
       "    <tr>\n",
       "      <th>240</th>\n",
       "      <td>West Ham</td>\n",
       "      <td>FRA</td>\n",
       "      <td>1</td>\n",
       "    </tr>\n",
       "    <tr>\n",
       "      <th>241</th>\n",
       "      <td>West Ham</td>\n",
       "      <td>IRL</td>\n",
       "      <td>1</td>\n",
       "    </tr>\n",
       "    <tr>\n",
       "      <th>242</th>\n",
       "      <td>West Ham</td>\n",
       "      <td>ITA</td>\n",
       "      <td>1</td>\n",
       "    </tr>\n",
       "    <tr>\n",
       "      <th>243</th>\n",
       "      <td>West Ham</td>\n",
       "      <td>PAR</td>\n",
       "      <td>1</td>\n",
       "    </tr>\n",
       "    <tr>\n",
       "      <th>244</th>\n",
       "      <td>West Ham</td>\n",
       "      <td>POL</td>\n",
       "      <td>1</td>\n",
       "    </tr>\n",
       "    <tr>\n",
       "      <th>245</th>\n",
       "      <td>West Ham</td>\n",
       "      <td>SCO</td>\n",
       "      <td>1</td>\n",
       "    </tr>\n",
       "    <tr>\n",
       "      <th>246</th>\n",
       "      <td>West Ham</td>\n",
       "      <td>UKR</td>\n",
       "      <td>1</td>\n",
       "    </tr>\n",
       "    <tr>\n",
       "      <th>222</th>\n",
       "      <td>West Brom</td>\n",
       "      <td>ENG</td>\n",
       "      <td>16</td>\n",
       "    </tr>\n",
       "    <tr>\n",
       "      <th>223</th>\n",
       "      <td>West Brom</td>\n",
       "      <td>IRL</td>\n",
       "      <td>2</td>\n",
       "    </tr>\n",
       "    <tr>\n",
       "      <th>226</th>\n",
       "      <td>West Brom</td>\n",
       "      <td>SCO</td>\n",
       "      <td>2</td>\n",
       "    </tr>\n",
       "    <tr>\n",
       "      <th>219</th>\n",
       "      <td>West Brom</td>\n",
       "      <td>BRA</td>\n",
       "      <td>1</td>\n",
       "    </tr>\n",
       "    <tr>\n",
       "      <th>220</th>\n",
       "      <td>West Brom</td>\n",
       "      <td>CRO</td>\n",
       "      <td>1</td>\n",
       "    </tr>\n",
       "    <tr>\n",
       "      <th>221</th>\n",
       "      <td>West Brom</td>\n",
       "      <td>EGY</td>\n",
       "      <td>1</td>\n",
       "    </tr>\n",
       "    <tr>\n",
       "      <th>224</th>\n",
       "      <td>West Brom</td>\n",
       "      <td>NGA</td>\n",
       "      <td>1</td>\n",
       "    </tr>\n",
       "    <tr>\n",
       "      <th>225</th>\n",
       "      <td>West Brom</td>\n",
       "      <td>POL</td>\n",
       "      <td>1</td>\n",
       "    </tr>\n",
       "    <tr>\n",
       "      <th>227</th>\n",
       "      <td>West Brom</td>\n",
       "      <td>SEN</td>\n",
       "      <td>1</td>\n",
       "    </tr>\n",
       "    <tr>\n",
       "      <th>228</th>\n",
       "      <td>West Brom</td>\n",
       "      <td>SKN</td>\n",
       "      <td>1</td>\n",
       "    </tr>\n",
       "    <tr>\n",
       "      <th>229</th>\n",
       "      <td>West Brom</td>\n",
       "      <td>SRB</td>\n",
       "      <td>1</td>\n",
       "    </tr>\n",
       "    <tr>\n",
       "      <th>230</th>\n",
       "      <td>West Brom</td>\n",
       "      <td>TUR</td>\n",
       "      <td>1</td>\n",
       "    </tr>\n",
       "    <tr>\n",
       "      <th>231</th>\n",
       "      <td>West Brom</td>\n",
       "      <td>WAL</td>\n",
       "      <td>1</td>\n",
       "    </tr>\n",
       "    <tr>\n",
       "      <th>212</th>\n",
       "      <td>Tottenham</td>\n",
       "      <td>ENG</td>\n",
       "      <td>6</td>\n",
       "    </tr>\n",
       "    <tr>\n",
       "      <th>214</th>\n",
       "      <td>Tottenham</td>\n",
       "      <td>FRA</td>\n",
       "      <td>3</td>\n",
       "    </tr>\n",
       "    <tr>\n",
       "      <th>218</th>\n",
       "      <td>Tottenham</td>\n",
       "      <td>WAL</td>\n",
       "      <td>3</td>\n",
       "    </tr>\n",
       "    <tr>\n",
       "      <th>206</th>\n",
       "      <td>Tottenham</td>\n",
       "      <td>ARG</td>\n",
       "      <td>2</td>\n",
       "    </tr>\n",
       "    <tr>\n",
       "      <th>208</th>\n",
       "      <td>Tottenham</td>\n",
       "      <td>BRA</td>\n",
       "      <td>2</td>\n",
       "    </tr>\n",
       "    <tr>\n",
       "      <th>207</th>\n",
       "      <td>Tottenham</td>\n",
       "      <td>BEL</td>\n",
       "      <td>1</td>\n",
       "    </tr>\n",
       "    <tr>\n",
       "      <th>209</th>\n",
       "      <td>Tottenham</td>\n",
       "      <td>CIV</td>\n",
       "      <td>1</td>\n",
       "    </tr>\n",
       "    <tr>\n",
       "      <th>210</th>\n",
       "      <td>Tottenham</td>\n",
       "      <td>COL</td>\n",
       "      <td>1</td>\n",
       "    </tr>\n",
       "    <tr>\n",
       "      <th>211</th>\n",
       "      <td>Tottenham</td>\n",
       "      <td>DEN</td>\n",
       "      <td>1</td>\n",
       "    </tr>\n",
       "    <tr>\n",
       "      <th>213</th>\n",
       "      <td>Tottenham</td>\n",
       "      <td>ESP</td>\n",
       "      <td>1</td>\n",
       "    </tr>\n",
       "    <tr>\n",
       "      <th>215</th>\n",
       "      <td>Tottenham</td>\n",
       "      <td>IRL</td>\n",
       "      <td>1</td>\n",
       "    </tr>\n",
       "    <tr>\n",
       "      <th>216</th>\n",
       "      <td>Tottenham</td>\n",
       "      <td>KOR</td>\n",
       "      <td>1</td>\n",
       "    </tr>\n",
       "    <tr>\n",
       "      <th>217</th>\n",
       "      <td>Tottenham</td>\n",
       "      <td>NED</td>\n",
       "      <td>1</td>\n",
       "    </tr>\n",
       "    <tr>\n",
       "      <th>196</th>\n",
       "      <td>Southampton</td>\n",
       "      <td>ENG</td>\n",
       "      <td>13</td>\n",
       "    </tr>\n",
       "    <tr>\n",
       "      <th>198</th>\n",
       "      <td>Southampton</td>\n",
       "      <td>FRA</td>\n",
       "      <td>3</td>\n",
       "    </tr>\n",
       "    <tr>\n",
       "      <th>200</th>\n",
       "      <td>Southampton</td>\n",
       "      <td>IRL</td>\n",
       "      <td>3</td>\n",
       "    </tr>\n",
       "    <tr>\n",
       "      <th>204</th>\n",
       "      <td>Southampton</td>\n",
       "      <td>SCO</td>\n",
       "      <td>2</td>\n",
       "    </tr>\n",
       "    <tr>\n",
       "      <th>194</th>\n",
       "      <td>Southampton</td>\n",
       "      <td>AUS</td>\n",
       "      <td>1</td>\n",
       "    </tr>\n",
       "    <tr>\n",
       "      <th>195</th>\n",
       "      <td>Southampton</td>\n",
       "      <td>DEN</td>\n",
       "      <td>1</td>\n",
       "    </tr>\n",
       "    <tr>\n",
       "      <th>197</th>\n",
       "      <td>Southampton</td>\n",
       "      <td>ESP</td>\n",
       "      <td>1</td>\n",
       "    </tr>\n",
       "    <tr>\n",
       "      <th>199</th>\n",
       "      <td>Southampton</td>\n",
       "      <td>GHA</td>\n",
       "      <td>1</td>\n",
       "    </tr>\n",
       "    <tr>\n",
       "      <th>201</th>\n",
       "      <td>Southampton</td>\n",
       "      <td>JPN</td>\n",
       "      <td>1</td>\n",
       "    </tr>\n",
       "    <tr>\n",
       "      <th>202</th>\n",
       "      <td>Southampton</td>\n",
       "      <td>MLI</td>\n",
       "      <td>1</td>\n",
       "    </tr>\n",
       "    <tr>\n",
       "      <th>203</th>\n",
       "      <td>Southampton</td>\n",
       "      <td>POL</td>\n",
       "      <td>1</td>\n",
       "    </tr>\n",
       "    <tr>\n",
       "      <th>205</th>\n",
       "      <td>Southampton</td>\n",
       "      <td>SUI</td>\n",
       "      <td>1</td>\n",
       "    </tr>\n",
       "    <tr>\n",
       "      <th>187</th>\n",
       "      <td>Sheffield Utd</td>\n",
       "      <td>ENG</td>\n",
       "      <td>14</td>\n",
       "    </tr>\n",
       "    <tr>\n",
       "      <th>189</th>\n",
       "      <td>Sheffield Utd</td>\n",
       "      <td>IRL</td>\n",
       "      <td>3</td>\n",
       "    </tr>\n",
       "    <tr>\n",
       "      <th>192</th>\n",
       "      <td>Sheffield Utd</td>\n",
       "      <td>SCO</td>\n",
       "      <td>3</td>\n",
       "    </tr>\n",
       "    <tr>\n",
       "      <th>188</th>\n",
       "      <td>Sheffield Utd</td>\n",
       "      <td>FRA</td>\n",
       "      <td>2</td>\n",
       "    </tr>\n",
       "    <tr>\n",
       "      <th>190</th>\n",
       "      <td>Sheffield Utd</td>\n",
       "      <td>NIR</td>\n",
       "      <td>1</td>\n",
       "    </tr>\n",
       "    <tr>\n",
       "      <th>191</th>\n",
       "      <td>Sheffield Utd</td>\n",
       "      <td>NOR</td>\n",
       "      <td>1</td>\n",
       "    </tr>\n",
       "    <tr>\n",
       "      <th>193</th>\n",
       "      <td>Sheffield Utd</td>\n",
       "      <td>WAL</td>\n",
       "      <td>1</td>\n",
       "    </tr>\n",
       "    <tr>\n",
       "      <th>175</th>\n",
       "      <td>Newcastle Utd</td>\n",
       "      <td>ENG</td>\n",
       "      <td>11</td>\n",
       "    </tr>\n",
       "    <tr>\n",
       "      <th>181</th>\n",
       "      <td>Newcastle Utd</td>\n",
       "      <td>SCO</td>\n",
       "      <td>3</td>\n",
       "    </tr>\n",
       "    <tr>\n",
       "      <th>178</th>\n",
       "      <td>Newcastle Utd</td>\n",
       "      <td>IRL</td>\n",
       "      <td>2</td>\n",
       "    </tr>\n",
       "    <tr>\n",
       "      <th>173</th>\n",
       "      <td>Newcastle Utd</td>\n",
       "      <td>ARG</td>\n",
       "      <td>1</td>\n",
       "    </tr>\n",
       "    <tr>\n",
       "      <th>174</th>\n",
       "      <td>Newcastle Utd</td>\n",
       "      <td>BRA</td>\n",
       "      <td>1</td>\n",
       "    </tr>\n",
       "    <tr>\n",
       "      <th>176</th>\n",
       "      <td>Newcastle Utd</td>\n",
       "      <td>ESP</td>\n",
       "      <td>1</td>\n",
       "    </tr>\n",
       "    <tr>\n",
       "      <th>177</th>\n",
       "      <td>Newcastle Utd</td>\n",
       "      <td>FRA</td>\n",
       "      <td>1</td>\n",
       "    </tr>\n",
       "    <tr>\n",
       "      <th>179</th>\n",
       "      <td>Newcastle Utd</td>\n",
       "      <td>NIR</td>\n",
       "      <td>1</td>\n",
       "    </tr>\n",
       "    <tr>\n",
       "      <th>180</th>\n",
       "      <td>Newcastle Utd</td>\n",
       "      <td>PAR</td>\n",
       "      <td>1</td>\n",
       "    </tr>\n",
       "    <tr>\n",
       "      <th>182</th>\n",
       "      <td>Newcastle Utd</td>\n",
       "      <td>SUI</td>\n",
       "      <td>1</td>\n",
       "    </tr>\n",
       "    <tr>\n",
       "      <th>183</th>\n",
       "      <td>Newcastle Utd</td>\n",
       "      <td>SVK</td>\n",
       "      <td>1</td>\n",
       "    </tr>\n",
       "    <tr>\n",
       "      <th>184</th>\n",
       "      <td>Newcastle Utd</td>\n",
       "      <td>SWE</td>\n",
       "      <td>1</td>\n",
       "    </tr>\n",
       "    <tr>\n",
       "      <th>185</th>\n",
       "      <td>Newcastle Utd</td>\n",
       "      <td>USA</td>\n",
       "      <td>1</td>\n",
       "    </tr>\n",
       "    <tr>\n",
       "      <th>186</th>\n",
       "      <td>Newcastle Utd</td>\n",
       "      <td>WAL</td>\n",
       "      <td>1</td>\n",
       "    </tr>\n",
       "    <tr>\n",
       "      <th>162</th>\n",
       "      <td>Manchester Utd</td>\n",
       "      <td>ENG</td>\n",
       "      <td>9</td>\n",
       "    </tr>\n",
       "    <tr>\n",
       "      <th>160</th>\n",
       "      <td>Manchester Utd</td>\n",
       "      <td>BRA</td>\n",
       "      <td>2</td>\n",
       "    </tr>\n",
       "    <tr>\n",
       "      <th>163</th>\n",
       "      <td>Manchester Utd</td>\n",
       "      <td>ESP</td>\n",
       "      <td>2</td>\n",
       "    </tr>\n",
       "    <tr>\n",
       "      <th>164</th>\n",
       "      <td>Manchester Utd</td>\n",
       "      <td>FRA</td>\n",
       "      <td>2</td>\n",
       "    </tr>\n",
       "    <tr>\n",
       "      <th>165</th>\n",
       "      <td>Manchester Utd</td>\n",
       "      <td>NED</td>\n",
       "      <td>2</td>\n",
       "    </tr>\n",
       "    <tr>\n",
       "      <th>161</th>\n",
       "      <td>Manchester Utd</td>\n",
       "      <td>CIV</td>\n",
       "      <td>1</td>\n",
       "    </tr>\n",
       "    <tr>\n",
       "      <th>166</th>\n",
       "      <td>Manchester Utd</td>\n",
       "      <td>NGA</td>\n",
       "      <td>1</td>\n",
       "    </tr>\n",
       "    <tr>\n",
       "      <th>167</th>\n",
       "      <td>Manchester Utd</td>\n",
       "      <td>POR</td>\n",
       "      <td>1</td>\n",
       "    </tr>\n",
       "    <tr>\n",
       "      <th>168</th>\n",
       "      <td>Manchester Utd</td>\n",
       "      <td>SCO</td>\n",
       "      <td>1</td>\n",
       "    </tr>\n",
       "    <tr>\n",
       "      <th>169</th>\n",
       "      <td>Manchester Utd</td>\n",
       "      <td>SRB</td>\n",
       "      <td>1</td>\n",
       "    </tr>\n",
       "    <tr>\n",
       "      <th>170</th>\n",
       "      <td>Manchester Utd</td>\n",
       "      <td>SWE</td>\n",
       "      <td>1</td>\n",
       "    </tr>\n",
       "    <tr>\n",
       "      <th>171</th>\n",
       "      <td>Manchester Utd</td>\n",
       "      <td>URU</td>\n",
       "      <td>1</td>\n",
       "    </tr>\n",
       "    <tr>\n",
       "      <th>172</th>\n",
       "      <td>Manchester Utd</td>\n",
       "      <td>WAL</td>\n",
       "      <td>1</td>\n",
       "    </tr>\n",
       "    <tr>\n",
       "      <th>152</th>\n",
       "      <td>Manchester City</td>\n",
       "      <td>ENG</td>\n",
       "      <td>5</td>\n",
       "    </tr>\n",
       "    <tr>\n",
       "      <th>151</th>\n",
       "      <td>Manchester City</td>\n",
       "      <td>BRA</td>\n",
       "      <td>3</td>\n",
       "    </tr>\n",
       "    <tr>\n",
       "      <th>153</th>\n",
       "      <td>Manchester City</td>\n",
       "      <td>ESP</td>\n",
       "      <td>3</td>\n",
       "    </tr>\n",
       "    <tr>\n",
       "      <th>157</th>\n",
       "      <td>Manchester City</td>\n",
       "      <td>POR</td>\n",
       "      <td>3</td>\n",
       "    </tr>\n",
       "    <tr>\n",
       "      <th>154</th>\n",
       "      <td>Manchester City</td>\n",
       "      <td>FRA</td>\n",
       "      <td>2</td>\n",
       "    </tr>\n",
       "    <tr>\n",
       "      <th>148</th>\n",
       "      <td>Manchester City</td>\n",
       "      <td>ALG</td>\n",
       "      <td>1</td>\n",
       "    </tr>\n",
       "    <tr>\n",
       "      <th>149</th>\n",
       "      <td>Manchester City</td>\n",
       "      <td>ARG</td>\n",
       "      <td>1</td>\n",
       "    </tr>\n",
       "    <tr>\n",
       "      <th>150</th>\n",
       "      <td>Manchester City</td>\n",
       "      <td>BEL</td>\n",
       "      <td>1</td>\n",
       "    </tr>\n",
       "    <tr>\n",
       "      <th>155</th>\n",
       "      <td>Manchester City</td>\n",
       "      <td>GER</td>\n",
       "      <td>1</td>\n",
       "    </tr>\n",
       "    <tr>\n",
       "      <th>156</th>\n",
       "      <td>Manchester City</td>\n",
       "      <td>NED</td>\n",
       "      <td>1</td>\n",
       "    </tr>\n",
       "    <tr>\n",
       "      <th>158</th>\n",
       "      <td>Manchester City</td>\n",
       "      <td>UKR</td>\n",
       "      <td>1</td>\n",
       "    </tr>\n",
       "    <tr>\n",
       "      <th>159</th>\n",
       "      <td>Manchester City</td>\n",
       "      <td>USA</td>\n",
       "      <td>1</td>\n",
       "    </tr>\n",
       "    <tr>\n",
       "      <th>135</th>\n",
       "      <td>Liverpool</td>\n",
       "      <td>ENG</td>\n",
       "      <td>8</td>\n",
       "    </tr>\n",
       "    <tr>\n",
       "      <th>132</th>\n",
       "      <td>Liverpool</td>\n",
       "      <td>BRA</td>\n",
       "      <td>3</td>\n",
       "    </tr>\n",
       "    <tr>\n",
       "      <th>136</th>\n",
       "      <td>Liverpool</td>\n",
       "      <td>ESP</td>\n",
       "      <td>2</td>\n",
       "    </tr>\n",
       "    <tr>\n",
       "      <th>141</th>\n",
       "      <td>Liverpool</td>\n",
       "      <td>NED</td>\n",
       "      <td>2</td>\n",
       "    </tr>\n",
       "    <tr>\n",
       "      <th>131</th>\n",
       "      <td>Liverpool</td>\n",
       "      <td>BEL</td>\n",
       "      <td>1</td>\n",
       "    </tr>\n",
       "    <tr>\n",
       "      <th>133</th>\n",
       "      <td>Liverpool</td>\n",
       "      <td>CMR</td>\n",
       "      <td>1</td>\n",
       "    </tr>\n",
       "    <tr>\n",
       "      <th>134</th>\n",
       "      <td>Liverpool</td>\n",
       "      <td>EGY</td>\n",
       "      <td>1</td>\n",
       "    </tr>\n",
       "    <tr>\n",
       "      <th>137</th>\n",
       "      <td>Liverpool</td>\n",
       "      <td>GRE</td>\n",
       "      <td>1</td>\n",
       "    </tr>\n",
       "    <tr>\n",
       "      <th>138</th>\n",
       "      <td>Liverpool</td>\n",
       "      <td>GUI</td>\n",
       "      <td>1</td>\n",
       "    </tr>\n",
       "    <tr>\n",
       "      <th>139</th>\n",
       "      <td>Liverpool</td>\n",
       "      <td>IRL</td>\n",
       "      <td>1</td>\n",
       "    </tr>\n",
       "    <tr>\n",
       "      <th>140</th>\n",
       "      <td>Liverpool</td>\n",
       "      <td>JPN</td>\n",
       "      <td>1</td>\n",
       "    </tr>\n",
       "    <tr>\n",
       "      <th>142</th>\n",
       "      <td>Liverpool</td>\n",
       "      <td>POR</td>\n",
       "      <td>1</td>\n",
       "    </tr>\n",
       "    <tr>\n",
       "      <th>143</th>\n",
       "      <td>Liverpool</td>\n",
       "      <td>SCO</td>\n",
       "      <td>1</td>\n",
       "    </tr>\n",
       "    <tr>\n",
       "      <th>144</th>\n",
       "      <td>Liverpool</td>\n",
       "      <td>SEN</td>\n",
       "      <td>1</td>\n",
       "    </tr>\n",
       "    <tr>\n",
       "      <th>145</th>\n",
       "      <td>Liverpool</td>\n",
       "      <td>SUI</td>\n",
       "      <td>1</td>\n",
       "    </tr>\n",
       "    <tr>\n",
       "      <th>146</th>\n",
       "      <td>Liverpool</td>\n",
       "      <td>TUR</td>\n",
       "      <td>1</td>\n",
       "    </tr>\n",
       "    <tr>\n",
       "      <th>147</th>\n",
       "      <td>Liverpool</td>\n",
       "      <td>WAL</td>\n",
       "      <td>1</td>\n",
       "    </tr>\n",
       "    <tr>\n",
       "      <th>120</th>\n",
       "      <td>Leicester City</td>\n",
       "      <td>ENG</td>\n",
       "      <td>8</td>\n",
       "    </tr>\n",
       "    <tr>\n",
       "      <th>118</th>\n",
       "      <td>Leicester City</td>\n",
       "      <td>BEL</td>\n",
       "      <td>3</td>\n",
       "    </tr>\n",
       "    <tr>\n",
       "      <th>125</th>\n",
       "      <td>Leicester City</td>\n",
       "      <td>NGA</td>\n",
       "      <td>2</td>\n",
       "    </tr>\n",
       "    <tr>\n",
       "      <th>127</th>\n",
       "      <td>Leicester City</td>\n",
       "      <td>POR</td>\n",
       "      <td>2</td>\n",
       "    </tr>\n",
       "    <tr>\n",
       "      <th>130</th>\n",
       "      <td>Leicester City</td>\n",
       "      <td>TUR</td>\n",
       "      <td>2</td>\n",
       "    </tr>\n",
       "    <tr>\n",
       "      <th>116</th>\n",
       "      <td>Leicester City</td>\n",
       "      <td>ALG</td>\n",
       "      <td>1</td>\n",
       "    </tr>\n",
       "    <tr>\n",
       "      <th>117</th>\n",
       "      <td>Leicester City</td>\n",
       "      <td>AUT</td>\n",
       "      <td>1</td>\n",
       "    </tr>\n",
       "    <tr>\n",
       "      <th>119</th>\n",
       "      <td>Leicester City</td>\n",
       "      <td>DEN</td>\n",
       "      <td>1</td>\n",
       "    </tr>\n",
       "    <tr>\n",
       "      <th>121</th>\n",
       "      <td>Leicester City</td>\n",
       "      <td>ESP</td>\n",
       "      <td>1</td>\n",
       "    </tr>\n",
       "    <tr>\n",
       "      <th>122</th>\n",
       "      <td>Leicester City</td>\n",
       "      <td>FRA</td>\n",
       "      <td>1</td>\n",
       "    </tr>\n",
       "    <tr>\n",
       "      <th>123</th>\n",
       "      <td>Leicester City</td>\n",
       "      <td>GHA</td>\n",
       "      <td>1</td>\n",
       "    </tr>\n",
       "    <tr>\n",
       "      <th>124</th>\n",
       "      <td>Leicester City</td>\n",
       "      <td>JAM</td>\n",
       "      <td>1</td>\n",
       "    </tr>\n",
       "    <tr>\n",
       "      <th>126</th>\n",
       "      <td>Leicester City</td>\n",
       "      <td>NIR</td>\n",
       "      <td>1</td>\n",
       "    </tr>\n",
       "    <tr>\n",
       "      <th>128</th>\n",
       "      <td>Leicester City</td>\n",
       "      <td>RSA</td>\n",
       "      <td>1</td>\n",
       "    </tr>\n",
       "    <tr>\n",
       "      <th>129</th>\n",
       "      <td>Leicester City</td>\n",
       "      <td>SEN</td>\n",
       "      <td>1</td>\n",
       "    </tr>\n",
       "    <tr>\n",
       "      <th>105</th>\n",
       "      <td>Leeds United</td>\n",
       "      <td>ENG</td>\n",
       "      <td>7</td>\n",
       "    </tr>\n",
       "    <tr>\n",
       "      <th>106</th>\n",
       "      <td>Leeds United</td>\n",
       "      <td>ESP</td>\n",
       "      <td>4</td>\n",
       "    </tr>\n",
       "    <tr>\n",
       "      <th>115</th>\n",
       "      <td>Leeds United</td>\n",
       "      <td>WAL</td>\n",
       "      <td>2</td>\n",
       "    </tr>\n",
       "    <tr>\n",
       "      <th>104</th>\n",
       "      <td>Leeds United</td>\n",
       "      <td>BRA</td>\n",
       "      <td>1</td>\n",
       "    </tr>\n",
       "    <tr>\n",
       "      <th>107</th>\n",
       "      <td>Leeds United</td>\n",
       "      <td>FRA</td>\n",
       "      <td>1</td>\n",
       "    </tr>\n",
       "    <tr>\n",
       "      <th>108</th>\n",
       "      <td>Leeds United</td>\n",
       "      <td>GER</td>\n",
       "      <td>1</td>\n",
       "    </tr>\n",
       "    <tr>\n",
       "      <th>109</th>\n",
       "      <td>Leeds United</td>\n",
       "      <td>MKD</td>\n",
       "      <td>1</td>\n",
       "    </tr>\n",
       "    <tr>\n",
       "      <th>110</th>\n",
       "      <td>Leeds United</td>\n",
       "      <td>NED</td>\n",
       "      <td>1</td>\n",
       "    </tr>\n",
       "    <tr>\n",
       "      <th>111</th>\n",
       "      <td>Leeds United</td>\n",
       "      <td>NIR</td>\n",
       "      <td>1</td>\n",
       "    </tr>\n",
       "    <tr>\n",
       "      <th>112</th>\n",
       "      <td>Leeds United</td>\n",
       "      <td>POL</td>\n",
       "      <td>1</td>\n",
       "    </tr>\n",
       "    <tr>\n",
       "      <th>113</th>\n",
       "      <td>Leeds United</td>\n",
       "      <td>POR</td>\n",
       "      <td>1</td>\n",
       "    </tr>\n",
       "    <tr>\n",
       "      <th>114</th>\n",
       "      <td>Leeds United</td>\n",
       "      <td>SCO</td>\n",
       "      <td>1</td>\n",
       "    </tr>\n",
       "    <tr>\n",
       "      <th>92</th>\n",
       "      <td>Fulham</td>\n",
       "      <td>ENG</td>\n",
       "      <td>6</td>\n",
       "    </tr>\n",
       "    <tr>\n",
       "      <th>93</th>\n",
       "      <td>Fulham</td>\n",
       "      <td>FRA</td>\n",
       "      <td>2</td>\n",
       "    </tr>\n",
       "    <tr>\n",
       "      <th>95</th>\n",
       "      <td>Fulham</td>\n",
       "      <td>JAM</td>\n",
       "      <td>2</td>\n",
       "    </tr>\n",
       "    <tr>\n",
       "      <th>98</th>\n",
       "      <td>Fulham</td>\n",
       "      <td>NGA</td>\n",
       "      <td>2</td>\n",
       "    </tr>\n",
       "    <tr>\n",
       "      <th>103</th>\n",
       "      <td>Fulham</td>\n",
       "      <td>USA</td>\n",
       "      <td>2</td>\n",
       "    </tr>\n",
       "    <tr>\n",
       "      <th>88</th>\n",
       "      <td>Fulham</td>\n",
       "      <td>BEL</td>\n",
       "      <td>1</td>\n",
       "    </tr>\n",
       "    <tr>\n",
       "      <th>89</th>\n",
       "      <td>Fulham</td>\n",
       "      <td>CMR</td>\n",
       "      <td>1</td>\n",
       "    </tr>\n",
       "    <tr>\n",
       "      <th>90</th>\n",
       "      <td>Fulham</td>\n",
       "      <td>COD</td>\n",
       "      <td>1</td>\n",
       "    </tr>\n",
       "    <tr>\n",
       "      <th>91</th>\n",
       "      <td>Fulham</td>\n",
       "      <td>DEN</td>\n",
       "      <td>1</td>\n",
       "    </tr>\n",
       "    <tr>\n",
       "      <th>94</th>\n",
       "      <td>Fulham</td>\n",
       "      <td>GAB</td>\n",
       "      <td>1</td>\n",
       "    </tr>\n",
       "    <tr>\n",
       "      <th>96</th>\n",
       "      <td>Fulham</td>\n",
       "      <td>MTN</td>\n",
       "      <td>1</td>\n",
       "    </tr>\n",
       "    <tr>\n",
       "      <th>97</th>\n",
       "      <td>Fulham</td>\n",
       "      <td>NED</td>\n",
       "      <td>1</td>\n",
       "    </tr>\n",
       "    <tr>\n",
       "      <th>99</th>\n",
       "      <td>Fulham</td>\n",
       "      <td>POR</td>\n",
       "      <td>1</td>\n",
       "    </tr>\n",
       "    <tr>\n",
       "      <th>100</th>\n",
       "      <td>Fulham</td>\n",
       "      <td>SCO</td>\n",
       "      <td>1</td>\n",
       "    </tr>\n",
       "    <tr>\n",
       "      <th>101</th>\n",
       "      <td>Fulham</td>\n",
       "      <td>SRB</td>\n",
       "      <td>1</td>\n",
       "    </tr>\n",
       "    <tr>\n",
       "      <th>102</th>\n",
       "      <td>Fulham</td>\n",
       "      <td>SVK</td>\n",
       "      <td>1</td>\n",
       "    </tr>\n",
       "    <tr>\n",
       "      <th>78</th>\n",
       "      <td>Everton</td>\n",
       "      <td>ENG</td>\n",
       "      <td>10</td>\n",
       "    </tr>\n",
       "    <tr>\n",
       "      <th>76</th>\n",
       "      <td>Everton</td>\n",
       "      <td>BRA</td>\n",
       "      <td>3</td>\n",
       "    </tr>\n",
       "    <tr>\n",
       "      <th>79</th>\n",
       "      <td>Everton</td>\n",
       "      <td>FRA</td>\n",
       "      <td>3</td>\n",
       "    </tr>\n",
       "    <tr>\n",
       "      <th>77</th>\n",
       "      <td>Everton</td>\n",
       "      <td>COL</td>\n",
       "      <td>2</td>\n",
       "    </tr>\n",
       "    <tr>\n",
       "      <th>85</th>\n",
       "      <td>Everton</td>\n",
       "      <td>POR</td>\n",
       "      <td>2</td>\n",
       "    </tr>\n",
       "    <tr>\n",
       "      <th>80</th>\n",
       "      <td>Everton</td>\n",
       "      <td>IRL</td>\n",
       "      <td>1</td>\n",
       "    </tr>\n",
       "    <tr>\n",
       "      <th>81</th>\n",
       "      <td>Everton</td>\n",
       "      <td>ISL</td>\n",
       "      <td>1</td>\n",
       "    </tr>\n",
       "    <tr>\n",
       "      <th>82</th>\n",
       "      <td>Everton</td>\n",
       "      <td>ITA</td>\n",
       "      <td>1</td>\n",
       "    </tr>\n",
       "    <tr>\n",
       "      <th>83</th>\n",
       "      <td>Everton</td>\n",
       "      <td>NGA</td>\n",
       "      <td>1</td>\n",
       "    </tr>\n",
       "    <tr>\n",
       "      <th>84</th>\n",
       "      <td>Everton</td>\n",
       "      <td>NOR</td>\n",
       "      <td>1</td>\n",
       "    </tr>\n",
       "    <tr>\n",
       "      <th>86</th>\n",
       "      <td>Everton</td>\n",
       "      <td>SWE</td>\n",
       "      <td>1</td>\n",
       "    </tr>\n",
       "    <tr>\n",
       "      <th>87</th>\n",
       "      <td>Everton</td>\n",
       "      <td>TUR</td>\n",
       "      <td>1</td>\n",
       "    </tr>\n",
       "    <tr>\n",
       "      <th>67</th>\n",
       "      <td>Crystal Palace</td>\n",
       "      <td>ENG</td>\n",
       "      <td>8</td>\n",
       "    </tr>\n",
       "    <tr>\n",
       "      <th>65</th>\n",
       "      <td>Crystal Palace</td>\n",
       "      <td>BEL</td>\n",
       "      <td>2</td>\n",
       "    </tr>\n",
       "    <tr>\n",
       "      <th>69</th>\n",
       "      <td>Crystal Palace</td>\n",
       "      <td>FRA</td>\n",
       "      <td>2</td>\n",
       "    </tr>\n",
       "    <tr>\n",
       "      <th>70</th>\n",
       "      <td>Crystal Palace</td>\n",
       "      <td>GHA</td>\n",
       "      <td>2</td>\n",
       "    </tr>\n",
       "    <tr>\n",
       "      <th>72</th>\n",
       "      <td>Crystal Palace</td>\n",
       "      <td>NED</td>\n",
       "      <td>2</td>\n",
       "    </tr>\n",
       "    <tr>\n",
       "      <th>66</th>\n",
       "      <td>Crystal Palace</td>\n",
       "      <td>CIV</td>\n",
       "      <td>1</td>\n",
       "    </tr>\n",
       "    <tr>\n",
       "      <th>68</th>\n",
       "      <td>Crystal Palace</td>\n",
       "      <td>ESP</td>\n",
       "      <td>1</td>\n",
       "    </tr>\n",
       "    <tr>\n",
       "      <th>71</th>\n",
       "      <td>Crystal Palace</td>\n",
       "      <td>IRL</td>\n",
       "      <td>1</td>\n",
       "    </tr>\n",
       "    <tr>\n",
       "      <th>73</th>\n",
       "      <td>Crystal Palace</td>\n",
       "      <td>SCO</td>\n",
       "      <td>1</td>\n",
       "    </tr>\n",
       "    <tr>\n",
       "      <th>74</th>\n",
       "      <td>Crystal Palace</td>\n",
       "      <td>SEN</td>\n",
       "      <td>1</td>\n",
       "    </tr>\n",
       "    <tr>\n",
       "      <th>75</th>\n",
       "      <td>Crystal Palace</td>\n",
       "      <td>SRB</td>\n",
       "      <td>1</td>\n",
       "    </tr>\n",
       "    <tr>\n",
       "      <th>56</th>\n",
       "      <td>Chelsea</td>\n",
       "      <td>ENG</td>\n",
       "      <td>8</td>\n",
       "    </tr>\n",
       "    <tr>\n",
       "      <th>57</th>\n",
       "      <td>Chelsea</td>\n",
       "      <td>ESP</td>\n",
       "      <td>3</td>\n",
       "    </tr>\n",
       "    <tr>\n",
       "      <th>58</th>\n",
       "      <td>Chelsea</td>\n",
       "      <td>FRA</td>\n",
       "      <td>3</td>\n",
       "    </tr>\n",
       "    <tr>\n",
       "      <th>59</th>\n",
       "      <td>Chelsea</td>\n",
       "      <td>GER</td>\n",
       "      <td>3</td>\n",
       "    </tr>\n",
       "    <tr>\n",
       "      <th>60</th>\n",
       "      <td>Chelsea</td>\n",
       "      <td>ITA</td>\n",
       "      <td>2</td>\n",
       "    </tr>\n",
       "    <tr>\n",
       "      <th>52</th>\n",
       "      <td>Chelsea</td>\n",
       "      <td>ARG</td>\n",
       "      <td>1</td>\n",
       "    </tr>\n",
       "    <tr>\n",
       "      <th>53</th>\n",
       "      <td>Chelsea</td>\n",
       "      <td>BRA</td>\n",
       "      <td>1</td>\n",
       "    </tr>\n",
       "    <tr>\n",
       "      <th>54</th>\n",
       "      <td>Chelsea</td>\n",
       "      <td>CRO</td>\n",
       "      <td>1</td>\n",
       "    </tr>\n",
       "    <tr>\n",
       "      <th>55</th>\n",
       "      <td>Chelsea</td>\n",
       "      <td>DEN</td>\n",
       "      <td>1</td>\n",
       "    </tr>\n",
       "    <tr>\n",
       "      <th>61</th>\n",
       "      <td>Chelsea</td>\n",
       "      <td>MAR</td>\n",
       "      <td>1</td>\n",
       "    </tr>\n",
       "    <tr>\n",
       "      <th>62</th>\n",
       "      <td>Chelsea</td>\n",
       "      <td>SCO</td>\n",
       "      <td>1</td>\n",
       "    </tr>\n",
       "    <tr>\n",
       "      <th>63</th>\n",
       "      <td>Chelsea</td>\n",
       "      <td>SEN</td>\n",
       "      <td>1</td>\n",
       "    </tr>\n",
       "    <tr>\n",
       "      <th>64</th>\n",
       "      <td>Chelsea</td>\n",
       "      <td>USA</td>\n",
       "      <td>1</td>\n",
       "    </tr>\n",
       "    <tr>\n",
       "      <th>44</th>\n",
       "      <td>Burnley</td>\n",
       "      <td>ENG</td>\n",
       "      <td>14</td>\n",
       "    </tr>\n",
       "    <tr>\n",
       "      <th>45</th>\n",
       "      <td>Burnley</td>\n",
       "      <td>IRL</td>\n",
       "      <td>3</td>\n",
       "    </tr>\n",
       "    <tr>\n",
       "      <th>43</th>\n",
       "      <td>Burnley</td>\n",
       "      <td>CZE</td>\n",
       "      <td>1</td>\n",
       "    </tr>\n",
       "    <tr>\n",
       "      <th>46</th>\n",
       "      <td>Burnley</td>\n",
       "      <td>ISL</td>\n",
       "      <td>1</td>\n",
       "    </tr>\n",
       "    <tr>\n",
       "      <th>47</th>\n",
       "      <td>Burnley</td>\n",
       "      <td>NED</td>\n",
       "      <td>1</td>\n",
       "    </tr>\n",
       "    <tr>\n",
       "      <th>48</th>\n",
       "      <td>Burnley</td>\n",
       "      <td>NIR</td>\n",
       "      <td>1</td>\n",
       "    </tr>\n",
       "    <tr>\n",
       "      <th>49</th>\n",
       "      <td>Burnley</td>\n",
       "      <td>NZL</td>\n",
       "      <td>1</td>\n",
       "    </tr>\n",
       "    <tr>\n",
       "      <th>50</th>\n",
       "      <td>Burnley</td>\n",
       "      <td>SCO</td>\n",
       "      <td>1</td>\n",
       "    </tr>\n",
       "    <tr>\n",
       "      <th>51</th>\n",
       "      <td>Burnley</td>\n",
       "      <td>SWE</td>\n",
       "      <td>1</td>\n",
       "    </tr>\n",
       "    <tr>\n",
       "      <th>32</th>\n",
       "      <td>Brighton</td>\n",
       "      <td>ENG</td>\n",
       "      <td>8</td>\n",
       "    </tr>\n",
       "    <tr>\n",
       "      <th>35</th>\n",
       "      <td>Brighton</td>\n",
       "      <td>GER</td>\n",
       "      <td>2</td>\n",
       "    </tr>\n",
       "    <tr>\n",
       "      <th>36</th>\n",
       "      <td>Brighton</td>\n",
       "      <td>IRL</td>\n",
       "      <td>2</td>\n",
       "    </tr>\n",
       "    <tr>\n",
       "      <th>39</th>\n",
       "      <td>Brighton</td>\n",
       "      <td>NED</td>\n",
       "      <td>2</td>\n",
       "    </tr>\n",
       "    <tr>\n",
       "      <th>27</th>\n",
       "      <td>Brighton</td>\n",
       "      <td>ARG</td>\n",
       "      <td>1</td>\n",
       "    </tr>\n",
       "    <tr>\n",
       "      <th>28</th>\n",
       "      <td>Brighton</td>\n",
       "      <td>AUS</td>\n",
       "      <td>1</td>\n",
       "    </tr>\n",
       "    <tr>\n",
       "      <th>29</th>\n",
       "      <td>Brighton</td>\n",
       "      <td>BEL</td>\n",
       "      <td>1</td>\n",
       "    </tr>\n",
       "    <tr>\n",
       "      <th>30</th>\n",
       "      <td>Brighton</td>\n",
       "      <td>BRA</td>\n",
       "      <td>1</td>\n",
       "    </tr>\n",
       "    <tr>\n",
       "      <th>31</th>\n",
       "      <td>Brighton</td>\n",
       "      <td>COL</td>\n",
       "      <td>1</td>\n",
       "    </tr>\n",
       "    <tr>\n",
       "      <th>33</th>\n",
       "      <td>Brighton</td>\n",
       "      <td>ESP</td>\n",
       "      <td>1</td>\n",
       "    </tr>\n",
       "    <tr>\n",
       "      <th>34</th>\n",
       "      <td>Brighton</td>\n",
       "      <td>FRA</td>\n",
       "      <td>1</td>\n",
       "    </tr>\n",
       "    <tr>\n",
       "      <th>37</th>\n",
       "      <td>Brighton</td>\n",
       "      <td>IRN</td>\n",
       "      <td>1</td>\n",
       "    </tr>\n",
       "    <tr>\n",
       "      <th>38</th>\n",
       "      <td>Brighton</td>\n",
       "      <td>MLI</td>\n",
       "      <td>1</td>\n",
       "    </tr>\n",
       "    <tr>\n",
       "      <th>40</th>\n",
       "      <td>Brighton</td>\n",
       "      <td>POL</td>\n",
       "      <td>1</td>\n",
       "    </tr>\n",
       "    <tr>\n",
       "      <th>41</th>\n",
       "      <td>Brighton</td>\n",
       "      <td>RSA</td>\n",
       "      <td>1</td>\n",
       "    </tr>\n",
       "    <tr>\n",
       "      <th>42</th>\n",
       "      <td>Brighton</td>\n",
       "      <td>SUI</td>\n",
       "      <td>1</td>\n",
       "    </tr>\n",
       "    <tr>\n",
       "      <th>20</th>\n",
       "      <td>Aston Villa</td>\n",
       "      <td>ENG</td>\n",
       "      <td>10</td>\n",
       "    </tr>\n",
       "    <tr>\n",
       "      <th>19</th>\n",
       "      <td>Aston Villa</td>\n",
       "      <td>EGY</td>\n",
       "      <td>2</td>\n",
       "    </tr>\n",
       "    <tr>\n",
       "      <th>16</th>\n",
       "      <td>Aston Villa</td>\n",
       "      <td>ARG</td>\n",
       "      <td>1</td>\n",
       "    </tr>\n",
       "    <tr>\n",
       "      <th>17</th>\n",
       "      <td>Aston Villa</td>\n",
       "      <td>BFA</td>\n",
       "      <td>1</td>\n",
       "    </tr>\n",
       "    <tr>\n",
       "      <th>18</th>\n",
       "      <td>Aston Villa</td>\n",
       "      <td>BRA</td>\n",
       "      <td>1</td>\n",
       "    </tr>\n",
       "    <tr>\n",
       "      <th>21</th>\n",
       "      <td>Aston Villa</td>\n",
       "      <td>FRA</td>\n",
       "      <td>1</td>\n",
       "    </tr>\n",
       "    <tr>\n",
       "      <th>22</th>\n",
       "      <td>Aston Villa</td>\n",
       "      <td>IRL</td>\n",
       "      <td>1</td>\n",
       "    </tr>\n",
       "    <tr>\n",
       "      <th>23</th>\n",
       "      <td>Aston Villa</td>\n",
       "      <td>NED</td>\n",
       "      <td>1</td>\n",
       "    </tr>\n",
       "    <tr>\n",
       "      <th>24</th>\n",
       "      <td>Aston Villa</td>\n",
       "      <td>SCO</td>\n",
       "      <td>1</td>\n",
       "    </tr>\n",
       "    <tr>\n",
       "      <th>25</th>\n",
       "      <td>Aston Villa</td>\n",
       "      <td>WAL</td>\n",
       "      <td>1</td>\n",
       "    </tr>\n",
       "    <tr>\n",
       "      <th>26</th>\n",
       "      <td>Aston Villa</td>\n",
       "      <td>ZIM</td>\n",
       "      <td>1</td>\n",
       "    </tr>\n",
       "    <tr>\n",
       "      <th>5</th>\n",
       "      <td>Arsenal</td>\n",
       "      <td>ENG</td>\n",
       "      <td>8</td>\n",
       "    </tr>\n",
       "    <tr>\n",
       "      <th>2</th>\n",
       "      <td>Arsenal</td>\n",
       "      <td>BRA</td>\n",
       "      <td>4</td>\n",
       "    </tr>\n",
       "    <tr>\n",
       "      <th>6</th>\n",
       "      <td>Arsenal</td>\n",
       "      <td>ESP</td>\n",
       "      <td>3</td>\n",
       "    </tr>\n",
       "    <tr>\n",
       "      <th>9</th>\n",
       "      <td>Arsenal</td>\n",
       "      <td>GER</td>\n",
       "      <td>2</td>\n",
       "    </tr>\n",
       "    <tr>\n",
       "      <th>0</th>\n",
       "      <td>Arsenal</td>\n",
       "      <td>AUS</td>\n",
       "      <td>1</td>\n",
       "    </tr>\n",
       "    <tr>\n",
       "      <th>1</th>\n",
       "      <td>Arsenal</td>\n",
       "      <td>BIH</td>\n",
       "      <td>1</td>\n",
       "    </tr>\n",
       "    <tr>\n",
       "      <th>3</th>\n",
       "      <td>Arsenal</td>\n",
       "      <td>CIV</td>\n",
       "      <td>1</td>\n",
       "    </tr>\n",
       "    <tr>\n",
       "      <th>4</th>\n",
       "      <td>Arsenal</td>\n",
       "      <td>EGY</td>\n",
       "      <td>1</td>\n",
       "    </tr>\n",
       "    <tr>\n",
       "      <th>7</th>\n",
       "      <td>Arsenal</td>\n",
       "      <td>FRA</td>\n",
       "      <td>1</td>\n",
       "    </tr>\n",
       "    <tr>\n",
       "      <th>8</th>\n",
       "      <td>Arsenal</td>\n",
       "      <td>GAB</td>\n",
       "      <td>1</td>\n",
       "    </tr>\n",
       "    <tr>\n",
       "      <th>10</th>\n",
       "      <td>Arsenal</td>\n",
       "      <td>GHA</td>\n",
       "      <td>1</td>\n",
       "    </tr>\n",
       "    <tr>\n",
       "      <th>11</th>\n",
       "      <td>Arsenal</td>\n",
       "      <td>ISL</td>\n",
       "      <td>1</td>\n",
       "    </tr>\n",
       "    <tr>\n",
       "      <th>12</th>\n",
       "      <td>Arsenal</td>\n",
       "      <td>NOR</td>\n",
       "      <td>1</td>\n",
       "    </tr>\n",
       "    <tr>\n",
       "      <th>13</th>\n",
       "      <td>Arsenal</td>\n",
       "      <td>POR</td>\n",
       "      <td>1</td>\n",
       "    </tr>\n",
       "    <tr>\n",
       "      <th>14</th>\n",
       "      <td>Arsenal</td>\n",
       "      <td>SCO</td>\n",
       "      <td>1</td>\n",
       "    </tr>\n",
       "    <tr>\n",
       "      <th>15</th>\n",
       "      <td>Arsenal</td>\n",
       "      <td>SUI</td>\n",
       "      <td>1</td>\n",
       "    </tr>\n",
       "  </tbody>\n",
       "</table>\n",
       "</div>"
      ],
      "text/plain": [
       "               Squad Nation  count\n",
       "258           Wolves    POR      9\n",
       "251           Wolves    ENG      4\n",
       "248           Wolves    BRA      2\n",
       "252           Wolves    ESP      2\n",
       "247           Wolves    BEL      1\n",
       "249           Wolves    CIV      1\n",
       "250           Wolves    DEN      1\n",
       "253           Wolves    FRA      1\n",
       "254           Wolves    ITA      1\n",
       "255           Wolves    MAR      1\n",
       "256           Wolves    MEX      1\n",
       "257           Wolves    NED      1\n",
       "259           Wolves    USA      1\n",
       "238         West Ham    ENG      9\n",
       "237         West Ham    CZE      2\n",
       "232         West Ham    ALG      1\n",
       "233         West Ham    ARG      1\n",
       "234         West Ham    BRA      1\n",
       "235         West Ham    CIV      1\n",
       "236         West Ham    COD      1\n",
       "239         West Ham    ESP      1\n",
       "240         West Ham    FRA      1\n",
       "241         West Ham    IRL      1\n",
       "242         West Ham    ITA      1\n",
       "243         West Ham    PAR      1\n",
       "244         West Ham    POL      1\n",
       "245         West Ham    SCO      1\n",
       "246         West Ham    UKR      1\n",
       "222        West Brom    ENG     16\n",
       "223        West Brom    IRL      2\n",
       "226        West Brom    SCO      2\n",
       "219        West Brom    BRA      1\n",
       "220        West Brom    CRO      1\n",
       "221        West Brom    EGY      1\n",
       "224        West Brom    NGA      1\n",
       "225        West Brom    POL      1\n",
       "227        West Brom    SEN      1\n",
       "228        West Brom    SKN      1\n",
       "229        West Brom    SRB      1\n",
       "230        West Brom    TUR      1\n",
       "231        West Brom    WAL      1\n",
       "212        Tottenham    ENG      6\n",
       "214        Tottenham    FRA      3\n",
       "218        Tottenham    WAL      3\n",
       "206        Tottenham    ARG      2\n",
       "208        Tottenham    BRA      2\n",
       "207        Tottenham    BEL      1\n",
       "209        Tottenham    CIV      1\n",
       "210        Tottenham    COL      1\n",
       "211        Tottenham    DEN      1\n",
       "213        Tottenham    ESP      1\n",
       "215        Tottenham    IRL      1\n",
       "216        Tottenham    KOR      1\n",
       "217        Tottenham    NED      1\n",
       "196      Southampton    ENG     13\n",
       "198      Southampton    FRA      3\n",
       "200      Southampton    IRL      3\n",
       "204      Southampton    SCO      2\n",
       "194      Southampton    AUS      1\n",
       "195      Southampton    DEN      1\n",
       "197      Southampton    ESP      1\n",
       "199      Southampton    GHA      1\n",
       "201      Southampton    JPN      1\n",
       "202      Southampton    MLI      1\n",
       "203      Southampton    POL      1\n",
       "205      Southampton    SUI      1\n",
       "187    Sheffield Utd    ENG     14\n",
       "189    Sheffield Utd    IRL      3\n",
       "192    Sheffield Utd    SCO      3\n",
       "188    Sheffield Utd    FRA      2\n",
       "190    Sheffield Utd    NIR      1\n",
       "191    Sheffield Utd    NOR      1\n",
       "193    Sheffield Utd    WAL      1\n",
       "175    Newcastle Utd    ENG     11\n",
       "181    Newcastle Utd    SCO      3\n",
       "178    Newcastle Utd    IRL      2\n",
       "173    Newcastle Utd    ARG      1\n",
       "174    Newcastle Utd    BRA      1\n",
       "176    Newcastle Utd    ESP      1\n",
       "177    Newcastle Utd    FRA      1\n",
       "179    Newcastle Utd    NIR      1\n",
       "180    Newcastle Utd    PAR      1\n",
       "182    Newcastle Utd    SUI      1\n",
       "183    Newcastle Utd    SVK      1\n",
       "184    Newcastle Utd    SWE      1\n",
       "185    Newcastle Utd    USA      1\n",
       "186    Newcastle Utd    WAL      1\n",
       "162   Manchester Utd    ENG      9\n",
       "160   Manchester Utd    BRA      2\n",
       "163   Manchester Utd    ESP      2\n",
       "164   Manchester Utd    FRA      2\n",
       "165   Manchester Utd    NED      2\n",
       "161   Manchester Utd    CIV      1\n",
       "166   Manchester Utd    NGA      1\n",
       "167   Manchester Utd    POR      1\n",
       "168   Manchester Utd    SCO      1\n",
       "169   Manchester Utd    SRB      1\n",
       "170   Manchester Utd    SWE      1\n",
       "171   Manchester Utd    URU      1\n",
       "172   Manchester Utd    WAL      1\n",
       "152  Manchester City    ENG      5\n",
       "151  Manchester City    BRA      3\n",
       "153  Manchester City    ESP      3\n",
       "157  Manchester City    POR      3\n",
       "154  Manchester City    FRA      2\n",
       "148  Manchester City    ALG      1\n",
       "149  Manchester City    ARG      1\n",
       "150  Manchester City    BEL      1\n",
       "155  Manchester City    GER      1\n",
       "156  Manchester City    NED      1\n",
       "158  Manchester City    UKR      1\n",
       "159  Manchester City    USA      1\n",
       "135        Liverpool    ENG      8\n",
       "132        Liverpool    BRA      3\n",
       "136        Liverpool    ESP      2\n",
       "141        Liverpool    NED      2\n",
       "131        Liverpool    BEL      1\n",
       "133        Liverpool    CMR      1\n",
       "134        Liverpool    EGY      1\n",
       "137        Liverpool    GRE      1\n",
       "138        Liverpool    GUI      1\n",
       "139        Liverpool    IRL      1\n",
       "140        Liverpool    JPN      1\n",
       "142        Liverpool    POR      1\n",
       "143        Liverpool    SCO      1\n",
       "144        Liverpool    SEN      1\n",
       "145        Liverpool    SUI      1\n",
       "146        Liverpool    TUR      1\n",
       "147        Liverpool    WAL      1\n",
       "120   Leicester City    ENG      8\n",
       "118   Leicester City    BEL      3\n",
       "125   Leicester City    NGA      2\n",
       "127   Leicester City    POR      2\n",
       "130   Leicester City    TUR      2\n",
       "116   Leicester City    ALG      1\n",
       "117   Leicester City    AUT      1\n",
       "119   Leicester City    DEN      1\n",
       "121   Leicester City    ESP      1\n",
       "122   Leicester City    FRA      1\n",
       "123   Leicester City    GHA      1\n",
       "124   Leicester City    JAM      1\n",
       "126   Leicester City    NIR      1\n",
       "128   Leicester City    RSA      1\n",
       "129   Leicester City    SEN      1\n",
       "105     Leeds United    ENG      7\n",
       "106     Leeds United    ESP      4\n",
       "115     Leeds United    WAL      2\n",
       "104     Leeds United    BRA      1\n",
       "107     Leeds United    FRA      1\n",
       "108     Leeds United    GER      1\n",
       "109     Leeds United    MKD      1\n",
       "110     Leeds United    NED      1\n",
       "111     Leeds United    NIR      1\n",
       "112     Leeds United    POL      1\n",
       "113     Leeds United    POR      1\n",
       "114     Leeds United    SCO      1\n",
       "92            Fulham    ENG      6\n",
       "93            Fulham    FRA      2\n",
       "95            Fulham    JAM      2\n",
       "98            Fulham    NGA      2\n",
       "103           Fulham    USA      2\n",
       "88            Fulham    BEL      1\n",
       "89            Fulham    CMR      1\n",
       "90            Fulham    COD      1\n",
       "91            Fulham    DEN      1\n",
       "94            Fulham    GAB      1\n",
       "96            Fulham    MTN      1\n",
       "97            Fulham    NED      1\n",
       "99            Fulham    POR      1\n",
       "100           Fulham    SCO      1\n",
       "101           Fulham    SRB      1\n",
       "102           Fulham    SVK      1\n",
       "78           Everton    ENG     10\n",
       "76           Everton    BRA      3\n",
       "79           Everton    FRA      3\n",
       "77           Everton    COL      2\n",
       "85           Everton    POR      2\n",
       "80           Everton    IRL      1\n",
       "81           Everton    ISL      1\n",
       "82           Everton    ITA      1\n",
       "83           Everton    NGA      1\n",
       "84           Everton    NOR      1\n",
       "86           Everton    SWE      1\n",
       "87           Everton    TUR      1\n",
       "67    Crystal Palace    ENG      8\n",
       "65    Crystal Palace    BEL      2\n",
       "69    Crystal Palace    FRA      2\n",
       "70    Crystal Palace    GHA      2\n",
       "72    Crystal Palace    NED      2\n",
       "66    Crystal Palace    CIV      1\n",
       "68    Crystal Palace    ESP      1\n",
       "71    Crystal Palace    IRL      1\n",
       "73    Crystal Palace    SCO      1\n",
       "74    Crystal Palace    SEN      1\n",
       "75    Crystal Palace    SRB      1\n",
       "56           Chelsea    ENG      8\n",
       "57           Chelsea    ESP      3\n",
       "58           Chelsea    FRA      3\n",
       "59           Chelsea    GER      3\n",
       "60           Chelsea    ITA      2\n",
       "52           Chelsea    ARG      1\n",
       "53           Chelsea    BRA      1\n",
       "54           Chelsea    CRO      1\n",
       "55           Chelsea    DEN      1\n",
       "61           Chelsea    MAR      1\n",
       "62           Chelsea    SCO      1\n",
       "63           Chelsea    SEN      1\n",
       "64           Chelsea    USA      1\n",
       "44           Burnley    ENG     14\n",
       "45           Burnley    IRL      3\n",
       "43           Burnley    CZE      1\n",
       "46           Burnley    ISL      1\n",
       "47           Burnley    NED      1\n",
       "48           Burnley    NIR      1\n",
       "49           Burnley    NZL      1\n",
       "50           Burnley    SCO      1\n",
       "51           Burnley    SWE      1\n",
       "32          Brighton    ENG      8\n",
       "35          Brighton    GER      2\n",
       "36          Brighton    IRL      2\n",
       "39          Brighton    NED      2\n",
       "27          Brighton    ARG      1\n",
       "28          Brighton    AUS      1\n",
       "29          Brighton    BEL      1\n",
       "30          Brighton    BRA      1\n",
       "31          Brighton    COL      1\n",
       "33          Brighton    ESP      1\n",
       "34          Brighton    FRA      1\n",
       "37          Brighton    IRN      1\n",
       "38          Brighton    MLI      1\n",
       "40          Brighton    POL      1\n",
       "41          Brighton    RSA      1\n",
       "42          Brighton    SUI      1\n",
       "20       Aston Villa    ENG     10\n",
       "19       Aston Villa    EGY      2\n",
       "16       Aston Villa    ARG      1\n",
       "17       Aston Villa    BFA      1\n",
       "18       Aston Villa    BRA      1\n",
       "21       Aston Villa    FRA      1\n",
       "22       Aston Villa    IRL      1\n",
       "23       Aston Villa    NED      1\n",
       "24       Aston Villa    SCO      1\n",
       "25       Aston Villa    WAL      1\n",
       "26       Aston Villa    ZIM      1\n",
       "5            Arsenal    ENG      8\n",
       "2            Arsenal    BRA      4\n",
       "6            Arsenal    ESP      3\n",
       "9            Arsenal    GER      2\n",
       "0            Arsenal    AUS      1\n",
       "1            Arsenal    BIH      1\n",
       "3            Arsenal    CIV      1\n",
       "4            Arsenal    EGY      1\n",
       "7            Arsenal    FRA      1\n",
       "8            Arsenal    GAB      1\n",
       "10           Arsenal    GHA      1\n",
       "11           Arsenal    ISL      1\n",
       "12           Arsenal    NOR      1\n",
       "13           Arsenal    POR      1\n",
       "14           Arsenal    SCO      1\n",
       "15           Arsenal    SUI      1"
      ]
     },
     "execution_count": 94,
     "metadata": {},
     "output_type": "execute_result"
    }
   ],
   "source": [
    "df_nation"
   ]
  },
  {
   "cell_type": "code",
   "execution_count": 98,
   "metadata": {},
   "outputs": [
    {
     "data": {
      "application/vnd.plotly.v1+json": {
       "config": {
        "plotlyServerURL": "https://plot.ly"
       },
       "data": [
        {
         "alignmentgroup": "True",
         "customdata": [
          [
           "Wolves"
          ],
          [
           "Manchester Utd"
          ],
          [
           "Manchester City"
          ],
          [
           "Liverpool"
          ],
          [
           "Leicester City"
          ],
          [
           "Leeds United"
          ],
          [
           "Fulham"
          ],
          [
           "Everton"
          ],
          [
           "Arsenal"
          ]
         ],
         "hovertemplate": "Nation=POR<br>Squad=%{customdata[0]}<br>count=%{y}<extra></extra>",
         "legendgroup": "POR",
         "marker": {
          "color": "#636efa"
         },
         "name": "POR",
         "offsetgroup": "POR",
         "orientation": "v",
         "showlegend": true,
         "textposition": "auto",
         "type": "bar",
         "x": [
          "Wolves",
          "Manchester Utd",
          "Manchester City",
          "Liverpool",
          "Leicester City",
          "Leeds United",
          "Fulham",
          "Everton",
          "Arsenal"
         ],
         "xaxis": "x",
         "y": [
          9,
          1,
          3,
          1,
          2,
          1,
          1,
          2,
          1
         ],
         "yaxis": "y"
        },
        {
         "alignmentgroup": "True",
         "customdata": [
          [
           "Wolves"
          ],
          [
           "West Ham"
          ],
          [
           "West Brom"
          ],
          [
           "Tottenham"
          ],
          [
           "Southampton"
          ],
          [
           "Sheffield Utd"
          ],
          [
           "Newcastle Utd"
          ],
          [
           "Manchester Utd"
          ],
          [
           "Manchester City"
          ],
          [
           "Liverpool"
          ],
          [
           "Leicester City"
          ],
          [
           "Leeds United"
          ],
          [
           "Fulham"
          ],
          [
           "Everton"
          ],
          [
           "Crystal Palace"
          ],
          [
           "Chelsea"
          ],
          [
           "Burnley"
          ],
          [
           "Brighton"
          ],
          [
           "Aston Villa"
          ],
          [
           "Arsenal"
          ]
         ],
         "hovertemplate": "Nation=ENG<br>Squad=%{customdata[0]}<br>count=%{y}<extra></extra>",
         "legendgroup": "ENG",
         "marker": {
          "color": "#EF553B"
         },
         "name": "ENG",
         "offsetgroup": "ENG",
         "orientation": "v",
         "showlegend": true,
         "textposition": "auto",
         "type": "bar",
         "x": [
          "Wolves",
          "West Ham",
          "West Brom",
          "Tottenham",
          "Southampton",
          "Sheffield Utd",
          "Newcastle Utd",
          "Manchester Utd",
          "Manchester City",
          "Liverpool",
          "Leicester City",
          "Leeds United",
          "Fulham",
          "Everton",
          "Crystal Palace",
          "Chelsea",
          "Burnley",
          "Brighton",
          "Aston Villa",
          "Arsenal"
         ],
         "xaxis": "x",
         "y": [
          4,
          9,
          16,
          6,
          13,
          14,
          11,
          9,
          5,
          8,
          8,
          7,
          6,
          10,
          8,
          8,
          14,
          8,
          10,
          8
         ],
         "yaxis": "y"
        },
        {
         "alignmentgroup": "True",
         "customdata": [
          [
           "Wolves"
          ],
          [
           "West Ham"
          ],
          [
           "West Brom"
          ],
          [
           "Tottenham"
          ],
          [
           "Newcastle Utd"
          ],
          [
           "Manchester Utd"
          ],
          [
           "Manchester City"
          ],
          [
           "Liverpool"
          ],
          [
           "Leeds United"
          ],
          [
           "Everton"
          ],
          [
           "Chelsea"
          ],
          [
           "Brighton"
          ],
          [
           "Aston Villa"
          ],
          [
           "Arsenal"
          ]
         ],
         "hovertemplate": "Nation=BRA<br>Squad=%{customdata[0]}<br>count=%{y}<extra></extra>",
         "legendgroup": "BRA",
         "marker": {
          "color": "#00cc96"
         },
         "name": "BRA",
         "offsetgroup": "BRA",
         "orientation": "v",
         "showlegend": true,
         "textposition": "auto",
         "type": "bar",
         "x": [
          "Wolves",
          "West Ham",
          "West Brom",
          "Tottenham",
          "Newcastle Utd",
          "Manchester Utd",
          "Manchester City",
          "Liverpool",
          "Leeds United",
          "Everton",
          "Chelsea",
          "Brighton",
          "Aston Villa",
          "Arsenal"
         ],
         "xaxis": "x",
         "y": [
          2,
          1,
          1,
          2,
          1,
          2,
          3,
          3,
          1,
          3,
          1,
          1,
          1,
          4
         ],
         "yaxis": "y"
        },
        {
         "alignmentgroup": "True",
         "customdata": [
          [
           "Wolves"
          ],
          [
           "West Ham"
          ],
          [
           "Tottenham"
          ],
          [
           "Southampton"
          ],
          [
           "Newcastle Utd"
          ],
          [
           "Manchester Utd"
          ],
          [
           "Manchester City"
          ],
          [
           "Liverpool"
          ],
          [
           "Leicester City"
          ],
          [
           "Leeds United"
          ],
          [
           "Crystal Palace"
          ],
          [
           "Chelsea"
          ],
          [
           "Brighton"
          ],
          [
           "Arsenal"
          ]
         ],
         "hovertemplate": "Nation=ESP<br>Squad=%{customdata[0]}<br>count=%{y}<extra></extra>",
         "legendgroup": "ESP",
         "marker": {
          "color": "#ab63fa"
         },
         "name": "ESP",
         "offsetgroup": "ESP",
         "orientation": "v",
         "showlegend": true,
         "textposition": "auto",
         "type": "bar",
         "x": [
          "Wolves",
          "West Ham",
          "Tottenham",
          "Southampton",
          "Newcastle Utd",
          "Manchester Utd",
          "Manchester City",
          "Liverpool",
          "Leicester City",
          "Leeds United",
          "Crystal Palace",
          "Chelsea",
          "Brighton",
          "Arsenal"
         ],
         "xaxis": "x",
         "y": [
          2,
          1,
          1,
          1,
          1,
          2,
          3,
          2,
          1,
          4,
          1,
          3,
          1,
          3
         ],
         "yaxis": "y"
        },
        {
         "alignmentgroup": "True",
         "customdata": [
          [
           "Wolves"
          ],
          [
           "Tottenham"
          ],
          [
           "Manchester City"
          ],
          [
           "Liverpool"
          ],
          [
           "Leicester City"
          ],
          [
           "Fulham"
          ],
          [
           "Crystal Palace"
          ],
          [
           "Brighton"
          ]
         ],
         "hovertemplate": "Nation=BEL<br>Squad=%{customdata[0]}<br>count=%{y}<extra></extra>",
         "legendgroup": "BEL",
         "marker": {
          "color": "#FFA15A"
         },
         "name": "BEL",
         "offsetgroup": "BEL",
         "orientation": "v",
         "showlegend": true,
         "textposition": "auto",
         "type": "bar",
         "x": [
          "Wolves",
          "Tottenham",
          "Manchester City",
          "Liverpool",
          "Leicester City",
          "Fulham",
          "Crystal Palace",
          "Brighton"
         ],
         "xaxis": "x",
         "y": [
          1,
          1,
          1,
          1,
          3,
          1,
          2,
          1
         ],
         "yaxis": "y"
        },
        {
         "alignmentgroup": "True",
         "customdata": [
          [
           "Wolves"
          ],
          [
           "West Ham"
          ],
          [
           "Tottenham"
          ],
          [
           "Manchester Utd"
          ],
          [
           "Crystal Palace"
          ],
          [
           "Arsenal"
          ]
         ],
         "hovertemplate": "Nation=CIV<br>Squad=%{customdata[0]}<br>count=%{y}<extra></extra>",
         "legendgroup": "CIV",
         "marker": {
          "color": "#19d3f3"
         },
         "name": "CIV",
         "offsetgroup": "CIV",
         "orientation": "v",
         "showlegend": true,
         "textposition": "auto",
         "type": "bar",
         "x": [
          "Wolves",
          "West Ham",
          "Tottenham",
          "Manchester Utd",
          "Crystal Palace",
          "Arsenal"
         ],
         "xaxis": "x",
         "y": [
          1,
          1,
          1,
          1,
          1,
          1
         ],
         "yaxis": "y"
        },
        {
         "alignmentgroup": "True",
         "customdata": [
          [
           "Wolves"
          ],
          [
           "Tottenham"
          ],
          [
           "Southampton"
          ],
          [
           "Leicester City"
          ],
          [
           "Fulham"
          ],
          [
           "Chelsea"
          ]
         ],
         "hovertemplate": "Nation=DEN<br>Squad=%{customdata[0]}<br>count=%{y}<extra></extra>",
         "legendgroup": "DEN",
         "marker": {
          "color": "#FF6692"
         },
         "name": "DEN",
         "offsetgroup": "DEN",
         "orientation": "v",
         "showlegend": true,
         "textposition": "auto",
         "type": "bar",
         "x": [
          "Wolves",
          "Tottenham",
          "Southampton",
          "Leicester City",
          "Fulham",
          "Chelsea"
         ],
         "xaxis": "x",
         "y": [
          1,
          1,
          1,
          1,
          1,
          1
         ],
         "yaxis": "y"
        },
        {
         "alignmentgroup": "True",
         "customdata": [
          [
           "Wolves"
          ],
          [
           "West Ham"
          ],
          [
           "Tottenham"
          ],
          [
           "Southampton"
          ],
          [
           "Sheffield Utd"
          ],
          [
           "Newcastle Utd"
          ],
          [
           "Manchester Utd"
          ],
          [
           "Manchester City"
          ],
          [
           "Leicester City"
          ],
          [
           "Leeds United"
          ],
          [
           "Fulham"
          ],
          [
           "Everton"
          ],
          [
           "Crystal Palace"
          ],
          [
           "Chelsea"
          ],
          [
           "Brighton"
          ],
          [
           "Aston Villa"
          ],
          [
           "Arsenal"
          ]
         ],
         "hovertemplate": "Nation=FRA<br>Squad=%{customdata[0]}<br>count=%{y}<extra></extra>",
         "legendgroup": "FRA",
         "marker": {
          "color": "#B6E880"
         },
         "name": "FRA",
         "offsetgroup": "FRA",
         "orientation": "v",
         "showlegend": true,
         "textposition": "auto",
         "type": "bar",
         "x": [
          "Wolves",
          "West Ham",
          "Tottenham",
          "Southampton",
          "Sheffield Utd",
          "Newcastle Utd",
          "Manchester Utd",
          "Manchester City",
          "Leicester City",
          "Leeds United",
          "Fulham",
          "Everton",
          "Crystal Palace",
          "Chelsea",
          "Brighton",
          "Aston Villa",
          "Arsenal"
         ],
         "xaxis": "x",
         "y": [
          1,
          1,
          3,
          3,
          2,
          1,
          2,
          2,
          1,
          1,
          2,
          3,
          2,
          3,
          1,
          1,
          1
         ],
         "yaxis": "y"
        },
        {
         "alignmentgroup": "True",
         "customdata": [
          [
           "Wolves"
          ],
          [
           "West Ham"
          ],
          [
           "Everton"
          ],
          [
           "Chelsea"
          ]
         ],
         "hovertemplate": "Nation=ITA<br>Squad=%{customdata[0]}<br>count=%{y}<extra></extra>",
         "legendgroup": "ITA",
         "marker": {
          "color": "#FF97FF"
         },
         "name": "ITA",
         "offsetgroup": "ITA",
         "orientation": "v",
         "showlegend": true,
         "textposition": "auto",
         "type": "bar",
         "x": [
          "Wolves",
          "West Ham",
          "Everton",
          "Chelsea"
         ],
         "xaxis": "x",
         "y": [
          1,
          1,
          1,
          2
         ],
         "yaxis": "y"
        },
        {
         "alignmentgroup": "True",
         "customdata": [
          [
           "Wolves"
          ],
          [
           "Chelsea"
          ]
         ],
         "hovertemplate": "Nation=MAR<br>Squad=%{customdata[0]}<br>count=%{y}<extra></extra>",
         "legendgroup": "MAR",
         "marker": {
          "color": "#FECB52"
         },
         "name": "MAR",
         "offsetgroup": "MAR",
         "orientation": "v",
         "showlegend": true,
         "textposition": "auto",
         "type": "bar",
         "x": [
          "Wolves",
          "Chelsea"
         ],
         "xaxis": "x",
         "y": [
          1,
          1
         ],
         "yaxis": "y"
        },
        {
         "alignmentgroup": "True",
         "customdata": [
          [
           "Wolves"
          ]
         ],
         "hovertemplate": "Nation=MEX<br>Squad=%{customdata[0]}<br>count=%{y}<extra></extra>",
         "legendgroup": "MEX",
         "marker": {
          "color": "#636efa"
         },
         "name": "MEX",
         "offsetgroup": "MEX",
         "orientation": "v",
         "showlegend": true,
         "textposition": "auto",
         "type": "bar",
         "x": [
          "Wolves"
         ],
         "xaxis": "x",
         "y": [
          1
         ],
         "yaxis": "y"
        },
        {
         "alignmentgroup": "True",
         "customdata": [
          [
           "Wolves"
          ],
          [
           "Tottenham"
          ],
          [
           "Manchester Utd"
          ],
          [
           "Manchester City"
          ],
          [
           "Liverpool"
          ],
          [
           "Leeds United"
          ],
          [
           "Fulham"
          ],
          [
           "Crystal Palace"
          ],
          [
           "Burnley"
          ],
          [
           "Brighton"
          ],
          [
           "Aston Villa"
          ]
         ],
         "hovertemplate": "Nation=NED<br>Squad=%{customdata[0]}<br>count=%{y}<extra></extra>",
         "legendgroup": "NED",
         "marker": {
          "color": "#EF553B"
         },
         "name": "NED",
         "offsetgroup": "NED",
         "orientation": "v",
         "showlegend": true,
         "textposition": "auto",
         "type": "bar",
         "x": [
          "Wolves",
          "Tottenham",
          "Manchester Utd",
          "Manchester City",
          "Liverpool",
          "Leeds United",
          "Fulham",
          "Crystal Palace",
          "Burnley",
          "Brighton",
          "Aston Villa"
         ],
         "xaxis": "x",
         "y": [
          1,
          1,
          2,
          1,
          2,
          1,
          1,
          2,
          1,
          2,
          1
         ],
         "yaxis": "y"
        },
        {
         "alignmentgroup": "True",
         "customdata": [
          [
           "Wolves"
          ],
          [
           "Newcastle Utd"
          ],
          [
           "Manchester City"
          ],
          [
           "Fulham"
          ],
          [
           "Chelsea"
          ]
         ],
         "hovertemplate": "Nation=USA<br>Squad=%{customdata[0]}<br>count=%{y}<extra></extra>",
         "legendgroup": "USA",
         "marker": {
          "color": "#00cc96"
         },
         "name": "USA",
         "offsetgroup": "USA",
         "orientation": "v",
         "showlegend": true,
         "textposition": "auto",
         "type": "bar",
         "x": [
          "Wolves",
          "Newcastle Utd",
          "Manchester City",
          "Fulham",
          "Chelsea"
         ],
         "xaxis": "x",
         "y": [
          1,
          1,
          1,
          2,
          1
         ],
         "yaxis": "y"
        },
        {
         "alignmentgroup": "True",
         "customdata": [
          [
           "West Ham"
          ],
          [
           "Burnley"
          ]
         ],
         "hovertemplate": "Nation=CZE<br>Squad=%{customdata[0]}<br>count=%{y}<extra></extra>",
         "legendgroup": "CZE",
         "marker": {
          "color": "#ab63fa"
         },
         "name": "CZE",
         "offsetgroup": "CZE",
         "orientation": "v",
         "showlegend": true,
         "textposition": "auto",
         "type": "bar",
         "x": [
          "West Ham",
          "Burnley"
         ],
         "xaxis": "x",
         "y": [
          2,
          1
         ],
         "yaxis": "y"
        },
        {
         "alignmentgroup": "True",
         "customdata": [
          [
           "West Ham"
          ],
          [
           "Manchester City"
          ],
          [
           "Leicester City"
          ]
         ],
         "hovertemplate": "Nation=ALG<br>Squad=%{customdata[0]}<br>count=%{y}<extra></extra>",
         "legendgroup": "ALG",
         "marker": {
          "color": "#FFA15A"
         },
         "name": "ALG",
         "offsetgroup": "ALG",
         "orientation": "v",
         "showlegend": true,
         "textposition": "auto",
         "type": "bar",
         "x": [
          "West Ham",
          "Manchester City",
          "Leicester City"
         ],
         "xaxis": "x",
         "y": [
          1,
          1,
          1
         ],
         "yaxis": "y"
        },
        {
         "alignmentgroup": "True",
         "customdata": [
          [
           "West Ham"
          ],
          [
           "Tottenham"
          ],
          [
           "Newcastle Utd"
          ],
          [
           "Manchester City"
          ],
          [
           "Chelsea"
          ],
          [
           "Brighton"
          ],
          [
           "Aston Villa"
          ]
         ],
         "hovertemplate": "Nation=ARG<br>Squad=%{customdata[0]}<br>count=%{y}<extra></extra>",
         "legendgroup": "ARG",
         "marker": {
          "color": "#19d3f3"
         },
         "name": "ARG",
         "offsetgroup": "ARG",
         "orientation": "v",
         "showlegend": true,
         "textposition": "auto",
         "type": "bar",
         "x": [
          "West Ham",
          "Tottenham",
          "Newcastle Utd",
          "Manchester City",
          "Chelsea",
          "Brighton",
          "Aston Villa"
         ],
         "xaxis": "x",
         "y": [
          1,
          2,
          1,
          1,
          1,
          1,
          1
         ],
         "yaxis": "y"
        },
        {
         "alignmentgroup": "True",
         "customdata": [
          [
           "West Ham"
          ],
          [
           "Fulham"
          ]
         ],
         "hovertemplate": "Nation=COD<br>Squad=%{customdata[0]}<br>count=%{y}<extra></extra>",
         "legendgroup": "COD",
         "marker": {
          "color": "#FF6692"
         },
         "name": "COD",
         "offsetgroup": "COD",
         "orientation": "v",
         "showlegend": true,
         "textposition": "auto",
         "type": "bar",
         "x": [
          "West Ham",
          "Fulham"
         ],
         "xaxis": "x",
         "y": [
          1,
          1
         ],
         "yaxis": "y"
        },
        {
         "alignmentgroup": "True",
         "customdata": [
          [
           "West Ham"
          ],
          [
           "West Brom"
          ],
          [
           "Tottenham"
          ],
          [
           "Southampton"
          ],
          [
           "Sheffield Utd"
          ],
          [
           "Newcastle Utd"
          ],
          [
           "Liverpool"
          ],
          [
           "Everton"
          ],
          [
           "Crystal Palace"
          ],
          [
           "Burnley"
          ],
          [
           "Brighton"
          ],
          [
           "Aston Villa"
          ]
         ],
         "hovertemplate": "Nation=IRL<br>Squad=%{customdata[0]}<br>count=%{y}<extra></extra>",
         "legendgroup": "IRL",
         "marker": {
          "color": "#B6E880"
         },
         "name": "IRL",
         "offsetgroup": "IRL",
         "orientation": "v",
         "showlegend": true,
         "textposition": "auto",
         "type": "bar",
         "x": [
          "West Ham",
          "West Brom",
          "Tottenham",
          "Southampton",
          "Sheffield Utd",
          "Newcastle Utd",
          "Liverpool",
          "Everton",
          "Crystal Palace",
          "Burnley",
          "Brighton",
          "Aston Villa"
         ],
         "xaxis": "x",
         "y": [
          1,
          2,
          1,
          3,
          3,
          2,
          1,
          1,
          1,
          3,
          2,
          1
         ],
         "yaxis": "y"
        },
        {
         "alignmentgroup": "True",
         "customdata": [
          [
           "West Ham"
          ],
          [
           "Newcastle Utd"
          ]
         ],
         "hovertemplate": "Nation=PAR<br>Squad=%{customdata[0]}<br>count=%{y}<extra></extra>",
         "legendgroup": "PAR",
         "marker": {
          "color": "#FF97FF"
         },
         "name": "PAR",
         "offsetgroup": "PAR",
         "orientation": "v",
         "showlegend": true,
         "textposition": "auto",
         "type": "bar",
         "x": [
          "West Ham",
          "Newcastle Utd"
         ],
         "xaxis": "x",
         "y": [
          1,
          1
         ],
         "yaxis": "y"
        },
        {
         "alignmentgroup": "True",
         "customdata": [
          [
           "West Ham"
          ],
          [
           "West Brom"
          ],
          [
           "Southampton"
          ],
          [
           "Leeds United"
          ],
          [
           "Brighton"
          ]
         ],
         "hovertemplate": "Nation=POL<br>Squad=%{customdata[0]}<br>count=%{y}<extra></extra>",
         "legendgroup": "POL",
         "marker": {
          "color": "#FECB52"
         },
         "name": "POL",
         "offsetgroup": "POL",
         "orientation": "v",
         "showlegend": true,
         "textposition": "auto",
         "type": "bar",
         "x": [
          "West Ham",
          "West Brom",
          "Southampton",
          "Leeds United",
          "Brighton"
         ],
         "xaxis": "x",
         "y": [
          1,
          1,
          1,
          1,
          1
         ],
         "yaxis": "y"
        },
        {
         "alignmentgroup": "True",
         "customdata": [
          [
           "West Ham"
          ],
          [
           "West Brom"
          ],
          [
           "Southampton"
          ],
          [
           "Sheffield Utd"
          ],
          [
           "Newcastle Utd"
          ],
          [
           "Manchester Utd"
          ],
          [
           "Liverpool"
          ],
          [
           "Leeds United"
          ],
          [
           "Fulham"
          ],
          [
           "Crystal Palace"
          ],
          [
           "Chelsea"
          ],
          [
           "Burnley"
          ],
          [
           "Aston Villa"
          ],
          [
           "Arsenal"
          ]
         ],
         "hovertemplate": "Nation=SCO<br>Squad=%{customdata[0]}<br>count=%{y}<extra></extra>",
         "legendgroup": "SCO",
         "marker": {
          "color": "#636efa"
         },
         "name": "SCO",
         "offsetgroup": "SCO",
         "orientation": "v",
         "showlegend": true,
         "textposition": "auto",
         "type": "bar",
         "x": [
          "West Ham",
          "West Brom",
          "Southampton",
          "Sheffield Utd",
          "Newcastle Utd",
          "Manchester Utd",
          "Liverpool",
          "Leeds United",
          "Fulham",
          "Crystal Palace",
          "Chelsea",
          "Burnley",
          "Aston Villa",
          "Arsenal"
         ],
         "xaxis": "x",
         "y": [
          1,
          2,
          2,
          3,
          3,
          1,
          1,
          1,
          1,
          1,
          1,
          1,
          1,
          1
         ],
         "yaxis": "y"
        },
        {
         "alignmentgroup": "True",
         "customdata": [
          [
           "West Ham"
          ],
          [
           "Manchester City"
          ]
         ],
         "hovertemplate": "Nation=UKR<br>Squad=%{customdata[0]}<br>count=%{y}<extra></extra>",
         "legendgroup": "UKR",
         "marker": {
          "color": "#EF553B"
         },
         "name": "UKR",
         "offsetgroup": "UKR",
         "orientation": "v",
         "showlegend": true,
         "textposition": "auto",
         "type": "bar",
         "x": [
          "West Ham",
          "Manchester City"
         ],
         "xaxis": "x",
         "y": [
          1,
          1
         ],
         "yaxis": "y"
        },
        {
         "alignmentgroup": "True",
         "customdata": [
          [
           "West Brom"
          ],
          [
           "Chelsea"
          ]
         ],
         "hovertemplate": "Nation=CRO<br>Squad=%{customdata[0]}<br>count=%{y}<extra></extra>",
         "legendgroup": "CRO",
         "marker": {
          "color": "#00cc96"
         },
         "name": "CRO",
         "offsetgroup": "CRO",
         "orientation": "v",
         "showlegend": true,
         "textposition": "auto",
         "type": "bar",
         "x": [
          "West Brom",
          "Chelsea"
         ],
         "xaxis": "x",
         "y": [
          1,
          1
         ],
         "yaxis": "y"
        },
        {
         "alignmentgroup": "True",
         "customdata": [
          [
           "West Brom"
          ],
          [
           "Liverpool"
          ],
          [
           "Aston Villa"
          ],
          [
           "Arsenal"
          ]
         ],
         "hovertemplate": "Nation=EGY<br>Squad=%{customdata[0]}<br>count=%{y}<extra></extra>",
         "legendgroup": "EGY",
         "marker": {
          "color": "#ab63fa"
         },
         "name": "EGY",
         "offsetgroup": "EGY",
         "orientation": "v",
         "showlegend": true,
         "textposition": "auto",
         "type": "bar",
         "x": [
          "West Brom",
          "Liverpool",
          "Aston Villa",
          "Arsenal"
         ],
         "xaxis": "x",
         "y": [
          1,
          1,
          2,
          1
         ],
         "yaxis": "y"
        },
        {
         "alignmentgroup": "True",
         "customdata": [
          [
           "West Brom"
          ],
          [
           "Manchester Utd"
          ],
          [
           "Leicester City"
          ],
          [
           "Fulham"
          ],
          [
           "Everton"
          ]
         ],
         "hovertemplate": "Nation=NGA<br>Squad=%{customdata[0]}<br>count=%{y}<extra></extra>",
         "legendgroup": "NGA",
         "marker": {
          "color": "#FFA15A"
         },
         "name": "NGA",
         "offsetgroup": "NGA",
         "orientation": "v",
         "showlegend": true,
         "textposition": "auto",
         "type": "bar",
         "x": [
          "West Brom",
          "Manchester Utd",
          "Leicester City",
          "Fulham",
          "Everton"
         ],
         "xaxis": "x",
         "y": [
          1,
          1,
          2,
          2,
          1
         ],
         "yaxis": "y"
        },
        {
         "alignmentgroup": "True",
         "customdata": [
          [
           "West Brom"
          ],
          [
           "Liverpool"
          ],
          [
           "Leicester City"
          ],
          [
           "Crystal Palace"
          ],
          [
           "Chelsea"
          ]
         ],
         "hovertemplate": "Nation=SEN<br>Squad=%{customdata[0]}<br>count=%{y}<extra></extra>",
         "legendgroup": "SEN",
         "marker": {
          "color": "#19d3f3"
         },
         "name": "SEN",
         "offsetgroup": "SEN",
         "orientation": "v",
         "showlegend": true,
         "textposition": "auto",
         "type": "bar",
         "x": [
          "West Brom",
          "Liverpool",
          "Leicester City",
          "Crystal Palace",
          "Chelsea"
         ],
         "xaxis": "x",
         "y": [
          1,
          1,
          1,
          1,
          1
         ],
         "yaxis": "y"
        },
        {
         "alignmentgroup": "True",
         "customdata": [
          [
           "West Brom"
          ]
         ],
         "hovertemplate": "Nation=SKN<br>Squad=%{customdata[0]}<br>count=%{y}<extra></extra>",
         "legendgroup": "SKN",
         "marker": {
          "color": "#FF6692"
         },
         "name": "SKN",
         "offsetgroup": "SKN",
         "orientation": "v",
         "showlegend": true,
         "textposition": "auto",
         "type": "bar",
         "x": [
          "West Brom"
         ],
         "xaxis": "x",
         "y": [
          1
         ],
         "yaxis": "y"
        },
        {
         "alignmentgroup": "True",
         "customdata": [
          [
           "West Brom"
          ],
          [
           "Manchester Utd"
          ],
          [
           "Fulham"
          ],
          [
           "Crystal Palace"
          ]
         ],
         "hovertemplate": "Nation=SRB<br>Squad=%{customdata[0]}<br>count=%{y}<extra></extra>",
         "legendgroup": "SRB",
         "marker": {
          "color": "#B6E880"
         },
         "name": "SRB",
         "offsetgroup": "SRB",
         "orientation": "v",
         "showlegend": true,
         "textposition": "auto",
         "type": "bar",
         "x": [
          "West Brom",
          "Manchester Utd",
          "Fulham",
          "Crystal Palace"
         ],
         "xaxis": "x",
         "y": [
          1,
          1,
          1,
          1
         ],
         "yaxis": "y"
        },
        {
         "alignmentgroup": "True",
         "customdata": [
          [
           "West Brom"
          ],
          [
           "Liverpool"
          ],
          [
           "Leicester City"
          ],
          [
           "Everton"
          ]
         ],
         "hovertemplate": "Nation=TUR<br>Squad=%{customdata[0]}<br>count=%{y}<extra></extra>",
         "legendgroup": "TUR",
         "marker": {
          "color": "#FF97FF"
         },
         "name": "TUR",
         "offsetgroup": "TUR",
         "orientation": "v",
         "showlegend": true,
         "textposition": "auto",
         "type": "bar",
         "x": [
          "West Brom",
          "Liverpool",
          "Leicester City",
          "Everton"
         ],
         "xaxis": "x",
         "y": [
          1,
          1,
          2,
          1
         ],
         "yaxis": "y"
        },
        {
         "alignmentgroup": "True",
         "customdata": [
          [
           "West Brom"
          ],
          [
           "Tottenham"
          ],
          [
           "Sheffield Utd"
          ],
          [
           "Newcastle Utd"
          ],
          [
           "Manchester Utd"
          ],
          [
           "Liverpool"
          ],
          [
           "Leeds United"
          ],
          [
           "Aston Villa"
          ]
         ],
         "hovertemplate": "Nation=WAL<br>Squad=%{customdata[0]}<br>count=%{y}<extra></extra>",
         "legendgroup": "WAL",
         "marker": {
          "color": "#FECB52"
         },
         "name": "WAL",
         "offsetgroup": "WAL",
         "orientation": "v",
         "showlegend": true,
         "textposition": "auto",
         "type": "bar",
         "x": [
          "West Brom",
          "Tottenham",
          "Sheffield Utd",
          "Newcastle Utd",
          "Manchester Utd",
          "Liverpool",
          "Leeds United",
          "Aston Villa"
         ],
         "xaxis": "x",
         "y": [
          1,
          3,
          1,
          1,
          1,
          1,
          2,
          1
         ],
         "yaxis": "y"
        },
        {
         "alignmentgroup": "True",
         "customdata": [
          [
           "Tottenham"
          ],
          [
           "Everton"
          ],
          [
           "Brighton"
          ]
         ],
         "hovertemplate": "Nation=COL<br>Squad=%{customdata[0]}<br>count=%{y}<extra></extra>",
         "legendgroup": "COL",
         "marker": {
          "color": "#636efa"
         },
         "name": "COL",
         "offsetgroup": "COL",
         "orientation": "v",
         "showlegend": true,
         "textposition": "auto",
         "type": "bar",
         "x": [
          "Tottenham",
          "Everton",
          "Brighton"
         ],
         "xaxis": "x",
         "y": [
          1,
          2,
          1
         ],
         "yaxis": "y"
        },
        {
         "alignmentgroup": "True",
         "customdata": [
          [
           "Tottenham"
          ]
         ],
         "hovertemplate": "Nation=KOR<br>Squad=%{customdata[0]}<br>count=%{y}<extra></extra>",
         "legendgroup": "KOR",
         "marker": {
          "color": "#EF553B"
         },
         "name": "KOR",
         "offsetgroup": "KOR",
         "orientation": "v",
         "showlegend": true,
         "textposition": "auto",
         "type": "bar",
         "x": [
          "Tottenham"
         ],
         "xaxis": "x",
         "y": [
          1
         ],
         "yaxis": "y"
        },
        {
         "alignmentgroup": "True",
         "customdata": [
          [
           "Southampton"
          ],
          [
           "Brighton"
          ],
          [
           "Arsenal"
          ]
         ],
         "hovertemplate": "Nation=AUS<br>Squad=%{customdata[0]}<br>count=%{y}<extra></extra>",
         "legendgroup": "AUS",
         "marker": {
          "color": "#00cc96"
         },
         "name": "AUS",
         "offsetgroup": "AUS",
         "orientation": "v",
         "showlegend": true,
         "textposition": "auto",
         "type": "bar",
         "x": [
          "Southampton",
          "Brighton",
          "Arsenal"
         ],
         "xaxis": "x",
         "y": [
          1,
          1,
          1
         ],
         "yaxis": "y"
        },
        {
         "alignmentgroup": "True",
         "customdata": [
          [
           "Southampton"
          ],
          [
           "Leicester City"
          ],
          [
           "Crystal Palace"
          ],
          [
           "Arsenal"
          ]
         ],
         "hovertemplate": "Nation=GHA<br>Squad=%{customdata[0]}<br>count=%{y}<extra></extra>",
         "legendgroup": "GHA",
         "marker": {
          "color": "#ab63fa"
         },
         "name": "GHA",
         "offsetgroup": "GHA",
         "orientation": "v",
         "showlegend": true,
         "textposition": "auto",
         "type": "bar",
         "x": [
          "Southampton",
          "Leicester City",
          "Crystal Palace",
          "Arsenal"
         ],
         "xaxis": "x",
         "y": [
          1,
          1,
          2,
          1
         ],
         "yaxis": "y"
        },
        {
         "alignmentgroup": "True",
         "customdata": [
          [
           "Southampton"
          ],
          [
           "Liverpool"
          ]
         ],
         "hovertemplate": "Nation=JPN<br>Squad=%{customdata[0]}<br>count=%{y}<extra></extra>",
         "legendgroup": "JPN",
         "marker": {
          "color": "#FFA15A"
         },
         "name": "JPN",
         "offsetgroup": "JPN",
         "orientation": "v",
         "showlegend": true,
         "textposition": "auto",
         "type": "bar",
         "x": [
          "Southampton",
          "Liverpool"
         ],
         "xaxis": "x",
         "y": [
          1,
          1
         ],
         "yaxis": "y"
        },
        {
         "alignmentgroup": "True",
         "customdata": [
          [
           "Southampton"
          ],
          [
           "Brighton"
          ]
         ],
         "hovertemplate": "Nation=MLI<br>Squad=%{customdata[0]}<br>count=%{y}<extra></extra>",
         "legendgroup": "MLI",
         "marker": {
          "color": "#19d3f3"
         },
         "name": "MLI",
         "offsetgroup": "MLI",
         "orientation": "v",
         "showlegend": true,
         "textposition": "auto",
         "type": "bar",
         "x": [
          "Southampton",
          "Brighton"
         ],
         "xaxis": "x",
         "y": [
          1,
          1
         ],
         "yaxis": "y"
        },
        {
         "alignmentgroup": "True",
         "customdata": [
          [
           "Southampton"
          ],
          [
           "Newcastle Utd"
          ],
          [
           "Liverpool"
          ],
          [
           "Brighton"
          ],
          [
           "Arsenal"
          ]
         ],
         "hovertemplate": "Nation=SUI<br>Squad=%{customdata[0]}<br>count=%{y}<extra></extra>",
         "legendgroup": "SUI",
         "marker": {
          "color": "#FF6692"
         },
         "name": "SUI",
         "offsetgroup": "SUI",
         "orientation": "v",
         "showlegend": true,
         "textposition": "auto",
         "type": "bar",
         "x": [
          "Southampton",
          "Newcastle Utd",
          "Liverpool",
          "Brighton",
          "Arsenal"
         ],
         "xaxis": "x",
         "y": [
          1,
          1,
          1,
          1,
          1
         ],
         "yaxis": "y"
        },
        {
         "alignmentgroup": "True",
         "customdata": [
          [
           "Sheffield Utd"
          ],
          [
           "Newcastle Utd"
          ],
          [
           "Leicester City"
          ],
          [
           "Leeds United"
          ],
          [
           "Burnley"
          ]
         ],
         "hovertemplate": "Nation=NIR<br>Squad=%{customdata[0]}<br>count=%{y}<extra></extra>",
         "legendgroup": "NIR",
         "marker": {
          "color": "#B6E880"
         },
         "name": "NIR",
         "offsetgroup": "NIR",
         "orientation": "v",
         "showlegend": true,
         "textposition": "auto",
         "type": "bar",
         "x": [
          "Sheffield Utd",
          "Newcastle Utd",
          "Leicester City",
          "Leeds United",
          "Burnley"
         ],
         "xaxis": "x",
         "y": [
          1,
          1,
          1,
          1,
          1
         ],
         "yaxis": "y"
        },
        {
         "alignmentgroup": "True",
         "customdata": [
          [
           "Sheffield Utd"
          ],
          [
           "Everton"
          ],
          [
           "Arsenal"
          ]
         ],
         "hovertemplate": "Nation=NOR<br>Squad=%{customdata[0]}<br>count=%{y}<extra></extra>",
         "legendgroup": "NOR",
         "marker": {
          "color": "#FF97FF"
         },
         "name": "NOR",
         "offsetgroup": "NOR",
         "orientation": "v",
         "showlegend": true,
         "textposition": "auto",
         "type": "bar",
         "x": [
          "Sheffield Utd",
          "Everton",
          "Arsenal"
         ],
         "xaxis": "x",
         "y": [
          1,
          1,
          1
         ],
         "yaxis": "y"
        },
        {
         "alignmentgroup": "True",
         "customdata": [
          [
           "Newcastle Utd"
          ],
          [
           "Fulham"
          ]
         ],
         "hovertemplate": "Nation=SVK<br>Squad=%{customdata[0]}<br>count=%{y}<extra></extra>",
         "legendgroup": "SVK",
         "marker": {
          "color": "#FECB52"
         },
         "name": "SVK",
         "offsetgroup": "SVK",
         "orientation": "v",
         "showlegend": true,
         "textposition": "auto",
         "type": "bar",
         "x": [
          "Newcastle Utd",
          "Fulham"
         ],
         "xaxis": "x",
         "y": [
          1,
          1
         ],
         "yaxis": "y"
        },
        {
         "alignmentgroup": "True",
         "customdata": [
          [
           "Newcastle Utd"
          ],
          [
           "Manchester Utd"
          ],
          [
           "Everton"
          ],
          [
           "Burnley"
          ]
         ],
         "hovertemplate": "Nation=SWE<br>Squad=%{customdata[0]}<br>count=%{y}<extra></extra>",
         "legendgroup": "SWE",
         "marker": {
          "color": "#636efa"
         },
         "name": "SWE",
         "offsetgroup": "SWE",
         "orientation": "v",
         "showlegend": true,
         "textposition": "auto",
         "type": "bar",
         "x": [
          "Newcastle Utd",
          "Manchester Utd",
          "Everton",
          "Burnley"
         ],
         "xaxis": "x",
         "y": [
          1,
          1,
          1,
          1
         ],
         "yaxis": "y"
        },
        {
         "alignmentgroup": "True",
         "customdata": [
          [
           "Manchester Utd"
          ]
         ],
         "hovertemplate": "Nation=URU<br>Squad=%{customdata[0]}<br>count=%{y}<extra></extra>",
         "legendgroup": "URU",
         "marker": {
          "color": "#EF553B"
         },
         "name": "URU",
         "offsetgroup": "URU",
         "orientation": "v",
         "showlegend": true,
         "textposition": "auto",
         "type": "bar",
         "x": [
          "Manchester Utd"
         ],
         "xaxis": "x",
         "y": [
          1
         ],
         "yaxis": "y"
        },
        {
         "alignmentgroup": "True",
         "customdata": [
          [
           "Manchester City"
          ],
          [
           "Leeds United"
          ],
          [
           "Chelsea"
          ],
          [
           "Brighton"
          ],
          [
           "Arsenal"
          ]
         ],
         "hovertemplate": "Nation=GER<br>Squad=%{customdata[0]}<br>count=%{y}<extra></extra>",
         "legendgroup": "GER",
         "marker": {
          "color": "#00cc96"
         },
         "name": "GER",
         "offsetgroup": "GER",
         "orientation": "v",
         "showlegend": true,
         "textposition": "auto",
         "type": "bar",
         "x": [
          "Manchester City",
          "Leeds United",
          "Chelsea",
          "Brighton",
          "Arsenal"
         ],
         "xaxis": "x",
         "y": [
          1,
          1,
          3,
          2,
          2
         ],
         "yaxis": "y"
        },
        {
         "alignmentgroup": "True",
         "customdata": [
          [
           "Liverpool"
          ],
          [
           "Fulham"
          ]
         ],
         "hovertemplate": "Nation=CMR<br>Squad=%{customdata[0]}<br>count=%{y}<extra></extra>",
         "legendgroup": "CMR",
         "marker": {
          "color": "#ab63fa"
         },
         "name": "CMR",
         "offsetgroup": "CMR",
         "orientation": "v",
         "showlegend": true,
         "textposition": "auto",
         "type": "bar",
         "x": [
          "Liverpool",
          "Fulham"
         ],
         "xaxis": "x",
         "y": [
          1,
          1
         ],
         "yaxis": "y"
        },
        {
         "alignmentgroup": "True",
         "customdata": [
          [
           "Liverpool"
          ]
         ],
         "hovertemplate": "Nation=GRE<br>Squad=%{customdata[0]}<br>count=%{y}<extra></extra>",
         "legendgroup": "GRE",
         "marker": {
          "color": "#FFA15A"
         },
         "name": "GRE",
         "offsetgroup": "GRE",
         "orientation": "v",
         "showlegend": true,
         "textposition": "auto",
         "type": "bar",
         "x": [
          "Liverpool"
         ],
         "xaxis": "x",
         "y": [
          1
         ],
         "yaxis": "y"
        },
        {
         "alignmentgroup": "True",
         "customdata": [
          [
           "Liverpool"
          ]
         ],
         "hovertemplate": "Nation=GUI<br>Squad=%{customdata[0]}<br>count=%{y}<extra></extra>",
         "legendgroup": "GUI",
         "marker": {
          "color": "#19d3f3"
         },
         "name": "GUI",
         "offsetgroup": "GUI",
         "orientation": "v",
         "showlegend": true,
         "textposition": "auto",
         "type": "bar",
         "x": [
          "Liverpool"
         ],
         "xaxis": "x",
         "y": [
          1
         ],
         "yaxis": "y"
        },
        {
         "alignmentgroup": "True",
         "customdata": [
          [
           "Leicester City"
          ]
         ],
         "hovertemplate": "Nation=AUT<br>Squad=%{customdata[0]}<br>count=%{y}<extra></extra>",
         "legendgroup": "AUT",
         "marker": {
          "color": "#FF6692"
         },
         "name": "AUT",
         "offsetgroup": "AUT",
         "orientation": "v",
         "showlegend": true,
         "textposition": "auto",
         "type": "bar",
         "x": [
          "Leicester City"
         ],
         "xaxis": "x",
         "y": [
          1
         ],
         "yaxis": "y"
        },
        {
         "alignmentgroup": "True",
         "customdata": [
          [
           "Leicester City"
          ],
          [
           "Fulham"
          ]
         ],
         "hovertemplate": "Nation=JAM<br>Squad=%{customdata[0]}<br>count=%{y}<extra></extra>",
         "legendgroup": "JAM",
         "marker": {
          "color": "#B6E880"
         },
         "name": "JAM",
         "offsetgroup": "JAM",
         "orientation": "v",
         "showlegend": true,
         "textposition": "auto",
         "type": "bar",
         "x": [
          "Leicester City",
          "Fulham"
         ],
         "xaxis": "x",
         "y": [
          1,
          2
         ],
         "yaxis": "y"
        },
        {
         "alignmentgroup": "True",
         "customdata": [
          [
           "Leicester City"
          ],
          [
           "Brighton"
          ]
         ],
         "hovertemplate": "Nation=RSA<br>Squad=%{customdata[0]}<br>count=%{y}<extra></extra>",
         "legendgroup": "RSA",
         "marker": {
          "color": "#FF97FF"
         },
         "name": "RSA",
         "offsetgroup": "RSA",
         "orientation": "v",
         "showlegend": true,
         "textposition": "auto",
         "type": "bar",
         "x": [
          "Leicester City",
          "Brighton"
         ],
         "xaxis": "x",
         "y": [
          1,
          1
         ],
         "yaxis": "y"
        },
        {
         "alignmentgroup": "True",
         "customdata": [
          [
           "Leeds United"
          ]
         ],
         "hovertemplate": "Nation=MKD<br>Squad=%{customdata[0]}<br>count=%{y}<extra></extra>",
         "legendgroup": "MKD",
         "marker": {
          "color": "#FECB52"
         },
         "name": "MKD",
         "offsetgroup": "MKD",
         "orientation": "v",
         "showlegend": true,
         "textposition": "auto",
         "type": "bar",
         "x": [
          "Leeds United"
         ],
         "xaxis": "x",
         "y": [
          1
         ],
         "yaxis": "y"
        },
        {
         "alignmentgroup": "True",
         "customdata": [
          [
           "Fulham"
          ],
          [
           "Arsenal"
          ]
         ],
         "hovertemplate": "Nation=GAB<br>Squad=%{customdata[0]}<br>count=%{y}<extra></extra>",
         "legendgroup": "GAB",
         "marker": {
          "color": "#636efa"
         },
         "name": "GAB",
         "offsetgroup": "GAB",
         "orientation": "v",
         "showlegend": true,
         "textposition": "auto",
         "type": "bar",
         "x": [
          "Fulham",
          "Arsenal"
         ],
         "xaxis": "x",
         "y": [
          1,
          1
         ],
         "yaxis": "y"
        },
        {
         "alignmentgroup": "True",
         "customdata": [
          [
           "Fulham"
          ]
         ],
         "hovertemplate": "Nation=MTN<br>Squad=%{customdata[0]}<br>count=%{y}<extra></extra>",
         "legendgroup": "MTN",
         "marker": {
          "color": "#EF553B"
         },
         "name": "MTN",
         "offsetgroup": "MTN",
         "orientation": "v",
         "showlegend": true,
         "textposition": "auto",
         "type": "bar",
         "x": [
          "Fulham"
         ],
         "xaxis": "x",
         "y": [
          1
         ],
         "yaxis": "y"
        },
        {
         "alignmentgroup": "True",
         "customdata": [
          [
           "Everton"
          ],
          [
           "Burnley"
          ],
          [
           "Arsenal"
          ]
         ],
         "hovertemplate": "Nation=ISL<br>Squad=%{customdata[0]}<br>count=%{y}<extra></extra>",
         "legendgroup": "ISL",
         "marker": {
          "color": "#00cc96"
         },
         "name": "ISL",
         "offsetgroup": "ISL",
         "orientation": "v",
         "showlegend": true,
         "textposition": "auto",
         "type": "bar",
         "x": [
          "Everton",
          "Burnley",
          "Arsenal"
         ],
         "xaxis": "x",
         "y": [
          1,
          1,
          1
         ],
         "yaxis": "y"
        },
        {
         "alignmentgroup": "True",
         "customdata": [
          [
           "Burnley"
          ]
         ],
         "hovertemplate": "Nation=NZL<br>Squad=%{customdata[0]}<br>count=%{y}<extra></extra>",
         "legendgroup": "NZL",
         "marker": {
          "color": "#ab63fa"
         },
         "name": "NZL",
         "offsetgroup": "NZL",
         "orientation": "v",
         "showlegend": true,
         "textposition": "auto",
         "type": "bar",
         "x": [
          "Burnley"
         ],
         "xaxis": "x",
         "y": [
          1
         ],
         "yaxis": "y"
        },
        {
         "alignmentgroup": "True",
         "customdata": [
          [
           "Brighton"
          ]
         ],
         "hovertemplate": "Nation=IRN<br>Squad=%{customdata[0]}<br>count=%{y}<extra></extra>",
         "legendgroup": "IRN",
         "marker": {
          "color": "#FFA15A"
         },
         "name": "IRN",
         "offsetgroup": "IRN",
         "orientation": "v",
         "showlegend": true,
         "textposition": "auto",
         "type": "bar",
         "x": [
          "Brighton"
         ],
         "xaxis": "x",
         "y": [
          1
         ],
         "yaxis": "y"
        },
        {
         "alignmentgroup": "True",
         "customdata": [
          [
           "Aston Villa"
          ]
         ],
         "hovertemplate": "Nation=BFA<br>Squad=%{customdata[0]}<br>count=%{y}<extra></extra>",
         "legendgroup": "BFA",
         "marker": {
          "color": "#19d3f3"
         },
         "name": "BFA",
         "offsetgroup": "BFA",
         "orientation": "v",
         "showlegend": true,
         "textposition": "auto",
         "type": "bar",
         "x": [
          "Aston Villa"
         ],
         "xaxis": "x",
         "y": [
          1
         ],
         "yaxis": "y"
        },
        {
         "alignmentgroup": "True",
         "customdata": [
          [
           "Aston Villa"
          ]
         ],
         "hovertemplate": "Nation=ZIM<br>Squad=%{customdata[0]}<br>count=%{y}<extra></extra>",
         "legendgroup": "ZIM",
         "marker": {
          "color": "#FF6692"
         },
         "name": "ZIM",
         "offsetgroup": "ZIM",
         "orientation": "v",
         "showlegend": true,
         "textposition": "auto",
         "type": "bar",
         "x": [
          "Aston Villa"
         ],
         "xaxis": "x",
         "y": [
          1
         ],
         "yaxis": "y"
        },
        {
         "alignmentgroup": "True",
         "customdata": [
          [
           "Arsenal"
          ]
         ],
         "hovertemplate": "Nation=BIH<br>Squad=%{customdata[0]}<br>count=%{y}<extra></extra>",
         "legendgroup": "BIH",
         "marker": {
          "color": "#B6E880"
         },
         "name": "BIH",
         "offsetgroup": "BIH",
         "orientation": "v",
         "showlegend": true,
         "textposition": "auto",
         "type": "bar",
         "x": [
          "Arsenal"
         ],
         "xaxis": "x",
         "y": [
          1
         ],
         "yaxis": "y"
        }
       ],
       "layout": {
        "barmode": "stack",
        "legend": {
         "title": {
          "text": "Nation"
         },
         "tracegroupgap": 0
        },
        "template": {
         "data": {
          "bar": [
           {
            "error_x": {
             "color": "#2a3f5f"
            },
            "error_y": {
             "color": "#2a3f5f"
            },
            "marker": {
             "line": {
              "color": "#E5ECF6",
              "width": 0.5
             }
            },
            "type": "bar"
           }
          ],
          "barpolar": [
           {
            "marker": {
             "line": {
              "color": "#E5ECF6",
              "width": 0.5
             }
            },
            "type": "barpolar"
           }
          ],
          "carpet": [
           {
            "aaxis": {
             "endlinecolor": "#2a3f5f",
             "gridcolor": "white",
             "linecolor": "white",
             "minorgridcolor": "white",
             "startlinecolor": "#2a3f5f"
            },
            "baxis": {
             "endlinecolor": "#2a3f5f",
             "gridcolor": "white",
             "linecolor": "white",
             "minorgridcolor": "white",
             "startlinecolor": "#2a3f5f"
            },
            "type": "carpet"
           }
          ],
          "choropleth": [
           {
            "colorbar": {
             "outlinewidth": 0,
             "ticks": ""
            },
            "type": "choropleth"
           }
          ],
          "contour": [
           {
            "colorbar": {
             "outlinewidth": 0,
             "ticks": ""
            },
            "colorscale": [
             [
              0,
              "#0d0887"
             ],
             [
              0.1111111111111111,
              "#46039f"
             ],
             [
              0.2222222222222222,
              "#7201a8"
             ],
             [
              0.3333333333333333,
              "#9c179e"
             ],
             [
              0.4444444444444444,
              "#bd3786"
             ],
             [
              0.5555555555555556,
              "#d8576b"
             ],
             [
              0.6666666666666666,
              "#ed7953"
             ],
             [
              0.7777777777777778,
              "#fb9f3a"
             ],
             [
              0.8888888888888888,
              "#fdca26"
             ],
             [
              1,
              "#f0f921"
             ]
            ],
            "type": "contour"
           }
          ],
          "contourcarpet": [
           {
            "colorbar": {
             "outlinewidth": 0,
             "ticks": ""
            },
            "type": "contourcarpet"
           }
          ],
          "heatmap": [
           {
            "colorbar": {
             "outlinewidth": 0,
             "ticks": ""
            },
            "colorscale": [
             [
              0,
              "#0d0887"
             ],
             [
              0.1111111111111111,
              "#46039f"
             ],
             [
              0.2222222222222222,
              "#7201a8"
             ],
             [
              0.3333333333333333,
              "#9c179e"
             ],
             [
              0.4444444444444444,
              "#bd3786"
             ],
             [
              0.5555555555555556,
              "#d8576b"
             ],
             [
              0.6666666666666666,
              "#ed7953"
             ],
             [
              0.7777777777777778,
              "#fb9f3a"
             ],
             [
              0.8888888888888888,
              "#fdca26"
             ],
             [
              1,
              "#f0f921"
             ]
            ],
            "type": "heatmap"
           }
          ],
          "heatmapgl": [
           {
            "colorbar": {
             "outlinewidth": 0,
             "ticks": ""
            },
            "colorscale": [
             [
              0,
              "#0d0887"
             ],
             [
              0.1111111111111111,
              "#46039f"
             ],
             [
              0.2222222222222222,
              "#7201a8"
             ],
             [
              0.3333333333333333,
              "#9c179e"
             ],
             [
              0.4444444444444444,
              "#bd3786"
             ],
             [
              0.5555555555555556,
              "#d8576b"
             ],
             [
              0.6666666666666666,
              "#ed7953"
             ],
             [
              0.7777777777777778,
              "#fb9f3a"
             ],
             [
              0.8888888888888888,
              "#fdca26"
             ],
             [
              1,
              "#f0f921"
             ]
            ],
            "type": "heatmapgl"
           }
          ],
          "histogram": [
           {
            "marker": {
             "colorbar": {
              "outlinewidth": 0,
              "ticks": ""
             }
            },
            "type": "histogram"
           }
          ],
          "histogram2d": [
           {
            "colorbar": {
             "outlinewidth": 0,
             "ticks": ""
            },
            "colorscale": [
             [
              0,
              "#0d0887"
             ],
             [
              0.1111111111111111,
              "#46039f"
             ],
             [
              0.2222222222222222,
              "#7201a8"
             ],
             [
              0.3333333333333333,
              "#9c179e"
             ],
             [
              0.4444444444444444,
              "#bd3786"
             ],
             [
              0.5555555555555556,
              "#d8576b"
             ],
             [
              0.6666666666666666,
              "#ed7953"
             ],
             [
              0.7777777777777778,
              "#fb9f3a"
             ],
             [
              0.8888888888888888,
              "#fdca26"
             ],
             [
              1,
              "#f0f921"
             ]
            ],
            "type": "histogram2d"
           }
          ],
          "histogram2dcontour": [
           {
            "colorbar": {
             "outlinewidth": 0,
             "ticks": ""
            },
            "colorscale": [
             [
              0,
              "#0d0887"
             ],
             [
              0.1111111111111111,
              "#46039f"
             ],
             [
              0.2222222222222222,
              "#7201a8"
             ],
             [
              0.3333333333333333,
              "#9c179e"
             ],
             [
              0.4444444444444444,
              "#bd3786"
             ],
             [
              0.5555555555555556,
              "#d8576b"
             ],
             [
              0.6666666666666666,
              "#ed7953"
             ],
             [
              0.7777777777777778,
              "#fb9f3a"
             ],
             [
              0.8888888888888888,
              "#fdca26"
             ],
             [
              1,
              "#f0f921"
             ]
            ],
            "type": "histogram2dcontour"
           }
          ],
          "mesh3d": [
           {
            "colorbar": {
             "outlinewidth": 0,
             "ticks": ""
            },
            "type": "mesh3d"
           }
          ],
          "parcoords": [
           {
            "line": {
             "colorbar": {
              "outlinewidth": 0,
              "ticks": ""
             }
            },
            "type": "parcoords"
           }
          ],
          "pie": [
           {
            "automargin": true,
            "type": "pie"
           }
          ],
          "scatter": [
           {
            "marker": {
             "colorbar": {
              "outlinewidth": 0,
              "ticks": ""
             }
            },
            "type": "scatter"
           }
          ],
          "scatter3d": [
           {
            "line": {
             "colorbar": {
              "outlinewidth": 0,
              "ticks": ""
             }
            },
            "marker": {
             "colorbar": {
              "outlinewidth": 0,
              "ticks": ""
             }
            },
            "type": "scatter3d"
           }
          ],
          "scattercarpet": [
           {
            "marker": {
             "colorbar": {
              "outlinewidth": 0,
              "ticks": ""
             }
            },
            "type": "scattercarpet"
           }
          ],
          "scattergeo": [
           {
            "marker": {
             "colorbar": {
              "outlinewidth": 0,
              "ticks": ""
             }
            },
            "type": "scattergeo"
           }
          ],
          "scattergl": [
           {
            "marker": {
             "colorbar": {
              "outlinewidth": 0,
              "ticks": ""
             }
            },
            "type": "scattergl"
           }
          ],
          "scattermapbox": [
           {
            "marker": {
             "colorbar": {
              "outlinewidth": 0,
              "ticks": ""
             }
            },
            "type": "scattermapbox"
           }
          ],
          "scatterpolar": [
           {
            "marker": {
             "colorbar": {
              "outlinewidth": 0,
              "ticks": ""
             }
            },
            "type": "scatterpolar"
           }
          ],
          "scatterpolargl": [
           {
            "marker": {
             "colorbar": {
              "outlinewidth": 0,
              "ticks": ""
             }
            },
            "type": "scatterpolargl"
           }
          ],
          "scatterternary": [
           {
            "marker": {
             "colorbar": {
              "outlinewidth": 0,
              "ticks": ""
             }
            },
            "type": "scatterternary"
           }
          ],
          "surface": [
           {
            "colorbar": {
             "outlinewidth": 0,
             "ticks": ""
            },
            "colorscale": [
             [
              0,
              "#0d0887"
             ],
             [
              0.1111111111111111,
              "#46039f"
             ],
             [
              0.2222222222222222,
              "#7201a8"
             ],
             [
              0.3333333333333333,
              "#9c179e"
             ],
             [
              0.4444444444444444,
              "#bd3786"
             ],
             [
              0.5555555555555556,
              "#d8576b"
             ],
             [
              0.6666666666666666,
              "#ed7953"
             ],
             [
              0.7777777777777778,
              "#fb9f3a"
             ],
             [
              0.8888888888888888,
              "#fdca26"
             ],
             [
              1,
              "#f0f921"
             ]
            ],
            "type": "surface"
           }
          ],
          "table": [
           {
            "cells": {
             "fill": {
              "color": "#EBF0F8"
             },
             "line": {
              "color": "white"
             }
            },
            "header": {
             "fill": {
              "color": "#C8D4E3"
             },
             "line": {
              "color": "white"
             }
            },
            "type": "table"
           }
          ]
         },
         "layout": {
          "annotationdefaults": {
           "arrowcolor": "#2a3f5f",
           "arrowhead": 0,
           "arrowwidth": 1
          },
          "coloraxis": {
           "colorbar": {
            "outlinewidth": 0,
            "ticks": ""
           }
          },
          "colorscale": {
           "diverging": [
            [
             0,
             "#8e0152"
            ],
            [
             0.1,
             "#c51b7d"
            ],
            [
             0.2,
             "#de77ae"
            ],
            [
             0.3,
             "#f1b6da"
            ],
            [
             0.4,
             "#fde0ef"
            ],
            [
             0.5,
             "#f7f7f7"
            ],
            [
             0.6,
             "#e6f5d0"
            ],
            [
             0.7,
             "#b8e186"
            ],
            [
             0.8,
             "#7fbc41"
            ],
            [
             0.9,
             "#4d9221"
            ],
            [
             1,
             "#276419"
            ]
           ],
           "sequential": [
            [
             0,
             "#0d0887"
            ],
            [
             0.1111111111111111,
             "#46039f"
            ],
            [
             0.2222222222222222,
             "#7201a8"
            ],
            [
             0.3333333333333333,
             "#9c179e"
            ],
            [
             0.4444444444444444,
             "#bd3786"
            ],
            [
             0.5555555555555556,
             "#d8576b"
            ],
            [
             0.6666666666666666,
             "#ed7953"
            ],
            [
             0.7777777777777778,
             "#fb9f3a"
            ],
            [
             0.8888888888888888,
             "#fdca26"
            ],
            [
             1,
             "#f0f921"
            ]
           ],
           "sequentialminus": [
            [
             0,
             "#0d0887"
            ],
            [
             0.1111111111111111,
             "#46039f"
            ],
            [
             0.2222222222222222,
             "#7201a8"
            ],
            [
             0.3333333333333333,
             "#9c179e"
            ],
            [
             0.4444444444444444,
             "#bd3786"
            ],
            [
             0.5555555555555556,
             "#d8576b"
            ],
            [
             0.6666666666666666,
             "#ed7953"
            ],
            [
             0.7777777777777778,
             "#fb9f3a"
            ],
            [
             0.8888888888888888,
             "#fdca26"
            ],
            [
             1,
             "#f0f921"
            ]
           ]
          },
          "colorway": [
           "#636efa",
           "#EF553B",
           "#00cc96",
           "#ab63fa",
           "#FFA15A",
           "#19d3f3",
           "#FF6692",
           "#B6E880",
           "#FF97FF",
           "#FECB52"
          ],
          "font": {
           "color": "#2a3f5f"
          },
          "geo": {
           "bgcolor": "white",
           "lakecolor": "white",
           "landcolor": "#E5ECF6",
           "showlakes": true,
           "showland": true,
           "subunitcolor": "white"
          },
          "hoverlabel": {
           "align": "left"
          },
          "hovermode": "closest",
          "mapbox": {
           "style": "light"
          },
          "paper_bgcolor": "white",
          "plot_bgcolor": "#E5ECF6",
          "polar": {
           "angularaxis": {
            "gridcolor": "white",
            "linecolor": "white",
            "ticks": ""
           },
           "bgcolor": "#E5ECF6",
           "radialaxis": {
            "gridcolor": "white",
            "linecolor": "white",
            "ticks": ""
           }
          },
          "scene": {
           "xaxis": {
            "backgroundcolor": "#E5ECF6",
            "gridcolor": "white",
            "gridwidth": 2,
            "linecolor": "white",
            "showbackground": true,
            "ticks": "",
            "zerolinecolor": "white"
           },
           "yaxis": {
            "backgroundcolor": "#E5ECF6",
            "gridcolor": "white",
            "gridwidth": 2,
            "linecolor": "white",
            "showbackground": true,
            "ticks": "",
            "zerolinecolor": "white"
           },
           "zaxis": {
            "backgroundcolor": "#E5ECF6",
            "gridcolor": "white",
            "gridwidth": 2,
            "linecolor": "white",
            "showbackground": true,
            "ticks": "",
            "zerolinecolor": "white"
           }
          },
          "shapedefaults": {
           "line": {
            "color": "#2a3f5f"
           }
          },
          "ternary": {
           "aaxis": {
            "gridcolor": "white",
            "linecolor": "white",
            "ticks": ""
           },
           "baxis": {
            "gridcolor": "white",
            "linecolor": "white",
            "ticks": ""
           },
           "bgcolor": "#E5ECF6",
           "caxis": {
            "gridcolor": "white",
            "linecolor": "white",
            "ticks": ""
           }
          },
          "title": {
           "x": 0.05
          },
          "xaxis": {
           "automargin": true,
           "gridcolor": "white",
           "linecolor": "white",
           "ticks": "",
           "title": {
            "standoff": 15
           },
           "zerolinecolor": "white",
           "zerolinewidth": 2
          },
          "yaxis": {
           "automargin": true,
           "gridcolor": "white",
           "linecolor": "white",
           "ticks": "",
           "title": {
            "standoff": 15
           },
           "zerolinecolor": "white",
           "zerolinewidth": 2
          }
         }
        },
        "title": {
         "text": "EPL Player Nationality distribution By Team"
        },
        "xaxis": {
         "anchor": "y",
         "domain": [
          0,
          1
         ],
         "title": {
          "text": "Squad"
         }
        },
        "yaxis": {
         "anchor": "x",
         "domain": [
          0,
          1
         ],
         "title": {
          "text": "count"
         }
        }
       }
      },
      "text/html": [
       "<div>                            <div id=\"adb740e0-f601-427a-9af6-61d9087efd3e\" class=\"plotly-graph-div\" style=\"height:525px; width:100%;\"></div>            <script type=\"text/javascript\">                require([\"plotly\"], function(Plotly) {                    window.PLOTLYENV=window.PLOTLYENV || {};                                    if (document.getElementById(\"adb740e0-f601-427a-9af6-61d9087efd3e\")) {                    Plotly.newPlot(                        \"adb740e0-f601-427a-9af6-61d9087efd3e\",                        [{\"alignmentgroup\": \"True\", \"customdata\": [[\"Wolves\"], [\"Manchester Utd\"], [\"Manchester City\"], [\"Liverpool\"], [\"Leicester City\"], [\"Leeds United\"], [\"Fulham\"], [\"Everton\"], [\"Arsenal\"]], \"hovertemplate\": \"Nation=POR<br>Squad=%{customdata[0]}<br>count=%{y}<extra></extra>\", \"legendgroup\": \"POR\", \"marker\": {\"color\": \"#636efa\"}, \"name\": \"POR\", \"offsetgroup\": \"POR\", \"orientation\": \"v\", \"showlegend\": true, \"textposition\": \"auto\", \"type\": \"bar\", \"x\": [\"Wolves\", \"Manchester Utd\", \"Manchester City\", \"Liverpool\", \"Leicester City\", \"Leeds United\", \"Fulham\", \"Everton\", \"Arsenal\"], \"xaxis\": \"x\", \"y\": [9, 1, 3, 1, 2, 1, 1, 2, 1], \"yaxis\": \"y\"}, {\"alignmentgroup\": \"True\", \"customdata\": [[\"Wolves\"], [\"West Ham\"], [\"West Brom\"], [\"Tottenham\"], [\"Southampton\"], [\"Sheffield Utd\"], [\"Newcastle Utd\"], [\"Manchester Utd\"], [\"Manchester City\"], [\"Liverpool\"], [\"Leicester City\"], [\"Leeds United\"], [\"Fulham\"], [\"Everton\"], [\"Crystal Palace\"], [\"Chelsea\"], [\"Burnley\"], [\"Brighton\"], [\"Aston Villa\"], [\"Arsenal\"]], \"hovertemplate\": \"Nation=ENG<br>Squad=%{customdata[0]}<br>count=%{y}<extra></extra>\", \"legendgroup\": \"ENG\", \"marker\": {\"color\": \"#EF553B\"}, \"name\": \"ENG\", \"offsetgroup\": \"ENG\", \"orientation\": \"v\", \"showlegend\": true, \"textposition\": \"auto\", \"type\": \"bar\", \"x\": [\"Wolves\", \"West Ham\", \"West Brom\", \"Tottenham\", \"Southampton\", \"Sheffield Utd\", \"Newcastle Utd\", \"Manchester Utd\", \"Manchester City\", \"Liverpool\", \"Leicester City\", \"Leeds United\", \"Fulham\", \"Everton\", \"Crystal Palace\", \"Chelsea\", \"Burnley\", \"Brighton\", \"Aston Villa\", \"Arsenal\"], \"xaxis\": \"x\", \"y\": [4, 9, 16, 6, 13, 14, 11, 9, 5, 8, 8, 7, 6, 10, 8, 8, 14, 8, 10, 8], \"yaxis\": \"y\"}, {\"alignmentgroup\": \"True\", \"customdata\": [[\"Wolves\"], [\"West Ham\"], [\"West Brom\"], [\"Tottenham\"], [\"Newcastle Utd\"], [\"Manchester Utd\"], [\"Manchester City\"], [\"Liverpool\"], [\"Leeds United\"], [\"Everton\"], [\"Chelsea\"], [\"Brighton\"], [\"Aston Villa\"], [\"Arsenal\"]], \"hovertemplate\": \"Nation=BRA<br>Squad=%{customdata[0]}<br>count=%{y}<extra></extra>\", \"legendgroup\": \"BRA\", \"marker\": {\"color\": \"#00cc96\"}, \"name\": \"BRA\", \"offsetgroup\": \"BRA\", \"orientation\": \"v\", \"showlegend\": true, \"textposition\": \"auto\", \"type\": \"bar\", \"x\": [\"Wolves\", \"West Ham\", \"West Brom\", \"Tottenham\", \"Newcastle Utd\", \"Manchester Utd\", \"Manchester City\", \"Liverpool\", \"Leeds United\", \"Everton\", \"Chelsea\", \"Brighton\", \"Aston Villa\", \"Arsenal\"], \"xaxis\": \"x\", \"y\": [2, 1, 1, 2, 1, 2, 3, 3, 1, 3, 1, 1, 1, 4], \"yaxis\": \"y\"}, {\"alignmentgroup\": \"True\", \"customdata\": [[\"Wolves\"], [\"West Ham\"], [\"Tottenham\"], [\"Southampton\"], [\"Newcastle Utd\"], [\"Manchester Utd\"], [\"Manchester City\"], [\"Liverpool\"], [\"Leicester City\"], [\"Leeds United\"], [\"Crystal Palace\"], [\"Chelsea\"], [\"Brighton\"], [\"Arsenal\"]], \"hovertemplate\": \"Nation=ESP<br>Squad=%{customdata[0]}<br>count=%{y}<extra></extra>\", \"legendgroup\": \"ESP\", \"marker\": {\"color\": \"#ab63fa\"}, \"name\": \"ESP\", \"offsetgroup\": \"ESP\", \"orientation\": \"v\", \"showlegend\": true, \"textposition\": \"auto\", \"type\": \"bar\", \"x\": [\"Wolves\", \"West Ham\", \"Tottenham\", \"Southampton\", \"Newcastle Utd\", \"Manchester Utd\", \"Manchester City\", \"Liverpool\", \"Leicester City\", \"Leeds United\", \"Crystal Palace\", \"Chelsea\", \"Brighton\", \"Arsenal\"], \"xaxis\": \"x\", \"y\": [2, 1, 1, 1, 1, 2, 3, 2, 1, 4, 1, 3, 1, 3], \"yaxis\": \"y\"}, {\"alignmentgroup\": \"True\", \"customdata\": [[\"Wolves\"], [\"Tottenham\"], [\"Manchester City\"], [\"Liverpool\"], [\"Leicester City\"], [\"Fulham\"], [\"Crystal Palace\"], [\"Brighton\"]], \"hovertemplate\": \"Nation=BEL<br>Squad=%{customdata[0]}<br>count=%{y}<extra></extra>\", \"legendgroup\": \"BEL\", \"marker\": {\"color\": \"#FFA15A\"}, \"name\": \"BEL\", \"offsetgroup\": \"BEL\", \"orientation\": \"v\", \"showlegend\": true, \"textposition\": \"auto\", \"type\": \"bar\", \"x\": [\"Wolves\", \"Tottenham\", \"Manchester City\", \"Liverpool\", \"Leicester City\", \"Fulham\", \"Crystal Palace\", \"Brighton\"], \"xaxis\": \"x\", \"y\": [1, 1, 1, 1, 3, 1, 2, 1], \"yaxis\": \"y\"}, {\"alignmentgroup\": \"True\", \"customdata\": [[\"Wolves\"], [\"West Ham\"], [\"Tottenham\"], [\"Manchester Utd\"], [\"Crystal Palace\"], [\"Arsenal\"]], \"hovertemplate\": \"Nation=CIV<br>Squad=%{customdata[0]}<br>count=%{y}<extra></extra>\", \"legendgroup\": \"CIV\", \"marker\": {\"color\": \"#19d3f3\"}, \"name\": \"CIV\", \"offsetgroup\": \"CIV\", \"orientation\": \"v\", \"showlegend\": true, \"textposition\": \"auto\", \"type\": \"bar\", \"x\": [\"Wolves\", \"West Ham\", \"Tottenham\", \"Manchester Utd\", \"Crystal Palace\", \"Arsenal\"], \"xaxis\": \"x\", \"y\": [1, 1, 1, 1, 1, 1], \"yaxis\": \"y\"}, {\"alignmentgroup\": \"True\", \"customdata\": [[\"Wolves\"], [\"Tottenham\"], [\"Southampton\"], [\"Leicester City\"], [\"Fulham\"], [\"Chelsea\"]], \"hovertemplate\": \"Nation=DEN<br>Squad=%{customdata[0]}<br>count=%{y}<extra></extra>\", \"legendgroup\": \"DEN\", \"marker\": {\"color\": \"#FF6692\"}, \"name\": \"DEN\", \"offsetgroup\": \"DEN\", \"orientation\": \"v\", \"showlegend\": true, \"textposition\": \"auto\", \"type\": \"bar\", \"x\": [\"Wolves\", \"Tottenham\", \"Southampton\", \"Leicester City\", \"Fulham\", \"Chelsea\"], \"xaxis\": \"x\", \"y\": [1, 1, 1, 1, 1, 1], \"yaxis\": \"y\"}, {\"alignmentgroup\": \"True\", \"customdata\": [[\"Wolves\"], [\"West Ham\"], [\"Tottenham\"], [\"Southampton\"], [\"Sheffield Utd\"], [\"Newcastle Utd\"], [\"Manchester Utd\"], [\"Manchester City\"], [\"Leicester City\"], [\"Leeds United\"], [\"Fulham\"], [\"Everton\"], [\"Crystal Palace\"], [\"Chelsea\"], [\"Brighton\"], [\"Aston Villa\"], [\"Arsenal\"]], \"hovertemplate\": \"Nation=FRA<br>Squad=%{customdata[0]}<br>count=%{y}<extra></extra>\", \"legendgroup\": \"FRA\", \"marker\": {\"color\": \"#B6E880\"}, \"name\": \"FRA\", \"offsetgroup\": \"FRA\", \"orientation\": \"v\", \"showlegend\": true, \"textposition\": \"auto\", \"type\": \"bar\", \"x\": [\"Wolves\", \"West Ham\", \"Tottenham\", \"Southampton\", \"Sheffield Utd\", \"Newcastle Utd\", \"Manchester Utd\", \"Manchester City\", \"Leicester City\", \"Leeds United\", \"Fulham\", \"Everton\", \"Crystal Palace\", \"Chelsea\", \"Brighton\", \"Aston Villa\", \"Arsenal\"], \"xaxis\": \"x\", \"y\": [1, 1, 3, 3, 2, 1, 2, 2, 1, 1, 2, 3, 2, 3, 1, 1, 1], \"yaxis\": \"y\"}, {\"alignmentgroup\": \"True\", \"customdata\": [[\"Wolves\"], [\"West Ham\"], [\"Everton\"], [\"Chelsea\"]], \"hovertemplate\": \"Nation=ITA<br>Squad=%{customdata[0]}<br>count=%{y}<extra></extra>\", \"legendgroup\": \"ITA\", \"marker\": {\"color\": \"#FF97FF\"}, \"name\": \"ITA\", \"offsetgroup\": \"ITA\", \"orientation\": \"v\", \"showlegend\": true, \"textposition\": \"auto\", \"type\": \"bar\", \"x\": [\"Wolves\", \"West Ham\", \"Everton\", \"Chelsea\"], \"xaxis\": \"x\", \"y\": [1, 1, 1, 2], \"yaxis\": \"y\"}, {\"alignmentgroup\": \"True\", \"customdata\": [[\"Wolves\"], [\"Chelsea\"]], \"hovertemplate\": \"Nation=MAR<br>Squad=%{customdata[0]}<br>count=%{y}<extra></extra>\", \"legendgroup\": \"MAR\", \"marker\": {\"color\": \"#FECB52\"}, \"name\": \"MAR\", \"offsetgroup\": \"MAR\", \"orientation\": \"v\", \"showlegend\": true, \"textposition\": \"auto\", \"type\": \"bar\", \"x\": [\"Wolves\", \"Chelsea\"], \"xaxis\": \"x\", \"y\": [1, 1], \"yaxis\": \"y\"}, {\"alignmentgroup\": \"True\", \"customdata\": [[\"Wolves\"]], \"hovertemplate\": \"Nation=MEX<br>Squad=%{customdata[0]}<br>count=%{y}<extra></extra>\", \"legendgroup\": \"MEX\", \"marker\": {\"color\": \"#636efa\"}, \"name\": \"MEX\", \"offsetgroup\": \"MEX\", \"orientation\": \"v\", \"showlegend\": true, \"textposition\": \"auto\", \"type\": \"bar\", \"x\": [\"Wolves\"], \"xaxis\": \"x\", \"y\": [1], \"yaxis\": \"y\"}, {\"alignmentgroup\": \"True\", \"customdata\": [[\"Wolves\"], [\"Tottenham\"], [\"Manchester Utd\"], [\"Manchester City\"], [\"Liverpool\"], [\"Leeds United\"], [\"Fulham\"], [\"Crystal Palace\"], [\"Burnley\"], [\"Brighton\"], [\"Aston Villa\"]], \"hovertemplate\": \"Nation=NED<br>Squad=%{customdata[0]}<br>count=%{y}<extra></extra>\", \"legendgroup\": \"NED\", \"marker\": {\"color\": \"#EF553B\"}, \"name\": \"NED\", \"offsetgroup\": \"NED\", \"orientation\": \"v\", \"showlegend\": true, \"textposition\": \"auto\", \"type\": \"bar\", \"x\": [\"Wolves\", \"Tottenham\", \"Manchester Utd\", \"Manchester City\", \"Liverpool\", \"Leeds United\", \"Fulham\", \"Crystal Palace\", \"Burnley\", \"Brighton\", \"Aston Villa\"], \"xaxis\": \"x\", \"y\": [1, 1, 2, 1, 2, 1, 1, 2, 1, 2, 1], \"yaxis\": \"y\"}, {\"alignmentgroup\": \"True\", \"customdata\": [[\"Wolves\"], [\"Newcastle Utd\"], [\"Manchester City\"], [\"Fulham\"], [\"Chelsea\"]], \"hovertemplate\": \"Nation=USA<br>Squad=%{customdata[0]}<br>count=%{y}<extra></extra>\", \"legendgroup\": \"USA\", \"marker\": {\"color\": \"#00cc96\"}, \"name\": \"USA\", \"offsetgroup\": \"USA\", \"orientation\": \"v\", \"showlegend\": true, \"textposition\": \"auto\", \"type\": \"bar\", \"x\": [\"Wolves\", \"Newcastle Utd\", \"Manchester City\", \"Fulham\", \"Chelsea\"], \"xaxis\": \"x\", \"y\": [1, 1, 1, 2, 1], \"yaxis\": \"y\"}, {\"alignmentgroup\": \"True\", \"customdata\": [[\"West Ham\"], [\"Burnley\"]], \"hovertemplate\": \"Nation=CZE<br>Squad=%{customdata[0]}<br>count=%{y}<extra></extra>\", \"legendgroup\": \"CZE\", \"marker\": {\"color\": \"#ab63fa\"}, \"name\": \"CZE\", \"offsetgroup\": \"CZE\", \"orientation\": \"v\", \"showlegend\": true, \"textposition\": \"auto\", \"type\": \"bar\", \"x\": [\"West Ham\", \"Burnley\"], \"xaxis\": \"x\", \"y\": [2, 1], \"yaxis\": \"y\"}, {\"alignmentgroup\": \"True\", \"customdata\": [[\"West Ham\"], [\"Manchester City\"], [\"Leicester City\"]], \"hovertemplate\": \"Nation=ALG<br>Squad=%{customdata[0]}<br>count=%{y}<extra></extra>\", \"legendgroup\": \"ALG\", \"marker\": {\"color\": \"#FFA15A\"}, \"name\": \"ALG\", \"offsetgroup\": \"ALG\", \"orientation\": \"v\", \"showlegend\": true, \"textposition\": \"auto\", \"type\": \"bar\", \"x\": [\"West Ham\", \"Manchester City\", \"Leicester City\"], \"xaxis\": \"x\", \"y\": [1, 1, 1], \"yaxis\": \"y\"}, {\"alignmentgroup\": \"True\", \"customdata\": [[\"West Ham\"], [\"Tottenham\"], [\"Newcastle Utd\"], [\"Manchester City\"], [\"Chelsea\"], [\"Brighton\"], [\"Aston Villa\"]], \"hovertemplate\": \"Nation=ARG<br>Squad=%{customdata[0]}<br>count=%{y}<extra></extra>\", \"legendgroup\": \"ARG\", \"marker\": {\"color\": \"#19d3f3\"}, \"name\": \"ARG\", \"offsetgroup\": \"ARG\", \"orientation\": \"v\", \"showlegend\": true, \"textposition\": \"auto\", \"type\": \"bar\", \"x\": [\"West Ham\", \"Tottenham\", \"Newcastle Utd\", \"Manchester City\", \"Chelsea\", \"Brighton\", \"Aston Villa\"], \"xaxis\": \"x\", \"y\": [1, 2, 1, 1, 1, 1, 1], \"yaxis\": \"y\"}, {\"alignmentgroup\": \"True\", \"customdata\": [[\"West Ham\"], [\"Fulham\"]], \"hovertemplate\": \"Nation=COD<br>Squad=%{customdata[0]}<br>count=%{y}<extra></extra>\", \"legendgroup\": \"COD\", \"marker\": {\"color\": \"#FF6692\"}, \"name\": \"COD\", \"offsetgroup\": \"COD\", \"orientation\": \"v\", \"showlegend\": true, \"textposition\": \"auto\", \"type\": \"bar\", \"x\": [\"West Ham\", \"Fulham\"], \"xaxis\": \"x\", \"y\": [1, 1], \"yaxis\": \"y\"}, {\"alignmentgroup\": \"True\", \"customdata\": [[\"West Ham\"], [\"West Brom\"], [\"Tottenham\"], [\"Southampton\"], [\"Sheffield Utd\"], [\"Newcastle Utd\"], [\"Liverpool\"], [\"Everton\"], [\"Crystal Palace\"], [\"Burnley\"], [\"Brighton\"], [\"Aston Villa\"]], \"hovertemplate\": \"Nation=IRL<br>Squad=%{customdata[0]}<br>count=%{y}<extra></extra>\", \"legendgroup\": \"IRL\", \"marker\": {\"color\": \"#B6E880\"}, \"name\": \"IRL\", \"offsetgroup\": \"IRL\", \"orientation\": \"v\", \"showlegend\": true, \"textposition\": \"auto\", \"type\": \"bar\", \"x\": [\"West Ham\", \"West Brom\", \"Tottenham\", \"Southampton\", \"Sheffield Utd\", \"Newcastle Utd\", \"Liverpool\", \"Everton\", \"Crystal Palace\", \"Burnley\", \"Brighton\", \"Aston Villa\"], \"xaxis\": \"x\", \"y\": [1, 2, 1, 3, 3, 2, 1, 1, 1, 3, 2, 1], \"yaxis\": \"y\"}, {\"alignmentgroup\": \"True\", \"customdata\": [[\"West Ham\"], [\"Newcastle Utd\"]], \"hovertemplate\": \"Nation=PAR<br>Squad=%{customdata[0]}<br>count=%{y}<extra></extra>\", \"legendgroup\": \"PAR\", \"marker\": {\"color\": \"#FF97FF\"}, \"name\": \"PAR\", \"offsetgroup\": \"PAR\", \"orientation\": \"v\", \"showlegend\": true, \"textposition\": \"auto\", \"type\": \"bar\", \"x\": [\"West Ham\", \"Newcastle Utd\"], \"xaxis\": \"x\", \"y\": [1, 1], \"yaxis\": \"y\"}, {\"alignmentgroup\": \"True\", \"customdata\": [[\"West Ham\"], [\"West Brom\"], [\"Southampton\"], [\"Leeds United\"], [\"Brighton\"]], \"hovertemplate\": \"Nation=POL<br>Squad=%{customdata[0]}<br>count=%{y}<extra></extra>\", \"legendgroup\": \"POL\", \"marker\": {\"color\": \"#FECB52\"}, \"name\": \"POL\", \"offsetgroup\": \"POL\", \"orientation\": \"v\", \"showlegend\": true, \"textposition\": \"auto\", \"type\": \"bar\", \"x\": [\"West Ham\", \"West Brom\", \"Southampton\", \"Leeds United\", \"Brighton\"], \"xaxis\": \"x\", \"y\": [1, 1, 1, 1, 1], \"yaxis\": \"y\"}, {\"alignmentgroup\": \"True\", \"customdata\": [[\"West Ham\"], [\"West Brom\"], [\"Southampton\"], [\"Sheffield Utd\"], [\"Newcastle Utd\"], [\"Manchester Utd\"], [\"Liverpool\"], [\"Leeds United\"], [\"Fulham\"], [\"Crystal Palace\"], [\"Chelsea\"], [\"Burnley\"], [\"Aston Villa\"], [\"Arsenal\"]], \"hovertemplate\": \"Nation=SCO<br>Squad=%{customdata[0]}<br>count=%{y}<extra></extra>\", \"legendgroup\": \"SCO\", \"marker\": {\"color\": \"#636efa\"}, \"name\": \"SCO\", \"offsetgroup\": \"SCO\", \"orientation\": \"v\", \"showlegend\": true, \"textposition\": \"auto\", \"type\": \"bar\", \"x\": [\"West Ham\", \"West Brom\", \"Southampton\", \"Sheffield Utd\", \"Newcastle Utd\", \"Manchester Utd\", \"Liverpool\", \"Leeds United\", \"Fulham\", \"Crystal Palace\", \"Chelsea\", \"Burnley\", \"Aston Villa\", \"Arsenal\"], \"xaxis\": \"x\", \"y\": [1, 2, 2, 3, 3, 1, 1, 1, 1, 1, 1, 1, 1, 1], \"yaxis\": \"y\"}, {\"alignmentgroup\": \"True\", \"customdata\": [[\"West Ham\"], [\"Manchester City\"]], \"hovertemplate\": \"Nation=UKR<br>Squad=%{customdata[0]}<br>count=%{y}<extra></extra>\", \"legendgroup\": \"UKR\", \"marker\": {\"color\": \"#EF553B\"}, \"name\": \"UKR\", \"offsetgroup\": \"UKR\", \"orientation\": \"v\", \"showlegend\": true, \"textposition\": \"auto\", \"type\": \"bar\", \"x\": [\"West Ham\", \"Manchester City\"], \"xaxis\": \"x\", \"y\": [1, 1], \"yaxis\": \"y\"}, {\"alignmentgroup\": \"True\", \"customdata\": [[\"West Brom\"], [\"Chelsea\"]], \"hovertemplate\": \"Nation=CRO<br>Squad=%{customdata[0]}<br>count=%{y}<extra></extra>\", \"legendgroup\": \"CRO\", \"marker\": {\"color\": \"#00cc96\"}, \"name\": \"CRO\", \"offsetgroup\": \"CRO\", \"orientation\": \"v\", \"showlegend\": true, \"textposition\": \"auto\", \"type\": \"bar\", \"x\": [\"West Brom\", \"Chelsea\"], \"xaxis\": \"x\", \"y\": [1, 1], \"yaxis\": \"y\"}, {\"alignmentgroup\": \"True\", \"customdata\": [[\"West Brom\"], [\"Liverpool\"], [\"Aston Villa\"], [\"Arsenal\"]], \"hovertemplate\": \"Nation=EGY<br>Squad=%{customdata[0]}<br>count=%{y}<extra></extra>\", \"legendgroup\": \"EGY\", \"marker\": {\"color\": \"#ab63fa\"}, \"name\": \"EGY\", \"offsetgroup\": \"EGY\", \"orientation\": \"v\", \"showlegend\": true, \"textposition\": \"auto\", \"type\": \"bar\", \"x\": [\"West Brom\", \"Liverpool\", \"Aston Villa\", \"Arsenal\"], \"xaxis\": \"x\", \"y\": [1, 1, 2, 1], \"yaxis\": \"y\"}, {\"alignmentgroup\": \"True\", \"customdata\": [[\"West Brom\"], [\"Manchester Utd\"], [\"Leicester City\"], [\"Fulham\"], [\"Everton\"]], \"hovertemplate\": \"Nation=NGA<br>Squad=%{customdata[0]}<br>count=%{y}<extra></extra>\", \"legendgroup\": \"NGA\", \"marker\": {\"color\": \"#FFA15A\"}, \"name\": \"NGA\", \"offsetgroup\": \"NGA\", \"orientation\": \"v\", \"showlegend\": true, \"textposition\": \"auto\", \"type\": \"bar\", \"x\": [\"West Brom\", \"Manchester Utd\", \"Leicester City\", \"Fulham\", \"Everton\"], \"xaxis\": \"x\", \"y\": [1, 1, 2, 2, 1], \"yaxis\": \"y\"}, {\"alignmentgroup\": \"True\", \"customdata\": [[\"West Brom\"], [\"Liverpool\"], [\"Leicester City\"], [\"Crystal Palace\"], [\"Chelsea\"]], \"hovertemplate\": \"Nation=SEN<br>Squad=%{customdata[0]}<br>count=%{y}<extra></extra>\", \"legendgroup\": \"SEN\", \"marker\": {\"color\": \"#19d3f3\"}, \"name\": \"SEN\", \"offsetgroup\": \"SEN\", \"orientation\": \"v\", \"showlegend\": true, \"textposition\": \"auto\", \"type\": \"bar\", \"x\": [\"West Brom\", \"Liverpool\", \"Leicester City\", \"Crystal Palace\", \"Chelsea\"], \"xaxis\": \"x\", \"y\": [1, 1, 1, 1, 1], \"yaxis\": \"y\"}, {\"alignmentgroup\": \"True\", \"customdata\": [[\"West Brom\"]], \"hovertemplate\": \"Nation=SKN<br>Squad=%{customdata[0]}<br>count=%{y}<extra></extra>\", \"legendgroup\": \"SKN\", \"marker\": {\"color\": \"#FF6692\"}, \"name\": \"SKN\", \"offsetgroup\": \"SKN\", \"orientation\": \"v\", \"showlegend\": true, \"textposition\": \"auto\", \"type\": \"bar\", \"x\": [\"West Brom\"], \"xaxis\": \"x\", \"y\": [1], \"yaxis\": \"y\"}, {\"alignmentgroup\": \"True\", \"customdata\": [[\"West Brom\"], [\"Manchester Utd\"], [\"Fulham\"], [\"Crystal Palace\"]], \"hovertemplate\": \"Nation=SRB<br>Squad=%{customdata[0]}<br>count=%{y}<extra></extra>\", \"legendgroup\": \"SRB\", \"marker\": {\"color\": \"#B6E880\"}, \"name\": \"SRB\", \"offsetgroup\": \"SRB\", \"orientation\": \"v\", \"showlegend\": true, \"textposition\": \"auto\", \"type\": \"bar\", \"x\": [\"West Brom\", \"Manchester Utd\", \"Fulham\", \"Crystal Palace\"], \"xaxis\": \"x\", \"y\": [1, 1, 1, 1], \"yaxis\": \"y\"}, {\"alignmentgroup\": \"True\", \"customdata\": [[\"West Brom\"], [\"Liverpool\"], [\"Leicester City\"], [\"Everton\"]], \"hovertemplate\": \"Nation=TUR<br>Squad=%{customdata[0]}<br>count=%{y}<extra></extra>\", \"legendgroup\": \"TUR\", \"marker\": {\"color\": \"#FF97FF\"}, \"name\": \"TUR\", \"offsetgroup\": \"TUR\", \"orientation\": \"v\", \"showlegend\": true, \"textposition\": \"auto\", \"type\": \"bar\", \"x\": [\"West Brom\", \"Liverpool\", \"Leicester City\", \"Everton\"], \"xaxis\": \"x\", \"y\": [1, 1, 2, 1], \"yaxis\": \"y\"}, {\"alignmentgroup\": \"True\", \"customdata\": [[\"West Brom\"], [\"Tottenham\"], [\"Sheffield Utd\"], [\"Newcastle Utd\"], [\"Manchester Utd\"], [\"Liverpool\"], [\"Leeds United\"], [\"Aston Villa\"]], \"hovertemplate\": \"Nation=WAL<br>Squad=%{customdata[0]}<br>count=%{y}<extra></extra>\", \"legendgroup\": \"WAL\", \"marker\": {\"color\": \"#FECB52\"}, \"name\": \"WAL\", \"offsetgroup\": \"WAL\", \"orientation\": \"v\", \"showlegend\": true, \"textposition\": \"auto\", \"type\": \"bar\", \"x\": [\"West Brom\", \"Tottenham\", \"Sheffield Utd\", \"Newcastle Utd\", \"Manchester Utd\", \"Liverpool\", \"Leeds United\", \"Aston Villa\"], \"xaxis\": \"x\", \"y\": [1, 3, 1, 1, 1, 1, 2, 1], \"yaxis\": \"y\"}, {\"alignmentgroup\": \"True\", \"customdata\": [[\"Tottenham\"], [\"Everton\"], [\"Brighton\"]], \"hovertemplate\": \"Nation=COL<br>Squad=%{customdata[0]}<br>count=%{y}<extra></extra>\", \"legendgroup\": \"COL\", \"marker\": {\"color\": \"#636efa\"}, \"name\": \"COL\", \"offsetgroup\": \"COL\", \"orientation\": \"v\", \"showlegend\": true, \"textposition\": \"auto\", \"type\": \"bar\", \"x\": [\"Tottenham\", \"Everton\", \"Brighton\"], \"xaxis\": \"x\", \"y\": [1, 2, 1], \"yaxis\": \"y\"}, {\"alignmentgroup\": \"True\", \"customdata\": [[\"Tottenham\"]], \"hovertemplate\": \"Nation=KOR<br>Squad=%{customdata[0]}<br>count=%{y}<extra></extra>\", \"legendgroup\": \"KOR\", \"marker\": {\"color\": \"#EF553B\"}, \"name\": \"KOR\", \"offsetgroup\": \"KOR\", \"orientation\": \"v\", \"showlegend\": true, \"textposition\": \"auto\", \"type\": \"bar\", \"x\": [\"Tottenham\"], \"xaxis\": \"x\", \"y\": [1], \"yaxis\": \"y\"}, {\"alignmentgroup\": \"True\", \"customdata\": [[\"Southampton\"], [\"Brighton\"], [\"Arsenal\"]], \"hovertemplate\": \"Nation=AUS<br>Squad=%{customdata[0]}<br>count=%{y}<extra></extra>\", \"legendgroup\": \"AUS\", \"marker\": {\"color\": \"#00cc96\"}, \"name\": \"AUS\", \"offsetgroup\": \"AUS\", \"orientation\": \"v\", \"showlegend\": true, \"textposition\": \"auto\", \"type\": \"bar\", \"x\": [\"Southampton\", \"Brighton\", \"Arsenal\"], \"xaxis\": \"x\", \"y\": [1, 1, 1], \"yaxis\": \"y\"}, {\"alignmentgroup\": \"True\", \"customdata\": [[\"Southampton\"], [\"Leicester City\"], [\"Crystal Palace\"], [\"Arsenal\"]], \"hovertemplate\": \"Nation=GHA<br>Squad=%{customdata[0]}<br>count=%{y}<extra></extra>\", \"legendgroup\": \"GHA\", \"marker\": {\"color\": \"#ab63fa\"}, \"name\": \"GHA\", \"offsetgroup\": \"GHA\", \"orientation\": \"v\", \"showlegend\": true, \"textposition\": \"auto\", \"type\": \"bar\", \"x\": [\"Southampton\", \"Leicester City\", \"Crystal Palace\", \"Arsenal\"], \"xaxis\": \"x\", \"y\": [1, 1, 2, 1], \"yaxis\": \"y\"}, {\"alignmentgroup\": \"True\", \"customdata\": [[\"Southampton\"], [\"Liverpool\"]], \"hovertemplate\": \"Nation=JPN<br>Squad=%{customdata[0]}<br>count=%{y}<extra></extra>\", \"legendgroup\": \"JPN\", \"marker\": {\"color\": \"#FFA15A\"}, \"name\": \"JPN\", \"offsetgroup\": \"JPN\", \"orientation\": \"v\", \"showlegend\": true, \"textposition\": \"auto\", \"type\": \"bar\", \"x\": [\"Southampton\", \"Liverpool\"], \"xaxis\": \"x\", \"y\": [1, 1], \"yaxis\": \"y\"}, {\"alignmentgroup\": \"True\", \"customdata\": [[\"Southampton\"], [\"Brighton\"]], \"hovertemplate\": \"Nation=MLI<br>Squad=%{customdata[0]}<br>count=%{y}<extra></extra>\", \"legendgroup\": \"MLI\", \"marker\": {\"color\": \"#19d3f3\"}, \"name\": \"MLI\", \"offsetgroup\": \"MLI\", \"orientation\": \"v\", \"showlegend\": true, \"textposition\": \"auto\", \"type\": \"bar\", \"x\": [\"Southampton\", \"Brighton\"], \"xaxis\": \"x\", \"y\": [1, 1], \"yaxis\": \"y\"}, {\"alignmentgroup\": \"True\", \"customdata\": [[\"Southampton\"], [\"Newcastle Utd\"], [\"Liverpool\"], [\"Brighton\"], [\"Arsenal\"]], \"hovertemplate\": \"Nation=SUI<br>Squad=%{customdata[0]}<br>count=%{y}<extra></extra>\", \"legendgroup\": \"SUI\", \"marker\": {\"color\": \"#FF6692\"}, \"name\": \"SUI\", \"offsetgroup\": \"SUI\", \"orientation\": \"v\", \"showlegend\": true, \"textposition\": \"auto\", \"type\": \"bar\", \"x\": [\"Southampton\", \"Newcastle Utd\", \"Liverpool\", \"Brighton\", \"Arsenal\"], \"xaxis\": \"x\", \"y\": [1, 1, 1, 1, 1], \"yaxis\": \"y\"}, {\"alignmentgroup\": \"True\", \"customdata\": [[\"Sheffield Utd\"], [\"Newcastle Utd\"], [\"Leicester City\"], [\"Leeds United\"], [\"Burnley\"]], \"hovertemplate\": \"Nation=NIR<br>Squad=%{customdata[0]}<br>count=%{y}<extra></extra>\", \"legendgroup\": \"NIR\", \"marker\": {\"color\": \"#B6E880\"}, \"name\": \"NIR\", \"offsetgroup\": \"NIR\", \"orientation\": \"v\", \"showlegend\": true, \"textposition\": \"auto\", \"type\": \"bar\", \"x\": [\"Sheffield Utd\", \"Newcastle Utd\", \"Leicester City\", \"Leeds United\", \"Burnley\"], \"xaxis\": \"x\", \"y\": [1, 1, 1, 1, 1], \"yaxis\": \"y\"}, {\"alignmentgroup\": \"True\", \"customdata\": [[\"Sheffield Utd\"], [\"Everton\"], [\"Arsenal\"]], \"hovertemplate\": \"Nation=NOR<br>Squad=%{customdata[0]}<br>count=%{y}<extra></extra>\", \"legendgroup\": \"NOR\", \"marker\": {\"color\": \"#FF97FF\"}, \"name\": \"NOR\", \"offsetgroup\": \"NOR\", \"orientation\": \"v\", \"showlegend\": true, \"textposition\": \"auto\", \"type\": \"bar\", \"x\": [\"Sheffield Utd\", \"Everton\", \"Arsenal\"], \"xaxis\": \"x\", \"y\": [1, 1, 1], \"yaxis\": \"y\"}, {\"alignmentgroup\": \"True\", \"customdata\": [[\"Newcastle Utd\"], [\"Fulham\"]], \"hovertemplate\": \"Nation=SVK<br>Squad=%{customdata[0]}<br>count=%{y}<extra></extra>\", \"legendgroup\": \"SVK\", \"marker\": {\"color\": \"#FECB52\"}, \"name\": \"SVK\", \"offsetgroup\": \"SVK\", \"orientation\": \"v\", \"showlegend\": true, \"textposition\": \"auto\", \"type\": \"bar\", \"x\": [\"Newcastle Utd\", \"Fulham\"], \"xaxis\": \"x\", \"y\": [1, 1], \"yaxis\": \"y\"}, {\"alignmentgroup\": \"True\", \"customdata\": [[\"Newcastle Utd\"], [\"Manchester Utd\"], [\"Everton\"], [\"Burnley\"]], \"hovertemplate\": \"Nation=SWE<br>Squad=%{customdata[0]}<br>count=%{y}<extra></extra>\", \"legendgroup\": \"SWE\", \"marker\": {\"color\": \"#636efa\"}, \"name\": \"SWE\", \"offsetgroup\": \"SWE\", \"orientation\": \"v\", \"showlegend\": true, \"textposition\": \"auto\", \"type\": \"bar\", \"x\": [\"Newcastle Utd\", \"Manchester Utd\", \"Everton\", \"Burnley\"], \"xaxis\": \"x\", \"y\": [1, 1, 1, 1], \"yaxis\": \"y\"}, {\"alignmentgroup\": \"True\", \"customdata\": [[\"Manchester Utd\"]], \"hovertemplate\": \"Nation=URU<br>Squad=%{customdata[0]}<br>count=%{y}<extra></extra>\", \"legendgroup\": \"URU\", \"marker\": {\"color\": \"#EF553B\"}, \"name\": \"URU\", \"offsetgroup\": \"URU\", \"orientation\": \"v\", \"showlegend\": true, \"textposition\": \"auto\", \"type\": \"bar\", \"x\": [\"Manchester Utd\"], \"xaxis\": \"x\", \"y\": [1], \"yaxis\": \"y\"}, {\"alignmentgroup\": \"True\", \"customdata\": [[\"Manchester City\"], [\"Leeds United\"], [\"Chelsea\"], [\"Brighton\"], [\"Arsenal\"]], \"hovertemplate\": \"Nation=GER<br>Squad=%{customdata[0]}<br>count=%{y}<extra></extra>\", \"legendgroup\": \"GER\", \"marker\": {\"color\": \"#00cc96\"}, \"name\": \"GER\", \"offsetgroup\": \"GER\", \"orientation\": \"v\", \"showlegend\": true, \"textposition\": \"auto\", \"type\": \"bar\", \"x\": [\"Manchester City\", \"Leeds United\", \"Chelsea\", \"Brighton\", \"Arsenal\"], \"xaxis\": \"x\", \"y\": [1, 1, 3, 2, 2], \"yaxis\": \"y\"}, {\"alignmentgroup\": \"True\", \"customdata\": [[\"Liverpool\"], [\"Fulham\"]], \"hovertemplate\": \"Nation=CMR<br>Squad=%{customdata[0]}<br>count=%{y}<extra></extra>\", \"legendgroup\": \"CMR\", \"marker\": {\"color\": \"#ab63fa\"}, \"name\": \"CMR\", \"offsetgroup\": \"CMR\", \"orientation\": \"v\", \"showlegend\": true, \"textposition\": \"auto\", \"type\": \"bar\", \"x\": [\"Liverpool\", \"Fulham\"], \"xaxis\": \"x\", \"y\": [1, 1], \"yaxis\": \"y\"}, {\"alignmentgroup\": \"True\", \"customdata\": [[\"Liverpool\"]], \"hovertemplate\": \"Nation=GRE<br>Squad=%{customdata[0]}<br>count=%{y}<extra></extra>\", \"legendgroup\": \"GRE\", \"marker\": {\"color\": \"#FFA15A\"}, \"name\": \"GRE\", \"offsetgroup\": \"GRE\", \"orientation\": \"v\", \"showlegend\": true, \"textposition\": \"auto\", \"type\": \"bar\", \"x\": [\"Liverpool\"], \"xaxis\": \"x\", \"y\": [1], \"yaxis\": \"y\"}, {\"alignmentgroup\": \"True\", \"customdata\": [[\"Liverpool\"]], \"hovertemplate\": \"Nation=GUI<br>Squad=%{customdata[0]}<br>count=%{y}<extra></extra>\", \"legendgroup\": \"GUI\", \"marker\": {\"color\": \"#19d3f3\"}, \"name\": \"GUI\", \"offsetgroup\": \"GUI\", \"orientation\": \"v\", \"showlegend\": true, \"textposition\": \"auto\", \"type\": \"bar\", \"x\": [\"Liverpool\"], \"xaxis\": \"x\", \"y\": [1], \"yaxis\": \"y\"}, {\"alignmentgroup\": \"True\", \"customdata\": [[\"Leicester City\"]], \"hovertemplate\": \"Nation=AUT<br>Squad=%{customdata[0]}<br>count=%{y}<extra></extra>\", \"legendgroup\": \"AUT\", \"marker\": {\"color\": \"#FF6692\"}, \"name\": \"AUT\", \"offsetgroup\": \"AUT\", \"orientation\": \"v\", \"showlegend\": true, \"textposition\": \"auto\", \"type\": \"bar\", \"x\": [\"Leicester City\"], \"xaxis\": \"x\", \"y\": [1], \"yaxis\": \"y\"}, {\"alignmentgroup\": \"True\", \"customdata\": [[\"Leicester City\"], [\"Fulham\"]], \"hovertemplate\": \"Nation=JAM<br>Squad=%{customdata[0]}<br>count=%{y}<extra></extra>\", \"legendgroup\": \"JAM\", \"marker\": {\"color\": \"#B6E880\"}, \"name\": \"JAM\", \"offsetgroup\": \"JAM\", \"orientation\": \"v\", \"showlegend\": true, \"textposition\": \"auto\", \"type\": \"bar\", \"x\": [\"Leicester City\", \"Fulham\"], \"xaxis\": \"x\", \"y\": [1, 2], \"yaxis\": \"y\"}, {\"alignmentgroup\": \"True\", \"customdata\": [[\"Leicester City\"], [\"Brighton\"]], \"hovertemplate\": \"Nation=RSA<br>Squad=%{customdata[0]}<br>count=%{y}<extra></extra>\", \"legendgroup\": \"RSA\", \"marker\": {\"color\": \"#FF97FF\"}, \"name\": \"RSA\", \"offsetgroup\": \"RSA\", \"orientation\": \"v\", \"showlegend\": true, \"textposition\": \"auto\", \"type\": \"bar\", \"x\": [\"Leicester City\", \"Brighton\"], \"xaxis\": \"x\", \"y\": [1, 1], \"yaxis\": \"y\"}, {\"alignmentgroup\": \"True\", \"customdata\": [[\"Leeds United\"]], \"hovertemplate\": \"Nation=MKD<br>Squad=%{customdata[0]}<br>count=%{y}<extra></extra>\", \"legendgroup\": \"MKD\", \"marker\": {\"color\": \"#FECB52\"}, \"name\": \"MKD\", \"offsetgroup\": \"MKD\", \"orientation\": \"v\", \"showlegend\": true, \"textposition\": \"auto\", \"type\": \"bar\", \"x\": [\"Leeds United\"], \"xaxis\": \"x\", \"y\": [1], \"yaxis\": \"y\"}, {\"alignmentgroup\": \"True\", \"customdata\": [[\"Fulham\"], [\"Arsenal\"]], \"hovertemplate\": \"Nation=GAB<br>Squad=%{customdata[0]}<br>count=%{y}<extra></extra>\", \"legendgroup\": \"GAB\", \"marker\": {\"color\": \"#636efa\"}, \"name\": \"GAB\", \"offsetgroup\": \"GAB\", \"orientation\": \"v\", \"showlegend\": true, \"textposition\": \"auto\", \"type\": \"bar\", \"x\": [\"Fulham\", \"Arsenal\"], \"xaxis\": \"x\", \"y\": [1, 1], \"yaxis\": \"y\"}, {\"alignmentgroup\": \"True\", \"customdata\": [[\"Fulham\"]], \"hovertemplate\": \"Nation=MTN<br>Squad=%{customdata[0]}<br>count=%{y}<extra></extra>\", \"legendgroup\": \"MTN\", \"marker\": {\"color\": \"#EF553B\"}, \"name\": \"MTN\", \"offsetgroup\": \"MTN\", \"orientation\": \"v\", \"showlegend\": true, \"textposition\": \"auto\", \"type\": \"bar\", \"x\": [\"Fulham\"], \"xaxis\": \"x\", \"y\": [1], \"yaxis\": \"y\"}, {\"alignmentgroup\": \"True\", \"customdata\": [[\"Everton\"], [\"Burnley\"], [\"Arsenal\"]], \"hovertemplate\": \"Nation=ISL<br>Squad=%{customdata[0]}<br>count=%{y}<extra></extra>\", \"legendgroup\": \"ISL\", \"marker\": {\"color\": \"#00cc96\"}, \"name\": \"ISL\", \"offsetgroup\": \"ISL\", \"orientation\": \"v\", \"showlegend\": true, \"textposition\": \"auto\", \"type\": \"bar\", \"x\": [\"Everton\", \"Burnley\", \"Arsenal\"], \"xaxis\": \"x\", \"y\": [1, 1, 1], \"yaxis\": \"y\"}, {\"alignmentgroup\": \"True\", \"customdata\": [[\"Burnley\"]], \"hovertemplate\": \"Nation=NZL<br>Squad=%{customdata[0]}<br>count=%{y}<extra></extra>\", \"legendgroup\": \"NZL\", \"marker\": {\"color\": \"#ab63fa\"}, \"name\": \"NZL\", \"offsetgroup\": \"NZL\", \"orientation\": \"v\", \"showlegend\": true, \"textposition\": \"auto\", \"type\": \"bar\", \"x\": [\"Burnley\"], \"xaxis\": \"x\", \"y\": [1], \"yaxis\": \"y\"}, {\"alignmentgroup\": \"True\", \"customdata\": [[\"Brighton\"]], \"hovertemplate\": \"Nation=IRN<br>Squad=%{customdata[0]}<br>count=%{y}<extra></extra>\", \"legendgroup\": \"IRN\", \"marker\": {\"color\": \"#FFA15A\"}, \"name\": \"IRN\", \"offsetgroup\": \"IRN\", \"orientation\": \"v\", \"showlegend\": true, \"textposition\": \"auto\", \"type\": \"bar\", \"x\": [\"Brighton\"], \"xaxis\": \"x\", \"y\": [1], \"yaxis\": \"y\"}, {\"alignmentgroup\": \"True\", \"customdata\": [[\"Aston Villa\"]], \"hovertemplate\": \"Nation=BFA<br>Squad=%{customdata[0]}<br>count=%{y}<extra></extra>\", \"legendgroup\": \"BFA\", \"marker\": {\"color\": \"#19d3f3\"}, \"name\": \"BFA\", \"offsetgroup\": \"BFA\", \"orientation\": \"v\", \"showlegend\": true, \"textposition\": \"auto\", \"type\": \"bar\", \"x\": [\"Aston Villa\"], \"xaxis\": \"x\", \"y\": [1], \"yaxis\": \"y\"}, {\"alignmentgroup\": \"True\", \"customdata\": [[\"Aston Villa\"]], \"hovertemplate\": \"Nation=ZIM<br>Squad=%{customdata[0]}<br>count=%{y}<extra></extra>\", \"legendgroup\": \"ZIM\", \"marker\": {\"color\": \"#FF6692\"}, \"name\": \"ZIM\", \"offsetgroup\": \"ZIM\", \"orientation\": \"v\", \"showlegend\": true, \"textposition\": \"auto\", \"type\": \"bar\", \"x\": [\"Aston Villa\"], \"xaxis\": \"x\", \"y\": [1], \"yaxis\": \"y\"}, {\"alignmentgroup\": \"True\", \"customdata\": [[\"Arsenal\"]], \"hovertemplate\": \"Nation=BIH<br>Squad=%{customdata[0]}<br>count=%{y}<extra></extra>\", \"legendgroup\": \"BIH\", \"marker\": {\"color\": \"#B6E880\"}, \"name\": \"BIH\", \"offsetgroup\": \"BIH\", \"orientation\": \"v\", \"showlegend\": true, \"textposition\": \"auto\", \"type\": \"bar\", \"x\": [\"Arsenal\"], \"xaxis\": \"x\", \"y\": [1], \"yaxis\": \"y\"}],                        {\"barmode\": \"stack\", \"legend\": {\"title\": {\"text\": \"Nation\"}, \"tracegroupgap\": 0}, \"template\": {\"data\": {\"bar\": [{\"error_x\": {\"color\": \"#2a3f5f\"}, \"error_y\": {\"color\": \"#2a3f5f\"}, \"marker\": {\"line\": {\"color\": \"#E5ECF6\", \"width\": 0.5}}, \"type\": \"bar\"}], \"barpolar\": [{\"marker\": {\"line\": {\"color\": \"#E5ECF6\", \"width\": 0.5}}, \"type\": \"barpolar\"}], \"carpet\": [{\"aaxis\": {\"endlinecolor\": \"#2a3f5f\", \"gridcolor\": \"white\", \"linecolor\": \"white\", \"minorgridcolor\": \"white\", \"startlinecolor\": \"#2a3f5f\"}, \"baxis\": {\"endlinecolor\": \"#2a3f5f\", \"gridcolor\": \"white\", \"linecolor\": \"white\", \"minorgridcolor\": \"white\", \"startlinecolor\": \"#2a3f5f\"}, \"type\": \"carpet\"}], \"choropleth\": [{\"colorbar\": {\"outlinewidth\": 0, \"ticks\": \"\"}, \"type\": \"choropleth\"}], \"contour\": [{\"colorbar\": {\"outlinewidth\": 0, \"ticks\": \"\"}, \"colorscale\": [[0.0, \"#0d0887\"], [0.1111111111111111, \"#46039f\"], [0.2222222222222222, \"#7201a8\"], [0.3333333333333333, \"#9c179e\"], [0.4444444444444444, \"#bd3786\"], [0.5555555555555556, \"#d8576b\"], [0.6666666666666666, \"#ed7953\"], [0.7777777777777778, \"#fb9f3a\"], [0.8888888888888888, \"#fdca26\"], [1.0, \"#f0f921\"]], \"type\": \"contour\"}], \"contourcarpet\": [{\"colorbar\": {\"outlinewidth\": 0, \"ticks\": \"\"}, \"type\": \"contourcarpet\"}], \"heatmap\": [{\"colorbar\": {\"outlinewidth\": 0, \"ticks\": \"\"}, \"colorscale\": [[0.0, \"#0d0887\"], [0.1111111111111111, \"#46039f\"], [0.2222222222222222, \"#7201a8\"], [0.3333333333333333, \"#9c179e\"], [0.4444444444444444, \"#bd3786\"], [0.5555555555555556, \"#d8576b\"], [0.6666666666666666, \"#ed7953\"], [0.7777777777777778, \"#fb9f3a\"], [0.8888888888888888, \"#fdca26\"], [1.0, \"#f0f921\"]], \"type\": \"heatmap\"}], \"heatmapgl\": [{\"colorbar\": {\"outlinewidth\": 0, \"ticks\": \"\"}, \"colorscale\": [[0.0, \"#0d0887\"], [0.1111111111111111, \"#46039f\"], [0.2222222222222222, \"#7201a8\"], [0.3333333333333333, \"#9c179e\"], [0.4444444444444444, \"#bd3786\"], [0.5555555555555556, \"#d8576b\"], [0.6666666666666666, \"#ed7953\"], [0.7777777777777778, \"#fb9f3a\"], [0.8888888888888888, \"#fdca26\"], [1.0, \"#f0f921\"]], \"type\": \"heatmapgl\"}], \"histogram\": [{\"marker\": {\"colorbar\": {\"outlinewidth\": 0, \"ticks\": \"\"}}, \"type\": \"histogram\"}], \"histogram2d\": [{\"colorbar\": {\"outlinewidth\": 0, \"ticks\": \"\"}, \"colorscale\": [[0.0, \"#0d0887\"], [0.1111111111111111, \"#46039f\"], [0.2222222222222222, \"#7201a8\"], [0.3333333333333333, \"#9c179e\"], [0.4444444444444444, \"#bd3786\"], [0.5555555555555556, \"#d8576b\"], [0.6666666666666666, \"#ed7953\"], [0.7777777777777778, \"#fb9f3a\"], [0.8888888888888888, \"#fdca26\"], [1.0, \"#f0f921\"]], \"type\": \"histogram2d\"}], \"histogram2dcontour\": [{\"colorbar\": {\"outlinewidth\": 0, \"ticks\": \"\"}, \"colorscale\": [[0.0, \"#0d0887\"], [0.1111111111111111, \"#46039f\"], [0.2222222222222222, \"#7201a8\"], [0.3333333333333333, \"#9c179e\"], [0.4444444444444444, \"#bd3786\"], [0.5555555555555556, \"#d8576b\"], [0.6666666666666666, \"#ed7953\"], [0.7777777777777778, \"#fb9f3a\"], [0.8888888888888888, \"#fdca26\"], [1.0, \"#f0f921\"]], \"type\": \"histogram2dcontour\"}], \"mesh3d\": [{\"colorbar\": {\"outlinewidth\": 0, \"ticks\": \"\"}, \"type\": \"mesh3d\"}], \"parcoords\": [{\"line\": {\"colorbar\": {\"outlinewidth\": 0, \"ticks\": \"\"}}, \"type\": \"parcoords\"}], \"pie\": [{\"automargin\": true, \"type\": \"pie\"}], \"scatter\": [{\"marker\": {\"colorbar\": {\"outlinewidth\": 0, \"ticks\": \"\"}}, \"type\": \"scatter\"}], \"scatter3d\": [{\"line\": {\"colorbar\": {\"outlinewidth\": 0, \"ticks\": \"\"}}, \"marker\": {\"colorbar\": {\"outlinewidth\": 0, \"ticks\": \"\"}}, \"type\": \"scatter3d\"}], \"scattercarpet\": [{\"marker\": {\"colorbar\": {\"outlinewidth\": 0, \"ticks\": \"\"}}, \"type\": \"scattercarpet\"}], \"scattergeo\": [{\"marker\": {\"colorbar\": {\"outlinewidth\": 0, \"ticks\": \"\"}}, \"type\": \"scattergeo\"}], \"scattergl\": [{\"marker\": {\"colorbar\": {\"outlinewidth\": 0, \"ticks\": \"\"}}, \"type\": \"scattergl\"}], \"scattermapbox\": [{\"marker\": {\"colorbar\": {\"outlinewidth\": 0, \"ticks\": \"\"}}, \"type\": \"scattermapbox\"}], \"scatterpolar\": [{\"marker\": {\"colorbar\": {\"outlinewidth\": 0, \"ticks\": \"\"}}, \"type\": \"scatterpolar\"}], \"scatterpolargl\": [{\"marker\": {\"colorbar\": {\"outlinewidth\": 0, \"ticks\": \"\"}}, \"type\": \"scatterpolargl\"}], \"scatterternary\": [{\"marker\": {\"colorbar\": {\"outlinewidth\": 0, \"ticks\": \"\"}}, \"type\": \"scatterternary\"}], \"surface\": [{\"colorbar\": {\"outlinewidth\": 0, \"ticks\": \"\"}, \"colorscale\": [[0.0, \"#0d0887\"], [0.1111111111111111, \"#46039f\"], [0.2222222222222222, \"#7201a8\"], [0.3333333333333333, \"#9c179e\"], [0.4444444444444444, \"#bd3786\"], [0.5555555555555556, \"#d8576b\"], [0.6666666666666666, \"#ed7953\"], [0.7777777777777778, \"#fb9f3a\"], [0.8888888888888888, \"#fdca26\"], [1.0, \"#f0f921\"]], \"type\": \"surface\"}], \"table\": [{\"cells\": {\"fill\": {\"color\": \"#EBF0F8\"}, \"line\": {\"color\": \"white\"}}, \"header\": {\"fill\": {\"color\": \"#C8D4E3\"}, \"line\": {\"color\": \"white\"}}, \"type\": \"table\"}]}, \"layout\": {\"annotationdefaults\": {\"arrowcolor\": \"#2a3f5f\", \"arrowhead\": 0, \"arrowwidth\": 1}, \"coloraxis\": {\"colorbar\": {\"outlinewidth\": 0, \"ticks\": \"\"}}, \"colorscale\": {\"diverging\": [[0, \"#8e0152\"], [0.1, \"#c51b7d\"], [0.2, \"#de77ae\"], [0.3, \"#f1b6da\"], [0.4, \"#fde0ef\"], [0.5, \"#f7f7f7\"], [0.6, \"#e6f5d0\"], [0.7, \"#b8e186\"], [0.8, \"#7fbc41\"], [0.9, \"#4d9221\"], [1, \"#276419\"]], \"sequential\": [[0.0, \"#0d0887\"], [0.1111111111111111, \"#46039f\"], [0.2222222222222222, \"#7201a8\"], [0.3333333333333333, \"#9c179e\"], [0.4444444444444444, \"#bd3786\"], [0.5555555555555556, \"#d8576b\"], [0.6666666666666666, \"#ed7953\"], [0.7777777777777778, \"#fb9f3a\"], [0.8888888888888888, \"#fdca26\"], [1.0, \"#f0f921\"]], \"sequentialminus\": [[0.0, \"#0d0887\"], [0.1111111111111111, \"#46039f\"], [0.2222222222222222, \"#7201a8\"], [0.3333333333333333, \"#9c179e\"], [0.4444444444444444, \"#bd3786\"], [0.5555555555555556, \"#d8576b\"], [0.6666666666666666, \"#ed7953\"], [0.7777777777777778, \"#fb9f3a\"], [0.8888888888888888, \"#fdca26\"], [1.0, \"#f0f921\"]]}, \"colorway\": [\"#636efa\", \"#EF553B\", \"#00cc96\", \"#ab63fa\", \"#FFA15A\", \"#19d3f3\", \"#FF6692\", \"#B6E880\", \"#FF97FF\", \"#FECB52\"], \"font\": {\"color\": \"#2a3f5f\"}, \"geo\": {\"bgcolor\": \"white\", \"lakecolor\": \"white\", \"landcolor\": \"#E5ECF6\", \"showlakes\": true, \"showland\": true, \"subunitcolor\": \"white\"}, \"hoverlabel\": {\"align\": \"left\"}, \"hovermode\": \"closest\", \"mapbox\": {\"style\": \"light\"}, \"paper_bgcolor\": \"white\", \"plot_bgcolor\": \"#E5ECF6\", \"polar\": {\"angularaxis\": {\"gridcolor\": \"white\", \"linecolor\": \"white\", \"ticks\": \"\"}, \"bgcolor\": \"#E5ECF6\", \"radialaxis\": {\"gridcolor\": \"white\", \"linecolor\": \"white\", \"ticks\": \"\"}}, \"scene\": {\"xaxis\": {\"backgroundcolor\": \"#E5ECF6\", \"gridcolor\": \"white\", \"gridwidth\": 2, \"linecolor\": \"white\", \"showbackground\": true, \"ticks\": \"\", \"zerolinecolor\": \"white\"}, \"yaxis\": {\"backgroundcolor\": \"#E5ECF6\", \"gridcolor\": \"white\", \"gridwidth\": 2, \"linecolor\": \"white\", \"showbackground\": true, \"ticks\": \"\", \"zerolinecolor\": \"white\"}, \"zaxis\": {\"backgroundcolor\": \"#E5ECF6\", \"gridcolor\": \"white\", \"gridwidth\": 2, \"linecolor\": \"white\", \"showbackground\": true, \"ticks\": \"\", \"zerolinecolor\": \"white\"}}, \"shapedefaults\": {\"line\": {\"color\": \"#2a3f5f\"}}, \"ternary\": {\"aaxis\": {\"gridcolor\": \"white\", \"linecolor\": \"white\", \"ticks\": \"\"}, \"baxis\": {\"gridcolor\": \"white\", \"linecolor\": \"white\", \"ticks\": \"\"}, \"bgcolor\": \"#E5ECF6\", \"caxis\": {\"gridcolor\": \"white\", \"linecolor\": \"white\", \"ticks\": \"\"}}, \"title\": {\"x\": 0.05}, \"xaxis\": {\"automargin\": true, \"gridcolor\": \"white\", \"linecolor\": \"white\", \"ticks\": \"\", \"title\": {\"standoff\": 15}, \"zerolinecolor\": \"white\", \"zerolinewidth\": 2}, \"yaxis\": {\"automargin\": true, \"gridcolor\": \"white\", \"linecolor\": \"white\", \"ticks\": \"\", \"title\": {\"standoff\": 15}, \"zerolinecolor\": \"white\", \"zerolinewidth\": 2}}}, \"title\": {\"text\": \"EPL Player Nationality distribution By Team\"}, \"xaxis\": {\"anchor\": \"y\", \"domain\": [0.0, 1.0], \"title\": {\"text\": \"Squad\"}}, \"yaxis\": {\"anchor\": \"x\", \"domain\": [0.0, 1.0], \"title\": {\"text\": \"count\"}}},                        {\"responsive\": true}                    ).then(function(){\n",
       "                            \n",
       "var gd = document.getElementById('adb740e0-f601-427a-9af6-61d9087efd3e');\n",
       "var x = new MutationObserver(function (mutations, observer) {{\n",
       "        var display = window.getComputedStyle(gd).display;\n",
       "        if (!display || display === 'none') {{\n",
       "            console.log([gd, 'removed!']);\n",
       "            Plotly.purge(gd);\n",
       "            observer.disconnect();\n",
       "        }}\n",
       "}});\n",
       "\n",
       "// Listen for the removal of the full notebook cells\n",
       "var notebookContainer = gd.closest('#notebook-container');\n",
       "if (notebookContainer) {{\n",
       "    x.observe(notebookContainer, {childList: true});\n",
       "}}\n",
       "\n",
       "// Listen for the clearing of the current output cell\n",
       "var outputEl = gd.closest('.output');\n",
       "if (outputEl) {{\n",
       "    x.observe(outputEl, {childList: true});\n",
       "}}\n",
       "\n",
       "                        })                };                });            </script>        </div>"
      ]
     },
     "metadata": {},
     "output_type": "display_data"
    }
   ],
   "source": [
    "import plotly.express as px\n",
    " \n",
    "fig = px.bar(df_nation, x=\"Squad\", y=\"count\", color=\"Nation\",\n",
    "            hover_data=['Squad'], barmode = 'stack', title = \"EPL Player Nationality distribution By Team\")\n",
    " \n",
    "fig.show()"
   ]
  },
  {
   "cell_type": "code",
   "execution_count": 118,
   "metadata": {},
   "outputs": [],
   "source": [
    "df_age = df.groupby(['Age','Squad'])['Player'].count().reset_index(name='count')"
   ]
  },
  {
   "cell_type": "code",
   "execution_count": 119,
   "metadata": {},
   "outputs": [
    {
     "data": {
      "text/html": [
       "<div>\n",
       "<style scoped>\n",
       "    .dataframe tbody tr th:only-of-type {\n",
       "        vertical-align: middle;\n",
       "    }\n",
       "\n",
       "    .dataframe tbody tr th {\n",
       "        vertical-align: top;\n",
       "    }\n",
       "\n",
       "    .dataframe thead th {\n",
       "        text-align: right;\n",
       "    }\n",
       "</style>\n",
       "<table border=\"1\" class=\"dataframe\">\n",
       "  <thead>\n",
       "    <tr style=\"text-align: right;\">\n",
       "      <th></th>\n",
       "      <th>Age</th>\n",
       "      <th>Squad</th>\n",
       "      <th>count</th>\n",
       "    </tr>\n",
       "  </thead>\n",
       "  <tbody>\n",
       "    <tr>\n",
       "      <th>0</th>\n",
       "      <td>17</td>\n",
       "      <td>Manchester Utd</td>\n",
       "      <td>1</td>\n",
       "    </tr>\n",
       "    <tr>\n",
       "      <th>1</th>\n",
       "      <td>17</td>\n",
       "      <td>Sheffield Utd</td>\n",
       "      <td>1</td>\n",
       "    </tr>\n",
       "    <tr>\n",
       "      <th>2</th>\n",
       "      <td>17</td>\n",
       "      <td>Tottenham</td>\n",
       "      <td>1</td>\n",
       "    </tr>\n",
       "    <tr>\n",
       "      <th>3</th>\n",
       "      <td>18</td>\n",
       "      <td>Burnley</td>\n",
       "      <td>1</td>\n",
       "    </tr>\n",
       "    <tr>\n",
       "      <th>4</th>\n",
       "      <td>18</td>\n",
       "      <td>Manchester City</td>\n",
       "      <td>1</td>\n",
       "    </tr>\n",
       "    <tr>\n",
       "      <th>5</th>\n",
       "      <td>18</td>\n",
       "      <td>Newcastle Utd</td>\n",
       "      <td>1</td>\n",
       "    </tr>\n",
       "    <tr>\n",
       "      <th>6</th>\n",
       "      <td>18</td>\n",
       "      <td>Wolves</td>\n",
       "      <td>1</td>\n",
       "    </tr>\n",
       "    <tr>\n",
       "      <th>7</th>\n",
       "      <td>19</td>\n",
       "      <td>Arsenal</td>\n",
       "      <td>2</td>\n",
       "    </tr>\n",
       "    <tr>\n",
       "      <th>8</th>\n",
       "      <td>19</td>\n",
       "      <td>Aston Villa</td>\n",
       "      <td>1</td>\n",
       "    </tr>\n",
       "    <tr>\n",
       "      <th>9</th>\n",
       "      <td>19</td>\n",
       "      <td>Brighton</td>\n",
       "      <td>1</td>\n",
       "    </tr>\n",
       "    <tr>\n",
       "      <th>10</th>\n",
       "      <td>19</td>\n",
       "      <td>Chelsea</td>\n",
       "      <td>1</td>\n",
       "    </tr>\n",
       "    <tr>\n",
       "      <th>11</th>\n",
       "      <td>19</td>\n",
       "      <td>Leicester City</td>\n",
       "      <td>2</td>\n",
       "    </tr>\n",
       "    <tr>\n",
       "      <th>12</th>\n",
       "      <td>19</td>\n",
       "      <td>Liverpool</td>\n",
       "      <td>1</td>\n",
       "    </tr>\n",
       "    <tr>\n",
       "      <th>13</th>\n",
       "      <td>19</td>\n",
       "      <td>Manchester Utd</td>\n",
       "      <td>1</td>\n",
       "    </tr>\n",
       "    <tr>\n",
       "      <th>14</th>\n",
       "      <td>19</td>\n",
       "      <td>Southampton</td>\n",
       "      <td>3</td>\n",
       "    </tr>\n",
       "    <tr>\n",
       "      <th>15</th>\n",
       "      <td>19</td>\n",
       "      <td>Wolves</td>\n",
       "      <td>3</td>\n",
       "    </tr>\n",
       "    <tr>\n",
       "      <th>16</th>\n",
       "      <td>20</td>\n",
       "      <td>Arsenal</td>\n",
       "      <td>1</td>\n",
       "    </tr>\n",
       "    <tr>\n",
       "      <th>17</th>\n",
       "      <td>20</td>\n",
       "      <td>Brighton</td>\n",
       "      <td>1</td>\n",
       "    </tr>\n",
       "    <tr>\n",
       "      <th>18</th>\n",
       "      <td>20</td>\n",
       "      <td>Chelsea</td>\n",
       "      <td>1</td>\n",
       "    </tr>\n",
       "    <tr>\n",
       "      <th>19</th>\n",
       "      <td>20</td>\n",
       "      <td>Everton</td>\n",
       "      <td>2</td>\n",
       "    </tr>\n",
       "    <tr>\n",
       "      <th>20</th>\n",
       "      <td>20</td>\n",
       "      <td>Leeds United</td>\n",
       "      <td>1</td>\n",
       "    </tr>\n",
       "    <tr>\n",
       "      <th>21</th>\n",
       "      <td>20</td>\n",
       "      <td>Leicester City</td>\n",
       "      <td>1</td>\n",
       "    </tr>\n",
       "    <tr>\n",
       "      <th>22</th>\n",
       "      <td>20</td>\n",
       "      <td>Liverpool</td>\n",
       "      <td>2</td>\n",
       "    </tr>\n",
       "    <tr>\n",
       "      <th>23</th>\n",
       "      <td>20</td>\n",
       "      <td>Manchester City</td>\n",
       "      <td>2</td>\n",
       "    </tr>\n",
       "    <tr>\n",
       "      <th>24</th>\n",
       "      <td>20</td>\n",
       "      <td>Manchester Utd</td>\n",
       "      <td>1</td>\n",
       "    </tr>\n",
       "    <tr>\n",
       "      <th>25</th>\n",
       "      <td>20</td>\n",
       "      <td>Sheffield Utd</td>\n",
       "      <td>3</td>\n",
       "    </tr>\n",
       "    <tr>\n",
       "      <th>26</th>\n",
       "      <td>20</td>\n",
       "      <td>Southampton</td>\n",
       "      <td>2</td>\n",
       "    </tr>\n",
       "    <tr>\n",
       "      <th>27</th>\n",
       "      <td>21</td>\n",
       "      <td>Arsenal</td>\n",
       "      <td>3</td>\n",
       "    </tr>\n",
       "    <tr>\n",
       "      <th>28</th>\n",
       "      <td>21</td>\n",
       "      <td>Brighton</td>\n",
       "      <td>4</td>\n",
       "    </tr>\n",
       "    <tr>\n",
       "      <th>29</th>\n",
       "      <td>21</td>\n",
       "      <td>Burnley</td>\n",
       "      <td>2</td>\n",
       "    </tr>\n",
       "    <tr>\n",
       "      <th>30</th>\n",
       "      <td>21</td>\n",
       "      <td>Chelsea</td>\n",
       "      <td>2</td>\n",
       "    </tr>\n",
       "    <tr>\n",
       "      <th>31</th>\n",
       "      <td>21</td>\n",
       "      <td>Crystal Palace</td>\n",
       "      <td>1</td>\n",
       "    </tr>\n",
       "    <tr>\n",
       "      <th>32</th>\n",
       "      <td>21</td>\n",
       "      <td>Everton</td>\n",
       "      <td>2</td>\n",
       "    </tr>\n",
       "    <tr>\n",
       "      <th>33</th>\n",
       "      <td>21</td>\n",
       "      <td>Leeds United</td>\n",
       "      <td>5</td>\n",
       "    </tr>\n",
       "    <tr>\n",
       "      <th>34</th>\n",
       "      <td>21</td>\n",
       "      <td>Leicester City</td>\n",
       "      <td>1</td>\n",
       "    </tr>\n",
       "    <tr>\n",
       "      <th>35</th>\n",
       "      <td>21</td>\n",
       "      <td>Liverpool</td>\n",
       "      <td>1</td>\n",
       "    </tr>\n",
       "    <tr>\n",
       "      <th>36</th>\n",
       "      <td>21</td>\n",
       "      <td>Manchester City</td>\n",
       "      <td>1</td>\n",
       "    </tr>\n",
       "    <tr>\n",
       "      <th>37</th>\n",
       "      <td>21</td>\n",
       "      <td>Newcastle Utd</td>\n",
       "      <td>2</td>\n",
       "    </tr>\n",
       "    <tr>\n",
       "      <th>38</th>\n",
       "      <td>21</td>\n",
       "      <td>Sheffield Utd</td>\n",
       "      <td>1</td>\n",
       "    </tr>\n",
       "    <tr>\n",
       "      <th>39</th>\n",
       "      <td>21</td>\n",
       "      <td>Southampton</td>\n",
       "      <td>4</td>\n",
       "    </tr>\n",
       "    <tr>\n",
       "      <th>40</th>\n",
       "      <td>21</td>\n",
       "      <td>West Brom</td>\n",
       "      <td>2</td>\n",
       "    </tr>\n",
       "    <tr>\n",
       "      <th>41</th>\n",
       "      <td>21</td>\n",
       "      <td>West Ham</td>\n",
       "      <td>1</td>\n",
       "    </tr>\n",
       "    <tr>\n",
       "      <th>42</th>\n",
       "      <td>21</td>\n",
       "      <td>Wolves</td>\n",
       "      <td>4</td>\n",
       "    </tr>\n",
       "    <tr>\n",
       "      <th>43</th>\n",
       "      <td>22</td>\n",
       "      <td>Arsenal</td>\n",
       "      <td>1</td>\n",
       "    </tr>\n",
       "    <tr>\n",
       "      <th>44</th>\n",
       "      <td>22</td>\n",
       "      <td>Aston Villa</td>\n",
       "      <td>1</td>\n",
       "    </tr>\n",
       "    <tr>\n",
       "      <th>45</th>\n",
       "      <td>22</td>\n",
       "      <td>Brighton</td>\n",
       "      <td>2</td>\n",
       "    </tr>\n",
       "    <tr>\n",
       "      <th>46</th>\n",
       "      <td>22</td>\n",
       "      <td>Burnley</td>\n",
       "      <td>1</td>\n",
       "    </tr>\n",
       "    <tr>\n",
       "      <th>47</th>\n",
       "      <td>22</td>\n",
       "      <td>Chelsea</td>\n",
       "      <td>2</td>\n",
       "    </tr>\n",
       "    <tr>\n",
       "      <th>48</th>\n",
       "      <td>22</td>\n",
       "      <td>Crystal Palace</td>\n",
       "      <td>1</td>\n",
       "    </tr>\n",
       "    <tr>\n",
       "      <th>49</th>\n",
       "      <td>22</td>\n",
       "      <td>Everton</td>\n",
       "      <td>1</td>\n",
       "    </tr>\n",
       "    <tr>\n",
       "      <th>50</th>\n",
       "      <td>22</td>\n",
       "      <td>Fulham</td>\n",
       "      <td>1</td>\n",
       "    </tr>\n",
       "    <tr>\n",
       "      <th>51</th>\n",
       "      <td>22</td>\n",
       "      <td>Leeds United</td>\n",
       "      <td>1</td>\n",
       "    </tr>\n",
       "    <tr>\n",
       "      <th>52</th>\n",
       "      <td>22</td>\n",
       "      <td>Liverpool</td>\n",
       "      <td>2</td>\n",
       "    </tr>\n",
       "    <tr>\n",
       "      <th>53</th>\n",
       "      <td>22</td>\n",
       "      <td>Sheffield Utd</td>\n",
       "      <td>1</td>\n",
       "    </tr>\n",
       "    <tr>\n",
       "      <th>54</th>\n",
       "      <td>22</td>\n",
       "      <td>Southampton</td>\n",
       "      <td>4</td>\n",
       "    </tr>\n",
       "    <tr>\n",
       "      <th>55</th>\n",
       "      <td>22</td>\n",
       "      <td>Tottenham</td>\n",
       "      <td>1</td>\n",
       "    </tr>\n",
       "    <tr>\n",
       "      <th>56</th>\n",
       "      <td>22</td>\n",
       "      <td>West Brom</td>\n",
       "      <td>3</td>\n",
       "    </tr>\n",
       "    <tr>\n",
       "      <th>57</th>\n",
       "      <td>22</td>\n",
       "      <td>West Ham</td>\n",
       "      <td>1</td>\n",
       "    </tr>\n",
       "    <tr>\n",
       "      <th>58</th>\n",
       "      <td>23</td>\n",
       "      <td>Arsenal</td>\n",
       "      <td>3</td>\n",
       "    </tr>\n",
       "    <tr>\n",
       "      <th>59</th>\n",
       "      <td>23</td>\n",
       "      <td>Aston Villa</td>\n",
       "      <td>3</td>\n",
       "    </tr>\n",
       "    <tr>\n",
       "      <th>60</th>\n",
       "      <td>23</td>\n",
       "      <td>Brighton</td>\n",
       "      <td>2</td>\n",
       "    </tr>\n",
       "    <tr>\n",
       "      <th>61</th>\n",
       "      <td>23</td>\n",
       "      <td>Burnley</td>\n",
       "      <td>1</td>\n",
       "    </tr>\n",
       "    <tr>\n",
       "      <th>62</th>\n",
       "      <td>23</td>\n",
       "      <td>Chelsea</td>\n",
       "      <td>2</td>\n",
       "    </tr>\n",
       "    <tr>\n",
       "      <th>63</th>\n",
       "      <td>23</td>\n",
       "      <td>Crystal Palace</td>\n",
       "      <td>1</td>\n",
       "    </tr>\n",
       "    <tr>\n",
       "      <th>64</th>\n",
       "      <td>23</td>\n",
       "      <td>Everton</td>\n",
       "      <td>2</td>\n",
       "    </tr>\n",
       "    <tr>\n",
       "      <th>65</th>\n",
       "      <td>23</td>\n",
       "      <td>Fulham</td>\n",
       "      <td>4</td>\n",
       "    </tr>\n",
       "    <tr>\n",
       "      <th>66</th>\n",
       "      <td>23</td>\n",
       "      <td>Leicester City</td>\n",
       "      <td>5</td>\n",
       "    </tr>\n",
       "    <tr>\n",
       "      <th>67</th>\n",
       "      <td>23</td>\n",
       "      <td>Liverpool</td>\n",
       "      <td>1</td>\n",
       "    </tr>\n",
       "    <tr>\n",
       "      <th>68</th>\n",
       "      <td>23</td>\n",
       "      <td>Manchester City</td>\n",
       "      <td>2</td>\n",
       "    </tr>\n",
       "    <tr>\n",
       "      <th>69</th>\n",
       "      <td>23</td>\n",
       "      <td>Manchester Utd</td>\n",
       "      <td>6</td>\n",
       "    </tr>\n",
       "    <tr>\n",
       "      <th>70</th>\n",
       "      <td>23</td>\n",
       "      <td>Newcastle Utd</td>\n",
       "      <td>2</td>\n",
       "    </tr>\n",
       "    <tr>\n",
       "      <th>71</th>\n",
       "      <td>23</td>\n",
       "      <td>Sheffield Utd</td>\n",
       "      <td>3</td>\n",
       "    </tr>\n",
       "    <tr>\n",
       "      <th>72</th>\n",
       "      <td>23</td>\n",
       "      <td>Southampton</td>\n",
       "      <td>1</td>\n",
       "    </tr>\n",
       "    <tr>\n",
       "      <th>73</th>\n",
       "      <td>23</td>\n",
       "      <td>Tottenham</td>\n",
       "      <td>2</td>\n",
       "    </tr>\n",
       "    <tr>\n",
       "      <th>74</th>\n",
       "      <td>23</td>\n",
       "      <td>West Brom</td>\n",
       "      <td>3</td>\n",
       "    </tr>\n",
       "    <tr>\n",
       "      <th>75</th>\n",
       "      <td>23</td>\n",
       "      <td>Wolves</td>\n",
       "      <td>3</td>\n",
       "    </tr>\n",
       "    <tr>\n",
       "      <th>76</th>\n",
       "      <td>24</td>\n",
       "      <td>Arsenal</td>\n",
       "      <td>1</td>\n",
       "    </tr>\n",
       "    <tr>\n",
       "      <th>77</th>\n",
       "      <td>24</td>\n",
       "      <td>Brighton</td>\n",
       "      <td>2</td>\n",
       "    </tr>\n",
       "    <tr>\n",
       "      <th>78</th>\n",
       "      <td>24</td>\n",
       "      <td>Burnley</td>\n",
       "      <td>1</td>\n",
       "    </tr>\n",
       "    <tr>\n",
       "      <th>79</th>\n",
       "      <td>24</td>\n",
       "      <td>Chelsea</td>\n",
       "      <td>2</td>\n",
       "    </tr>\n",
       "    <tr>\n",
       "      <th>80</th>\n",
       "      <td>24</td>\n",
       "      <td>Crystal Palace</td>\n",
       "      <td>1</td>\n",
       "    </tr>\n",
       "    <tr>\n",
       "      <th>81</th>\n",
       "      <td>24</td>\n",
       "      <td>Everton</td>\n",
       "      <td>4</td>\n",
       "    </tr>\n",
       "    <tr>\n",
       "      <th>82</th>\n",
       "      <td>24</td>\n",
       "      <td>Fulham</td>\n",
       "      <td>3</td>\n",
       "    </tr>\n",
       "    <tr>\n",
       "      <th>83</th>\n",
       "      <td>24</td>\n",
       "      <td>Leeds United</td>\n",
       "      <td>3</td>\n",
       "    </tr>\n",
       "    <tr>\n",
       "      <th>84</th>\n",
       "      <td>24</td>\n",
       "      <td>Leicester City</td>\n",
       "      <td>5</td>\n",
       "    </tr>\n",
       "    <tr>\n",
       "      <th>85</th>\n",
       "      <td>24</td>\n",
       "      <td>Liverpool</td>\n",
       "      <td>3</td>\n",
       "    </tr>\n",
       "    <tr>\n",
       "      <th>86</th>\n",
       "      <td>24</td>\n",
       "      <td>Manchester City</td>\n",
       "      <td>2</td>\n",
       "    </tr>\n",
       "    <tr>\n",
       "      <th>87</th>\n",
       "      <td>24</td>\n",
       "      <td>Manchester Utd</td>\n",
       "      <td>2</td>\n",
       "    </tr>\n",
       "    <tr>\n",
       "      <th>88</th>\n",
       "      <td>24</td>\n",
       "      <td>Newcastle Utd</td>\n",
       "      <td>2</td>\n",
       "    </tr>\n",
       "    <tr>\n",
       "      <th>89</th>\n",
       "      <td>24</td>\n",
       "      <td>Sheffield Utd</td>\n",
       "      <td>2</td>\n",
       "    </tr>\n",
       "    <tr>\n",
       "      <th>90</th>\n",
       "      <td>24</td>\n",
       "      <td>Southampton</td>\n",
       "      <td>2</td>\n",
       "    </tr>\n",
       "    <tr>\n",
       "      <th>91</th>\n",
       "      <td>24</td>\n",
       "      <td>Tottenham</td>\n",
       "      <td>5</td>\n",
       "    </tr>\n",
       "    <tr>\n",
       "      <th>92</th>\n",
       "      <td>24</td>\n",
       "      <td>West Brom</td>\n",
       "      <td>1</td>\n",
       "    </tr>\n",
       "    <tr>\n",
       "      <th>93</th>\n",
       "      <td>24</td>\n",
       "      <td>West Ham</td>\n",
       "      <td>2</td>\n",
       "    </tr>\n",
       "    <tr>\n",
       "      <th>94</th>\n",
       "      <td>24</td>\n",
       "      <td>Wolves</td>\n",
       "      <td>1</td>\n",
       "    </tr>\n",
       "    <tr>\n",
       "      <th>95</th>\n",
       "      <td>25</td>\n",
       "      <td>Arsenal</td>\n",
       "      <td>2</td>\n",
       "    </tr>\n",
       "    <tr>\n",
       "      <th>96</th>\n",
       "      <td>25</td>\n",
       "      <td>Aston Villa</td>\n",
       "      <td>6</td>\n",
       "    </tr>\n",
       "    <tr>\n",
       "      <th>97</th>\n",
       "      <td>25</td>\n",
       "      <td>Brighton</td>\n",
       "      <td>1</td>\n",
       "    </tr>\n",
       "    <tr>\n",
       "      <th>98</th>\n",
       "      <td>25</td>\n",
       "      <td>Burnley</td>\n",
       "      <td>1</td>\n",
       "    </tr>\n",
       "    <tr>\n",
       "      <th>99</th>\n",
       "      <td>25</td>\n",
       "      <td>Chelsea</td>\n",
       "      <td>2</td>\n",
       "    </tr>\n",
       "    <tr>\n",
       "      <th>100</th>\n",
       "      <td>25</td>\n",
       "      <td>Fulham</td>\n",
       "      <td>3</td>\n",
       "    </tr>\n",
       "    <tr>\n",
       "      <th>101</th>\n",
       "      <td>25</td>\n",
       "      <td>Leeds United</td>\n",
       "      <td>1</td>\n",
       "    </tr>\n",
       "    <tr>\n",
       "      <th>102</th>\n",
       "      <td>25</td>\n",
       "      <td>Leicester City</td>\n",
       "      <td>1</td>\n",
       "    </tr>\n",
       "    <tr>\n",
       "      <th>103</th>\n",
       "      <td>25</td>\n",
       "      <td>Liverpool</td>\n",
       "      <td>1</td>\n",
       "    </tr>\n",
       "    <tr>\n",
       "      <th>104</th>\n",
       "      <td>25</td>\n",
       "      <td>Manchester City</td>\n",
       "      <td>1</td>\n",
       "    </tr>\n",
       "    <tr>\n",
       "      <th>105</th>\n",
       "      <td>25</td>\n",
       "      <td>Manchester Utd</td>\n",
       "      <td>2</td>\n",
       "    </tr>\n",
       "    <tr>\n",
       "      <th>106</th>\n",
       "      <td>25</td>\n",
       "      <td>Sheffield Utd</td>\n",
       "      <td>1</td>\n",
       "    </tr>\n",
       "    <tr>\n",
       "      <th>107</th>\n",
       "      <td>25</td>\n",
       "      <td>Tottenham</td>\n",
       "      <td>2</td>\n",
       "    </tr>\n",
       "    <tr>\n",
       "      <th>108</th>\n",
       "      <td>25</td>\n",
       "      <td>West Brom</td>\n",
       "      <td>2</td>\n",
       "    </tr>\n",
       "    <tr>\n",
       "      <th>109</th>\n",
       "      <td>25</td>\n",
       "      <td>West Ham</td>\n",
       "      <td>2</td>\n",
       "    </tr>\n",
       "    <tr>\n",
       "      <th>110</th>\n",
       "      <td>25</td>\n",
       "      <td>Wolves</td>\n",
       "      <td>3</td>\n",
       "    </tr>\n",
       "    <tr>\n",
       "      <th>111</th>\n",
       "      <td>26</td>\n",
       "      <td>Arsenal</td>\n",
       "      <td>3</td>\n",
       "    </tr>\n",
       "    <tr>\n",
       "      <th>112</th>\n",
       "      <td>26</td>\n",
       "      <td>Aston Villa</td>\n",
       "      <td>3</td>\n",
       "    </tr>\n",
       "    <tr>\n",
       "      <th>113</th>\n",
       "      <td>26</td>\n",
       "      <td>Brighton</td>\n",
       "      <td>4</td>\n",
       "    </tr>\n",
       "    <tr>\n",
       "      <th>114</th>\n",
       "      <td>26</td>\n",
       "      <td>Chelsea</td>\n",
       "      <td>4</td>\n",
       "    </tr>\n",
       "    <tr>\n",
       "      <th>115</th>\n",
       "      <td>26</td>\n",
       "      <td>Everton</td>\n",
       "      <td>1</td>\n",
       "    </tr>\n",
       "    <tr>\n",
       "      <th>116</th>\n",
       "      <td>26</td>\n",
       "      <td>Fulham</td>\n",
       "      <td>3</td>\n",
       "    </tr>\n",
       "    <tr>\n",
       "      <th>117</th>\n",
       "      <td>26</td>\n",
       "      <td>Leicester City</td>\n",
       "      <td>2</td>\n",
       "    </tr>\n",
       "    <tr>\n",
       "      <th>118</th>\n",
       "      <td>26</td>\n",
       "      <td>Liverpool</td>\n",
       "      <td>2</td>\n",
       "    </tr>\n",
       "    <tr>\n",
       "      <th>119</th>\n",
       "      <td>26</td>\n",
       "      <td>Manchester City</td>\n",
       "      <td>7</td>\n",
       "    </tr>\n",
       "    <tr>\n",
       "      <th>120</th>\n",
       "      <td>26</td>\n",
       "      <td>Manchester Utd</td>\n",
       "      <td>3</td>\n",
       "    </tr>\n",
       "    <tr>\n",
       "      <th>121</th>\n",
       "      <td>26</td>\n",
       "      <td>Newcastle Utd</td>\n",
       "      <td>4</td>\n",
       "    </tr>\n",
       "    <tr>\n",
       "      <th>122</th>\n",
       "      <td>26</td>\n",
       "      <td>Sheffield Utd</td>\n",
       "      <td>1</td>\n",
       "    </tr>\n",
       "    <tr>\n",
       "      <th>123</th>\n",
       "      <td>26</td>\n",
       "      <td>Southampton</td>\n",
       "      <td>2</td>\n",
       "    </tr>\n",
       "    <tr>\n",
       "      <th>124</th>\n",
       "      <td>26</td>\n",
       "      <td>Tottenham</td>\n",
       "      <td>1</td>\n",
       "    </tr>\n",
       "    <tr>\n",
       "      <th>125</th>\n",
       "      <td>26</td>\n",
       "      <td>West Brom</td>\n",
       "      <td>1</td>\n",
       "    </tr>\n",
       "    <tr>\n",
       "      <th>126</th>\n",
       "      <td>26</td>\n",
       "      <td>West Ham</td>\n",
       "      <td>2</td>\n",
       "    </tr>\n",
       "    <tr>\n",
       "      <th>127</th>\n",
       "      <td>27</td>\n",
       "      <td>Arsenal</td>\n",
       "      <td>3</td>\n",
       "    </tr>\n",
       "    <tr>\n",
       "      <th>128</th>\n",
       "      <td>27</td>\n",
       "      <td>Aston Villa</td>\n",
       "      <td>2</td>\n",
       "    </tr>\n",
       "    <tr>\n",
       "      <th>129</th>\n",
       "      <td>27</td>\n",
       "      <td>Brighton</td>\n",
       "      <td>1</td>\n",
       "    </tr>\n",
       "    <tr>\n",
       "      <th>130</th>\n",
       "      <td>27</td>\n",
       "      <td>Burnley</td>\n",
       "      <td>1</td>\n",
       "    </tr>\n",
       "    <tr>\n",
       "      <th>131</th>\n",
       "      <td>27</td>\n",
       "      <td>Chelsea</td>\n",
       "      <td>1</td>\n",
       "    </tr>\n",
       "    <tr>\n",
       "      <th>132</th>\n",
       "      <td>27</td>\n",
       "      <td>Crystal Palace</td>\n",
       "      <td>1</td>\n",
       "    </tr>\n",
       "    <tr>\n",
       "      <th>133</th>\n",
       "      <td>27</td>\n",
       "      <td>Everton</td>\n",
       "      <td>3</td>\n",
       "    </tr>\n",
       "    <tr>\n",
       "      <th>134</th>\n",
       "      <td>27</td>\n",
       "      <td>Fulham</td>\n",
       "      <td>3</td>\n",
       "    </tr>\n",
       "    <tr>\n",
       "      <th>135</th>\n",
       "      <td>27</td>\n",
       "      <td>Leeds United</td>\n",
       "      <td>3</td>\n",
       "    </tr>\n",
       "    <tr>\n",
       "      <th>136</th>\n",
       "      <td>27</td>\n",
       "      <td>Leicester City</td>\n",
       "      <td>2</td>\n",
       "    </tr>\n",
       "    <tr>\n",
       "      <th>137</th>\n",
       "      <td>27</td>\n",
       "      <td>Liverpool</td>\n",
       "      <td>3</td>\n",
       "    </tr>\n",
       "    <tr>\n",
       "      <th>138</th>\n",
       "      <td>27</td>\n",
       "      <td>Manchester City</td>\n",
       "      <td>1</td>\n",
       "    </tr>\n",
       "    <tr>\n",
       "      <th>139</th>\n",
       "      <td>27</td>\n",
       "      <td>Newcastle Utd</td>\n",
       "      <td>4</td>\n",
       "    </tr>\n",
       "    <tr>\n",
       "      <th>140</th>\n",
       "      <td>27</td>\n",
       "      <td>Sheffield Utd</td>\n",
       "      <td>3</td>\n",
       "    </tr>\n",
       "    <tr>\n",
       "      <th>141</th>\n",
       "      <td>27</td>\n",
       "      <td>Southampton</td>\n",
       "      <td>2</td>\n",
       "    </tr>\n",
       "    <tr>\n",
       "      <th>142</th>\n",
       "      <td>27</td>\n",
       "      <td>Tottenham</td>\n",
       "      <td>3</td>\n",
       "    </tr>\n",
       "    <tr>\n",
       "      <th>143</th>\n",
       "      <td>27</td>\n",
       "      <td>West Brom</td>\n",
       "      <td>2</td>\n",
       "    </tr>\n",
       "    <tr>\n",
       "      <th>144</th>\n",
       "      <td>27</td>\n",
       "      <td>West Ham</td>\n",
       "      <td>2</td>\n",
       "    </tr>\n",
       "    <tr>\n",
       "      <th>145</th>\n",
       "      <td>27</td>\n",
       "      <td>Wolves</td>\n",
       "      <td>2</td>\n",
       "    </tr>\n",
       "    <tr>\n",
       "      <th>146</th>\n",
       "      <td>28</td>\n",
       "      <td>Arsenal</td>\n",
       "      <td>4</td>\n",
       "    </tr>\n",
       "    <tr>\n",
       "      <th>147</th>\n",
       "      <td>28</td>\n",
       "      <td>Aston Villa</td>\n",
       "      <td>2</td>\n",
       "    </tr>\n",
       "    <tr>\n",
       "      <th>148</th>\n",
       "      <td>28</td>\n",
       "      <td>Brighton</td>\n",
       "      <td>2</td>\n",
       "    </tr>\n",
       "    <tr>\n",
       "      <th>149</th>\n",
       "      <td>28</td>\n",
       "      <td>Burnley</td>\n",
       "      <td>3</td>\n",
       "    </tr>\n",
       "    <tr>\n",
       "      <th>150</th>\n",
       "      <td>28</td>\n",
       "      <td>Chelsea</td>\n",
       "      <td>2</td>\n",
       "    </tr>\n",
       "    <tr>\n",
       "      <th>151</th>\n",
       "      <td>28</td>\n",
       "      <td>Crystal Palace</td>\n",
       "      <td>2</td>\n",
       "    </tr>\n",
       "    <tr>\n",
       "      <th>152</th>\n",
       "      <td>28</td>\n",
       "      <td>Everton</td>\n",
       "      <td>3</td>\n",
       "    </tr>\n",
       "    <tr>\n",
       "      <th>153</th>\n",
       "      <td>28</td>\n",
       "      <td>Fulham</td>\n",
       "      <td>3</td>\n",
       "    </tr>\n",
       "    <tr>\n",
       "      <th>154</th>\n",
       "      <td>28</td>\n",
       "      <td>Leicester City</td>\n",
       "      <td>1</td>\n",
       "    </tr>\n",
       "    <tr>\n",
       "      <th>155</th>\n",
       "      <td>28</td>\n",
       "      <td>Liverpool</td>\n",
       "      <td>3</td>\n",
       "    </tr>\n",
       "    <tr>\n",
       "      <th>156</th>\n",
       "      <td>28</td>\n",
       "      <td>Manchester Utd</td>\n",
       "      <td>4</td>\n",
       "    </tr>\n",
       "    <tr>\n",
       "      <th>157</th>\n",
       "      <td>28</td>\n",
       "      <td>Sheffield Utd</td>\n",
       "      <td>2</td>\n",
       "    </tr>\n",
       "    <tr>\n",
       "      <th>158</th>\n",
       "      <td>28</td>\n",
       "      <td>Southampton</td>\n",
       "      <td>2</td>\n",
       "    </tr>\n",
       "    <tr>\n",
       "      <th>159</th>\n",
       "      <td>28</td>\n",
       "      <td>Tottenham</td>\n",
       "      <td>3</td>\n",
       "    </tr>\n",
       "    <tr>\n",
       "      <th>160</th>\n",
       "      <td>28</td>\n",
       "      <td>West Brom</td>\n",
       "      <td>2</td>\n",
       "    </tr>\n",
       "    <tr>\n",
       "      <th>161</th>\n",
       "      <td>28</td>\n",
       "      <td>West Ham</td>\n",
       "      <td>4</td>\n",
       "    </tr>\n",
       "    <tr>\n",
       "      <th>162</th>\n",
       "      <td>28</td>\n",
       "      <td>Wolves</td>\n",
       "      <td>1</td>\n",
       "    </tr>\n",
       "    <tr>\n",
       "      <th>163</th>\n",
       "      <td>29</td>\n",
       "      <td>Arsenal</td>\n",
       "      <td>3</td>\n",
       "    </tr>\n",
       "    <tr>\n",
       "      <th>164</th>\n",
       "      <td>29</td>\n",
       "      <td>Brighton</td>\n",
       "      <td>4</td>\n",
       "    </tr>\n",
       "    <tr>\n",
       "      <th>165</th>\n",
       "      <td>29</td>\n",
       "      <td>Burnley</td>\n",
       "      <td>2</td>\n",
       "    </tr>\n",
       "    <tr>\n",
       "      <th>166</th>\n",
       "      <td>29</td>\n",
       "      <td>Chelsea</td>\n",
       "      <td>2</td>\n",
       "    </tr>\n",
       "    <tr>\n",
       "      <th>167</th>\n",
       "      <td>29</td>\n",
       "      <td>Crystal Palace</td>\n",
       "      <td>4</td>\n",
       "    </tr>\n",
       "    <tr>\n",
       "      <th>168</th>\n",
       "      <td>29</td>\n",
       "      <td>Everton</td>\n",
       "      <td>3</td>\n",
       "    </tr>\n",
       "    <tr>\n",
       "      <th>169</th>\n",
       "      <td>29</td>\n",
       "      <td>Fulham</td>\n",
       "      <td>1</td>\n",
       "    </tr>\n",
       "    <tr>\n",
       "      <th>170</th>\n",
       "      <td>29</td>\n",
       "      <td>Leeds United</td>\n",
       "      <td>4</td>\n",
       "    </tr>\n",
       "    <tr>\n",
       "      <th>171</th>\n",
       "      <td>29</td>\n",
       "      <td>Liverpool</td>\n",
       "      <td>5</td>\n",
       "    </tr>\n",
       "    <tr>\n",
       "      <th>172</th>\n",
       "      <td>29</td>\n",
       "      <td>Manchester City</td>\n",
       "      <td>1</td>\n",
       "    </tr>\n",
       "    <tr>\n",
       "      <th>173</th>\n",
       "      <td>29</td>\n",
       "      <td>Newcastle Utd</td>\n",
       "      <td>5</td>\n",
       "    </tr>\n",
       "    <tr>\n",
       "      <th>174</th>\n",
       "      <td>29</td>\n",
       "      <td>Sheffield Utd</td>\n",
       "      <td>2</td>\n",
       "    </tr>\n",
       "    <tr>\n",
       "      <th>175</th>\n",
       "      <td>29</td>\n",
       "      <td>Southampton</td>\n",
       "      <td>2</td>\n",
       "    </tr>\n",
       "    <tr>\n",
       "      <th>176</th>\n",
       "      <td>29</td>\n",
       "      <td>Tottenham</td>\n",
       "      <td>2</td>\n",
       "    </tr>\n",
       "    <tr>\n",
       "      <th>177</th>\n",
       "      <td>29</td>\n",
       "      <td>West Brom</td>\n",
       "      <td>3</td>\n",
       "    </tr>\n",
       "    <tr>\n",
       "      <th>178</th>\n",
       "      <td>29</td>\n",
       "      <td>West Ham</td>\n",
       "      <td>1</td>\n",
       "    </tr>\n",
       "    <tr>\n",
       "      <th>179</th>\n",
       "      <td>29</td>\n",
       "      <td>Wolves</td>\n",
       "      <td>2</td>\n",
       "    </tr>\n",
       "    <tr>\n",
       "      <th>180</th>\n",
       "      <td>30</td>\n",
       "      <td>Aston Villa</td>\n",
       "      <td>1</td>\n",
       "    </tr>\n",
       "    <tr>\n",
       "      <th>181</th>\n",
       "      <td>30</td>\n",
       "      <td>Brighton</td>\n",
       "      <td>1</td>\n",
       "    </tr>\n",
       "    <tr>\n",
       "      <th>182</th>\n",
       "      <td>30</td>\n",
       "      <td>Burnley</td>\n",
       "      <td>3</td>\n",
       "    </tr>\n",
       "    <tr>\n",
       "      <th>183</th>\n",
       "      <td>30</td>\n",
       "      <td>Chelsea</td>\n",
       "      <td>2</td>\n",
       "    </tr>\n",
       "    <tr>\n",
       "      <th>184</th>\n",
       "      <td>30</td>\n",
       "      <td>Crystal Palace</td>\n",
       "      <td>3</td>\n",
       "    </tr>\n",
       "    <tr>\n",
       "      <th>185</th>\n",
       "      <td>30</td>\n",
       "      <td>Everton</td>\n",
       "      <td>1</td>\n",
       "    </tr>\n",
       "    <tr>\n",
       "      <th>186</th>\n",
       "      <td>30</td>\n",
       "      <td>Fulham</td>\n",
       "      <td>1</td>\n",
       "    </tr>\n",
       "    <tr>\n",
       "      <th>187</th>\n",
       "      <td>30</td>\n",
       "      <td>Leeds United</td>\n",
       "      <td>2</td>\n",
       "    </tr>\n",
       "    <tr>\n",
       "      <th>188</th>\n",
       "      <td>30</td>\n",
       "      <td>Liverpool</td>\n",
       "      <td>2</td>\n",
       "    </tr>\n",
       "    <tr>\n",
       "      <th>189</th>\n",
       "      <td>30</td>\n",
       "      <td>Manchester City</td>\n",
       "      <td>3</td>\n",
       "    </tr>\n",
       "    <tr>\n",
       "      <th>190</th>\n",
       "      <td>30</td>\n",
       "      <td>Manchester Utd</td>\n",
       "      <td>1</td>\n",
       "    </tr>\n",
       "    <tr>\n",
       "      <th>191</th>\n",
       "      <td>30</td>\n",
       "      <td>Newcastle Utd</td>\n",
       "      <td>2</td>\n",
       "    </tr>\n",
       "    <tr>\n",
       "      <th>192</th>\n",
       "      <td>30</td>\n",
       "      <td>Sheffield Utd</td>\n",
       "      <td>1</td>\n",
       "    </tr>\n",
       "    <tr>\n",
       "      <th>193</th>\n",
       "      <td>30</td>\n",
       "      <td>West Brom</td>\n",
       "      <td>2</td>\n",
       "    </tr>\n",
       "    <tr>\n",
       "      <th>194</th>\n",
       "      <td>30</td>\n",
       "      <td>West Ham</td>\n",
       "      <td>1</td>\n",
       "    </tr>\n",
       "    <tr>\n",
       "      <th>195</th>\n",
       "      <td>30</td>\n",
       "      <td>Wolves</td>\n",
       "      <td>1</td>\n",
       "    </tr>\n",
       "    <tr>\n",
       "      <th>196</th>\n",
       "      <td>31</td>\n",
       "      <td>Arsenal</td>\n",
       "      <td>1</td>\n",
       "    </tr>\n",
       "    <tr>\n",
       "      <th>197</th>\n",
       "      <td>31</td>\n",
       "      <td>Burnley</td>\n",
       "      <td>6</td>\n",
       "    </tr>\n",
       "    <tr>\n",
       "      <th>198</th>\n",
       "      <td>31</td>\n",
       "      <td>Chelsea</td>\n",
       "      <td>1</td>\n",
       "    </tr>\n",
       "    <tr>\n",
       "      <th>199</th>\n",
       "      <td>31</td>\n",
       "      <td>Crystal Palace</td>\n",
       "      <td>3</td>\n",
       "    </tr>\n",
       "    <tr>\n",
       "      <th>200</th>\n",
       "      <td>31</td>\n",
       "      <td>Everton</td>\n",
       "      <td>3</td>\n",
       "    </tr>\n",
       "    <tr>\n",
       "      <th>201</th>\n",
       "      <td>31</td>\n",
       "      <td>Fulham</td>\n",
       "      <td>1</td>\n",
       "    </tr>\n",
       "    <tr>\n",
       "      <th>202</th>\n",
       "      <td>31</td>\n",
       "      <td>Leicester City</td>\n",
       "      <td>1</td>\n",
       "    </tr>\n",
       "    <tr>\n",
       "      <th>203</th>\n",
       "      <td>31</td>\n",
       "      <td>Manchester Utd</td>\n",
       "      <td>1</td>\n",
       "    </tr>\n",
       "    <tr>\n",
       "      <th>204</th>\n",
       "      <td>31</td>\n",
       "      <td>Newcastle Utd</td>\n",
       "      <td>2</td>\n",
       "    </tr>\n",
       "    <tr>\n",
       "      <th>205</th>\n",
       "      <td>31</td>\n",
       "      <td>Southampton</td>\n",
       "      <td>2</td>\n",
       "    </tr>\n",
       "    <tr>\n",
       "      <th>206</th>\n",
       "      <td>31</td>\n",
       "      <td>Tottenham</td>\n",
       "      <td>2</td>\n",
       "    </tr>\n",
       "    <tr>\n",
       "      <th>207</th>\n",
       "      <td>31</td>\n",
       "      <td>West Brom</td>\n",
       "      <td>4</td>\n",
       "    </tr>\n",
       "    <tr>\n",
       "      <th>208</th>\n",
       "      <td>31</td>\n",
       "      <td>West Ham</td>\n",
       "      <td>3</td>\n",
       "    </tr>\n",
       "    <tr>\n",
       "      <th>209</th>\n",
       "      <td>31</td>\n",
       "      <td>Wolves</td>\n",
       "      <td>1</td>\n",
       "    </tr>\n",
       "    <tr>\n",
       "      <th>210</th>\n",
       "      <td>32</td>\n",
       "      <td>Arsenal</td>\n",
       "      <td>1</td>\n",
       "    </tr>\n",
       "    <tr>\n",
       "      <th>211</th>\n",
       "      <td>32</td>\n",
       "      <td>Aston Villa</td>\n",
       "      <td>1</td>\n",
       "    </tr>\n",
       "    <tr>\n",
       "      <th>212</th>\n",
       "      <td>32</td>\n",
       "      <td>Brighton</td>\n",
       "      <td>1</td>\n",
       "    </tr>\n",
       "    <tr>\n",
       "      <th>213</th>\n",
       "      <td>32</td>\n",
       "      <td>Burnley</td>\n",
       "      <td>1</td>\n",
       "    </tr>\n",
       "    <tr>\n",
       "      <th>214</th>\n",
       "      <td>32</td>\n",
       "      <td>Crystal Palace</td>\n",
       "      <td>1</td>\n",
       "    </tr>\n",
       "    <tr>\n",
       "      <th>215</th>\n",
       "      <td>32</td>\n",
       "      <td>Everton</td>\n",
       "      <td>2</td>\n",
       "    </tr>\n",
       "    <tr>\n",
       "      <th>216</th>\n",
       "      <td>32</td>\n",
       "      <td>Fulham</td>\n",
       "      <td>1</td>\n",
       "    </tr>\n",
       "    <tr>\n",
       "      <th>217</th>\n",
       "      <td>32</td>\n",
       "      <td>Leicester City</td>\n",
       "      <td>1</td>\n",
       "    </tr>\n",
       "    <tr>\n",
       "      <th>218</th>\n",
       "      <td>32</td>\n",
       "      <td>Manchester City</td>\n",
       "      <td>1</td>\n",
       "    </tr>\n",
       "    <tr>\n",
       "      <th>219</th>\n",
       "      <td>32</td>\n",
       "      <td>Manchester Utd</td>\n",
       "      <td>2</td>\n",
       "    </tr>\n",
       "    <tr>\n",
       "      <th>220</th>\n",
       "      <td>32</td>\n",
       "      <td>Newcastle Utd</td>\n",
       "      <td>3</td>\n",
       "    </tr>\n",
       "    <tr>\n",
       "      <th>221</th>\n",
       "      <td>32</td>\n",
       "      <td>Sheffield Utd</td>\n",
       "      <td>1</td>\n",
       "    </tr>\n",
       "    <tr>\n",
       "      <th>222</th>\n",
       "      <td>32</td>\n",
       "      <td>Southampton</td>\n",
       "      <td>1</td>\n",
       "    </tr>\n",
       "    <tr>\n",
       "      <th>223</th>\n",
       "      <td>32</td>\n",
       "      <td>Tottenham</td>\n",
       "      <td>1</td>\n",
       "    </tr>\n",
       "    <tr>\n",
       "      <th>224</th>\n",
       "      <td>32</td>\n",
       "      <td>West Brom</td>\n",
       "      <td>2</td>\n",
       "    </tr>\n",
       "    <tr>\n",
       "      <th>225</th>\n",
       "      <td>32</td>\n",
       "      <td>West Ham</td>\n",
       "      <td>1</td>\n",
       "    </tr>\n",
       "    <tr>\n",
       "      <th>226</th>\n",
       "      <td>32</td>\n",
       "      <td>Wolves</td>\n",
       "      <td>1</td>\n",
       "    </tr>\n",
       "    <tr>\n",
       "      <th>227</th>\n",
       "      <td>33</td>\n",
       "      <td>Arsenal</td>\n",
       "      <td>1</td>\n",
       "    </tr>\n",
       "    <tr>\n",
       "      <th>228</th>\n",
       "      <td>33</td>\n",
       "      <td>Aston Villa</td>\n",
       "      <td>1</td>\n",
       "    </tr>\n",
       "    <tr>\n",
       "      <th>229</th>\n",
       "      <td>33</td>\n",
       "      <td>Crystal Palace</td>\n",
       "      <td>1</td>\n",
       "    </tr>\n",
       "    <tr>\n",
       "      <th>230</th>\n",
       "      <td>33</td>\n",
       "      <td>Fulham</td>\n",
       "      <td>1</td>\n",
       "    </tr>\n",
       "    <tr>\n",
       "      <th>231</th>\n",
       "      <td>33</td>\n",
       "      <td>Leicester City</td>\n",
       "      <td>1</td>\n",
       "    </tr>\n",
       "    <tr>\n",
       "      <th>232</th>\n",
       "      <td>33</td>\n",
       "      <td>Sheffield Utd</td>\n",
       "      <td>1</td>\n",
       "    </tr>\n",
       "    <tr>\n",
       "      <th>233</th>\n",
       "      <td>33</td>\n",
       "      <td>Southampton</td>\n",
       "      <td>1</td>\n",
       "    </tr>\n",
       "    <tr>\n",
       "      <th>234</th>\n",
       "      <td>33</td>\n",
       "      <td>West Brom</td>\n",
       "      <td>1</td>\n",
       "    </tr>\n",
       "    <tr>\n",
       "      <th>235</th>\n",
       "      <td>33</td>\n",
       "      <td>West Ham</td>\n",
       "      <td>3</td>\n",
       "    </tr>\n",
       "    <tr>\n",
       "      <th>236</th>\n",
       "      <td>33</td>\n",
       "      <td>Wolves</td>\n",
       "      <td>1</td>\n",
       "    </tr>\n",
       "    <tr>\n",
       "      <th>237</th>\n",
       "      <td>34</td>\n",
       "      <td>Chelsea</td>\n",
       "      <td>1</td>\n",
       "    </tr>\n",
       "    <tr>\n",
       "      <th>238</th>\n",
       "      <td>34</td>\n",
       "      <td>Crystal Palace</td>\n",
       "      <td>2</td>\n",
       "    </tr>\n",
       "    <tr>\n",
       "      <th>239</th>\n",
       "      <td>34</td>\n",
       "      <td>Leeds United</td>\n",
       "      <td>1</td>\n",
       "    </tr>\n",
       "    <tr>\n",
       "      <th>240</th>\n",
       "      <td>34</td>\n",
       "      <td>Leicester City</td>\n",
       "      <td>3</td>\n",
       "    </tr>\n",
       "    <tr>\n",
       "      <th>241</th>\n",
       "      <td>34</td>\n",
       "      <td>Liverpool</td>\n",
       "      <td>1</td>\n",
       "    </tr>\n",
       "    <tr>\n",
       "      <th>242</th>\n",
       "      <td>34</td>\n",
       "      <td>Manchester Utd</td>\n",
       "      <td>1</td>\n",
       "    </tr>\n",
       "    <tr>\n",
       "      <th>243</th>\n",
       "      <td>34</td>\n",
       "      <td>Southampton</td>\n",
       "      <td>1</td>\n",
       "    </tr>\n",
       "    <tr>\n",
       "      <th>244</th>\n",
       "      <td>34</td>\n",
       "      <td>Tottenham</td>\n",
       "      <td>1</td>\n",
       "    </tr>\n",
       "    <tr>\n",
       "      <th>245</th>\n",
       "      <td>34</td>\n",
       "      <td>West Brom</td>\n",
       "      <td>1</td>\n",
       "    </tr>\n",
       "    <tr>\n",
       "      <th>246</th>\n",
       "      <td>34</td>\n",
       "      <td>Wolves</td>\n",
       "      <td>2</td>\n",
       "    </tr>\n",
       "    <tr>\n",
       "      <th>247</th>\n",
       "      <td>35</td>\n",
       "      <td>Burnley</td>\n",
       "      <td>1</td>\n",
       "    </tr>\n",
       "    <tr>\n",
       "      <th>248</th>\n",
       "      <td>35</td>\n",
       "      <td>Crystal Palace</td>\n",
       "      <td>1</td>\n",
       "    </tr>\n",
       "    <tr>\n",
       "      <th>249</th>\n",
       "      <td>35</td>\n",
       "      <td>Leeds United</td>\n",
       "      <td>1</td>\n",
       "    </tr>\n",
       "    <tr>\n",
       "      <th>250</th>\n",
       "      <td>35</td>\n",
       "      <td>Liverpool</td>\n",
       "      <td>1</td>\n",
       "    </tr>\n",
       "    <tr>\n",
       "      <th>251</th>\n",
       "      <td>35</td>\n",
       "      <td>Manchester City</td>\n",
       "      <td>1</td>\n",
       "    </tr>\n",
       "    <tr>\n",
       "      <th>252</th>\n",
       "      <td>35</td>\n",
       "      <td>Sheffield Utd</td>\n",
       "      <td>1</td>\n",
       "    </tr>\n",
       "    <tr>\n",
       "      <th>253</th>\n",
       "      <td>35</td>\n",
       "      <td>West Ham</td>\n",
       "      <td>1</td>\n",
       "    </tr>\n",
       "    <tr>\n",
       "      <th>254</th>\n",
       "      <td>36</td>\n",
       "      <td>Chelsea</td>\n",
       "      <td>1</td>\n",
       "    </tr>\n",
       "    <tr>\n",
       "      <th>255</th>\n",
       "      <td>37</td>\n",
       "      <td>Leicester City</td>\n",
       "      <td>1</td>\n",
       "    </tr>\n",
       "    <tr>\n",
       "      <th>256</th>\n",
       "      <td>37</td>\n",
       "      <td>West Brom</td>\n",
       "      <td>1</td>\n",
       "    </tr>\n",
       "    <tr>\n",
       "      <th>257</th>\n",
       "      <td>38</td>\n",
       "      <td>Sheffield Utd</td>\n",
       "      <td>1</td>\n",
       "    </tr>\n",
       "    <tr>\n",
       "      <th>258</th>\n",
       "      <td>39</td>\n",
       "      <td>Chelsea</td>\n",
       "      <td>1</td>\n",
       "    </tr>\n",
       "  </tbody>\n",
       "</table>\n",
       "</div>"
      ],
      "text/plain": [
       "     Age            Squad  count\n",
       "0     17   Manchester Utd      1\n",
       "1     17    Sheffield Utd      1\n",
       "2     17        Tottenham      1\n",
       "3     18          Burnley      1\n",
       "4     18  Manchester City      1\n",
       "5     18    Newcastle Utd      1\n",
       "6     18           Wolves      1\n",
       "7     19          Arsenal      2\n",
       "8     19      Aston Villa      1\n",
       "9     19         Brighton      1\n",
       "10    19          Chelsea      1\n",
       "11    19   Leicester City      2\n",
       "12    19        Liverpool      1\n",
       "13    19   Manchester Utd      1\n",
       "14    19      Southampton      3\n",
       "15    19           Wolves      3\n",
       "16    20          Arsenal      1\n",
       "17    20         Brighton      1\n",
       "18    20          Chelsea      1\n",
       "19    20          Everton      2\n",
       "20    20     Leeds United      1\n",
       "21    20   Leicester City      1\n",
       "22    20        Liverpool      2\n",
       "23    20  Manchester City      2\n",
       "24    20   Manchester Utd      1\n",
       "25    20    Sheffield Utd      3\n",
       "26    20      Southampton      2\n",
       "27    21          Arsenal      3\n",
       "28    21         Brighton      4\n",
       "29    21          Burnley      2\n",
       "30    21          Chelsea      2\n",
       "31    21   Crystal Palace      1\n",
       "32    21          Everton      2\n",
       "33    21     Leeds United      5\n",
       "34    21   Leicester City      1\n",
       "35    21        Liverpool      1\n",
       "36    21  Manchester City      1\n",
       "37    21    Newcastle Utd      2\n",
       "38    21    Sheffield Utd      1\n",
       "39    21      Southampton      4\n",
       "40    21        West Brom      2\n",
       "41    21         West Ham      1\n",
       "42    21           Wolves      4\n",
       "43    22          Arsenal      1\n",
       "44    22      Aston Villa      1\n",
       "45    22         Brighton      2\n",
       "46    22          Burnley      1\n",
       "47    22          Chelsea      2\n",
       "48    22   Crystal Palace      1\n",
       "49    22          Everton      1\n",
       "50    22           Fulham      1\n",
       "51    22     Leeds United      1\n",
       "52    22        Liverpool      2\n",
       "53    22    Sheffield Utd      1\n",
       "54    22      Southampton      4\n",
       "55    22        Tottenham      1\n",
       "56    22        West Brom      3\n",
       "57    22         West Ham      1\n",
       "58    23          Arsenal      3\n",
       "59    23      Aston Villa      3\n",
       "60    23         Brighton      2\n",
       "61    23          Burnley      1\n",
       "62    23          Chelsea      2\n",
       "63    23   Crystal Palace      1\n",
       "64    23          Everton      2\n",
       "65    23           Fulham      4\n",
       "66    23   Leicester City      5\n",
       "67    23        Liverpool      1\n",
       "68    23  Manchester City      2\n",
       "69    23   Manchester Utd      6\n",
       "70    23    Newcastle Utd      2\n",
       "71    23    Sheffield Utd      3\n",
       "72    23      Southampton      1\n",
       "73    23        Tottenham      2\n",
       "74    23        West Brom      3\n",
       "75    23           Wolves      3\n",
       "76    24          Arsenal      1\n",
       "77    24         Brighton      2\n",
       "78    24          Burnley      1\n",
       "79    24          Chelsea      2\n",
       "80    24   Crystal Palace      1\n",
       "81    24          Everton      4\n",
       "82    24           Fulham      3\n",
       "83    24     Leeds United      3\n",
       "84    24   Leicester City      5\n",
       "85    24        Liverpool      3\n",
       "86    24  Manchester City      2\n",
       "87    24   Manchester Utd      2\n",
       "88    24    Newcastle Utd      2\n",
       "89    24    Sheffield Utd      2\n",
       "90    24      Southampton      2\n",
       "91    24        Tottenham      5\n",
       "92    24        West Brom      1\n",
       "93    24         West Ham      2\n",
       "94    24           Wolves      1\n",
       "95    25          Arsenal      2\n",
       "96    25      Aston Villa      6\n",
       "97    25         Brighton      1\n",
       "98    25          Burnley      1\n",
       "99    25          Chelsea      2\n",
       "100   25           Fulham      3\n",
       "101   25     Leeds United      1\n",
       "102   25   Leicester City      1\n",
       "103   25        Liverpool      1\n",
       "104   25  Manchester City      1\n",
       "105   25   Manchester Utd      2\n",
       "106   25    Sheffield Utd      1\n",
       "107   25        Tottenham      2\n",
       "108   25        West Brom      2\n",
       "109   25         West Ham      2\n",
       "110   25           Wolves      3\n",
       "111   26          Arsenal      3\n",
       "112   26      Aston Villa      3\n",
       "113   26         Brighton      4\n",
       "114   26          Chelsea      4\n",
       "115   26          Everton      1\n",
       "116   26           Fulham      3\n",
       "117   26   Leicester City      2\n",
       "118   26        Liverpool      2\n",
       "119   26  Manchester City      7\n",
       "120   26   Manchester Utd      3\n",
       "121   26    Newcastle Utd      4\n",
       "122   26    Sheffield Utd      1\n",
       "123   26      Southampton      2\n",
       "124   26        Tottenham      1\n",
       "125   26        West Brom      1\n",
       "126   26         West Ham      2\n",
       "127   27          Arsenal      3\n",
       "128   27      Aston Villa      2\n",
       "129   27         Brighton      1\n",
       "130   27          Burnley      1\n",
       "131   27          Chelsea      1\n",
       "132   27   Crystal Palace      1\n",
       "133   27          Everton      3\n",
       "134   27           Fulham      3\n",
       "135   27     Leeds United      3\n",
       "136   27   Leicester City      2\n",
       "137   27        Liverpool      3\n",
       "138   27  Manchester City      1\n",
       "139   27    Newcastle Utd      4\n",
       "140   27    Sheffield Utd      3\n",
       "141   27      Southampton      2\n",
       "142   27        Tottenham      3\n",
       "143   27        West Brom      2\n",
       "144   27         West Ham      2\n",
       "145   27           Wolves      2\n",
       "146   28          Arsenal      4\n",
       "147   28      Aston Villa      2\n",
       "148   28         Brighton      2\n",
       "149   28          Burnley      3\n",
       "150   28          Chelsea      2\n",
       "151   28   Crystal Palace      2\n",
       "152   28          Everton      3\n",
       "153   28           Fulham      3\n",
       "154   28   Leicester City      1\n",
       "155   28        Liverpool      3\n",
       "156   28   Manchester Utd      4\n",
       "157   28    Sheffield Utd      2\n",
       "158   28      Southampton      2\n",
       "159   28        Tottenham      3\n",
       "160   28        West Brom      2\n",
       "161   28         West Ham      4\n",
       "162   28           Wolves      1\n",
       "163   29          Arsenal      3\n",
       "164   29         Brighton      4\n",
       "165   29          Burnley      2\n",
       "166   29          Chelsea      2\n",
       "167   29   Crystal Palace      4\n",
       "168   29          Everton      3\n",
       "169   29           Fulham      1\n",
       "170   29     Leeds United      4\n",
       "171   29        Liverpool      5\n",
       "172   29  Manchester City      1\n",
       "173   29    Newcastle Utd      5\n",
       "174   29    Sheffield Utd      2\n",
       "175   29      Southampton      2\n",
       "176   29        Tottenham      2\n",
       "177   29        West Brom      3\n",
       "178   29         West Ham      1\n",
       "179   29           Wolves      2\n",
       "180   30      Aston Villa      1\n",
       "181   30         Brighton      1\n",
       "182   30          Burnley      3\n",
       "183   30          Chelsea      2\n",
       "184   30   Crystal Palace      3\n",
       "185   30          Everton      1\n",
       "186   30           Fulham      1\n",
       "187   30     Leeds United      2\n",
       "188   30        Liverpool      2\n",
       "189   30  Manchester City      3\n",
       "190   30   Manchester Utd      1\n",
       "191   30    Newcastle Utd      2\n",
       "192   30    Sheffield Utd      1\n",
       "193   30        West Brom      2\n",
       "194   30         West Ham      1\n",
       "195   30           Wolves      1\n",
       "196   31          Arsenal      1\n",
       "197   31          Burnley      6\n",
       "198   31          Chelsea      1\n",
       "199   31   Crystal Palace      3\n",
       "200   31          Everton      3\n",
       "201   31           Fulham      1\n",
       "202   31   Leicester City      1\n",
       "203   31   Manchester Utd      1\n",
       "204   31    Newcastle Utd      2\n",
       "205   31      Southampton      2\n",
       "206   31        Tottenham      2\n",
       "207   31        West Brom      4\n",
       "208   31         West Ham      3\n",
       "209   31           Wolves      1\n",
       "210   32          Arsenal      1\n",
       "211   32      Aston Villa      1\n",
       "212   32         Brighton      1\n",
       "213   32          Burnley      1\n",
       "214   32   Crystal Palace      1\n",
       "215   32          Everton      2\n",
       "216   32           Fulham      1\n",
       "217   32   Leicester City      1\n",
       "218   32  Manchester City      1\n",
       "219   32   Manchester Utd      2\n",
       "220   32    Newcastle Utd      3\n",
       "221   32    Sheffield Utd      1\n",
       "222   32      Southampton      1\n",
       "223   32        Tottenham      1\n",
       "224   32        West Brom      2\n",
       "225   32         West Ham      1\n",
       "226   32           Wolves      1\n",
       "227   33          Arsenal      1\n",
       "228   33      Aston Villa      1\n",
       "229   33   Crystal Palace      1\n",
       "230   33           Fulham      1\n",
       "231   33   Leicester City      1\n",
       "232   33    Sheffield Utd      1\n",
       "233   33      Southampton      1\n",
       "234   33        West Brom      1\n",
       "235   33         West Ham      3\n",
       "236   33           Wolves      1\n",
       "237   34          Chelsea      1\n",
       "238   34   Crystal Palace      2\n",
       "239   34     Leeds United      1\n",
       "240   34   Leicester City      3\n",
       "241   34        Liverpool      1\n",
       "242   34   Manchester Utd      1\n",
       "243   34      Southampton      1\n",
       "244   34        Tottenham      1\n",
       "245   34        West Brom      1\n",
       "246   34           Wolves      2\n",
       "247   35          Burnley      1\n",
       "248   35   Crystal Palace      1\n",
       "249   35     Leeds United      1\n",
       "250   35        Liverpool      1\n",
       "251   35  Manchester City      1\n",
       "252   35    Sheffield Utd      1\n",
       "253   35         West Ham      1\n",
       "254   36          Chelsea      1\n",
       "255   37   Leicester City      1\n",
       "256   37        West Brom      1\n",
       "257   38    Sheffield Utd      1\n",
       "258   39          Chelsea      1"
      ]
     },
     "execution_count": 119,
     "metadata": {},
     "output_type": "execute_result"
    }
   ],
   "source": [
    "df_age"
   ]
  },
  {
   "cell_type": "code",
   "execution_count": 121,
   "metadata": {},
   "outputs": [],
   "source": [
    "fig_age = px.bar(df_age, x=\"Age\", y=\"count\", color=\"Squad\",\n",
    "            hover_data=['Squad'], barmode = 'stack', title = \"EPL Player Age distribution By Team\")"
   ]
  },
  {
   "cell_type": "code",
   "execution_count": 122,
   "metadata": {},
   "outputs": [
    {
     "data": {
      "application/vnd.plotly.v1+json": {
       "config": {
        "plotlyServerURL": "https://plot.ly"
       },
       "data": [
        {
         "alignmentgroup": "True",
         "customdata": [
          [
           "Manchester Utd"
          ],
          [
           "Manchester Utd"
          ],
          [
           "Manchester Utd"
          ],
          [
           "Manchester Utd"
          ],
          [
           "Manchester Utd"
          ],
          [
           "Manchester Utd"
          ],
          [
           "Manchester Utd"
          ],
          [
           "Manchester Utd"
          ],
          [
           "Manchester Utd"
          ],
          [
           "Manchester Utd"
          ],
          [
           "Manchester Utd"
          ],
          [
           "Manchester Utd"
          ]
         ],
         "hovertemplate": "Squad=%{customdata[0]}<br>Age=%{x}<br>count=%{y}<extra></extra>",
         "legendgroup": "Manchester Utd",
         "marker": {
          "color": "#636efa"
         },
         "name": "Manchester Utd",
         "offsetgroup": "Manchester Utd",
         "orientation": "v",
         "showlegend": true,
         "textposition": "auto",
         "type": "bar",
         "x": [
          17,
          19,
          20,
          23,
          24,
          25,
          26,
          28,
          30,
          31,
          32,
          34
         ],
         "xaxis": "x",
         "y": [
          1,
          1,
          1,
          6,
          2,
          2,
          3,
          4,
          1,
          1,
          2,
          1
         ],
         "yaxis": "y"
        },
        {
         "alignmentgroup": "True",
         "customdata": [
          [
           "Sheffield Utd"
          ],
          [
           "Sheffield Utd"
          ],
          [
           "Sheffield Utd"
          ],
          [
           "Sheffield Utd"
          ],
          [
           "Sheffield Utd"
          ],
          [
           "Sheffield Utd"
          ],
          [
           "Sheffield Utd"
          ],
          [
           "Sheffield Utd"
          ],
          [
           "Sheffield Utd"
          ],
          [
           "Sheffield Utd"
          ],
          [
           "Sheffield Utd"
          ],
          [
           "Sheffield Utd"
          ],
          [
           "Sheffield Utd"
          ],
          [
           "Sheffield Utd"
          ],
          [
           "Sheffield Utd"
          ],
          [
           "Sheffield Utd"
          ]
         ],
         "hovertemplate": "Squad=%{customdata[0]}<br>Age=%{x}<br>count=%{y}<extra></extra>",
         "legendgroup": "Sheffield Utd",
         "marker": {
          "color": "#EF553B"
         },
         "name": "Sheffield Utd",
         "offsetgroup": "Sheffield Utd",
         "orientation": "v",
         "showlegend": true,
         "textposition": "auto",
         "type": "bar",
         "x": [
          17,
          20,
          21,
          22,
          23,
          24,
          25,
          26,
          27,
          28,
          29,
          30,
          32,
          33,
          35,
          38
         ],
         "xaxis": "x",
         "y": [
          1,
          3,
          1,
          1,
          3,
          2,
          1,
          1,
          3,
          2,
          2,
          1,
          1,
          1,
          1,
          1
         ],
         "yaxis": "y"
        },
        {
         "alignmentgroup": "True",
         "customdata": [
          [
           "Tottenham"
          ],
          [
           "Tottenham"
          ],
          [
           "Tottenham"
          ],
          [
           "Tottenham"
          ],
          [
           "Tottenham"
          ],
          [
           "Tottenham"
          ],
          [
           "Tottenham"
          ],
          [
           "Tottenham"
          ],
          [
           "Tottenham"
          ],
          [
           "Tottenham"
          ],
          [
           "Tottenham"
          ],
          [
           "Tottenham"
          ]
         ],
         "hovertemplate": "Squad=%{customdata[0]}<br>Age=%{x}<br>count=%{y}<extra></extra>",
         "legendgroup": "Tottenham",
         "marker": {
          "color": "#00cc96"
         },
         "name": "Tottenham",
         "offsetgroup": "Tottenham",
         "orientation": "v",
         "showlegend": true,
         "textposition": "auto",
         "type": "bar",
         "x": [
          17,
          22,
          23,
          24,
          25,
          26,
          27,
          28,
          29,
          31,
          32,
          34
         ],
         "xaxis": "x",
         "y": [
          1,
          1,
          2,
          5,
          2,
          1,
          3,
          3,
          2,
          2,
          1,
          1
         ],
         "yaxis": "y"
        },
        {
         "alignmentgroup": "True",
         "customdata": [
          [
           "Burnley"
          ],
          [
           "Burnley"
          ],
          [
           "Burnley"
          ],
          [
           "Burnley"
          ],
          [
           "Burnley"
          ],
          [
           "Burnley"
          ],
          [
           "Burnley"
          ],
          [
           "Burnley"
          ],
          [
           "Burnley"
          ],
          [
           "Burnley"
          ],
          [
           "Burnley"
          ],
          [
           "Burnley"
          ],
          [
           "Burnley"
          ]
         ],
         "hovertemplate": "Squad=%{customdata[0]}<br>Age=%{x}<br>count=%{y}<extra></extra>",
         "legendgroup": "Burnley",
         "marker": {
          "color": "#ab63fa"
         },
         "name": "Burnley",
         "offsetgroup": "Burnley",
         "orientation": "v",
         "showlegend": true,
         "textposition": "auto",
         "type": "bar",
         "x": [
          18,
          21,
          22,
          23,
          24,
          25,
          27,
          28,
          29,
          30,
          31,
          32,
          35
         ],
         "xaxis": "x",
         "y": [
          1,
          2,
          1,
          1,
          1,
          1,
          1,
          3,
          2,
          3,
          6,
          1,
          1
         ],
         "yaxis": "y"
        },
        {
         "alignmentgroup": "True",
         "customdata": [
          [
           "Manchester City"
          ],
          [
           "Manchester City"
          ],
          [
           "Manchester City"
          ],
          [
           "Manchester City"
          ],
          [
           "Manchester City"
          ],
          [
           "Manchester City"
          ],
          [
           "Manchester City"
          ],
          [
           "Manchester City"
          ],
          [
           "Manchester City"
          ],
          [
           "Manchester City"
          ],
          [
           "Manchester City"
          ],
          [
           "Manchester City"
          ]
         ],
         "hovertemplate": "Squad=%{customdata[0]}<br>Age=%{x}<br>count=%{y}<extra></extra>",
         "legendgroup": "Manchester City",
         "marker": {
          "color": "#FFA15A"
         },
         "name": "Manchester City",
         "offsetgroup": "Manchester City",
         "orientation": "v",
         "showlegend": true,
         "textposition": "auto",
         "type": "bar",
         "x": [
          18,
          20,
          21,
          23,
          24,
          25,
          26,
          27,
          29,
          30,
          32,
          35
         ],
         "xaxis": "x",
         "y": [
          1,
          2,
          1,
          2,
          2,
          1,
          7,
          1,
          1,
          3,
          1,
          1
         ],
         "yaxis": "y"
        },
        {
         "alignmentgroup": "True",
         "customdata": [
          [
           "Newcastle Utd"
          ],
          [
           "Newcastle Utd"
          ],
          [
           "Newcastle Utd"
          ],
          [
           "Newcastle Utd"
          ],
          [
           "Newcastle Utd"
          ],
          [
           "Newcastle Utd"
          ],
          [
           "Newcastle Utd"
          ],
          [
           "Newcastle Utd"
          ],
          [
           "Newcastle Utd"
          ],
          [
           "Newcastle Utd"
          ]
         ],
         "hovertemplate": "Squad=%{customdata[0]}<br>Age=%{x}<br>count=%{y}<extra></extra>",
         "legendgroup": "Newcastle Utd",
         "marker": {
          "color": "#19d3f3"
         },
         "name": "Newcastle Utd",
         "offsetgroup": "Newcastle Utd",
         "orientation": "v",
         "showlegend": true,
         "textposition": "auto",
         "type": "bar",
         "x": [
          18,
          21,
          23,
          24,
          26,
          27,
          29,
          30,
          31,
          32
         ],
         "xaxis": "x",
         "y": [
          1,
          2,
          2,
          2,
          4,
          4,
          5,
          2,
          2,
          3
         ],
         "yaxis": "y"
        },
        {
         "alignmentgroup": "True",
         "customdata": [
          [
           "Wolves"
          ],
          [
           "Wolves"
          ],
          [
           "Wolves"
          ],
          [
           "Wolves"
          ],
          [
           "Wolves"
          ],
          [
           "Wolves"
          ],
          [
           "Wolves"
          ],
          [
           "Wolves"
          ],
          [
           "Wolves"
          ],
          [
           "Wolves"
          ],
          [
           "Wolves"
          ],
          [
           "Wolves"
          ],
          [
           "Wolves"
          ],
          [
           "Wolves"
          ]
         ],
         "hovertemplate": "Squad=%{customdata[0]}<br>Age=%{x}<br>count=%{y}<extra></extra>",
         "legendgroup": "Wolves",
         "marker": {
          "color": "#FF6692"
         },
         "name": "Wolves",
         "offsetgroup": "Wolves",
         "orientation": "v",
         "showlegend": true,
         "textposition": "auto",
         "type": "bar",
         "x": [
          18,
          19,
          21,
          23,
          24,
          25,
          27,
          28,
          29,
          30,
          31,
          32,
          33,
          34
         ],
         "xaxis": "x",
         "y": [
          1,
          3,
          4,
          3,
          1,
          3,
          2,
          1,
          2,
          1,
          1,
          1,
          1,
          2
         ],
         "yaxis": "y"
        },
        {
         "alignmentgroup": "True",
         "customdata": [
          [
           "Arsenal"
          ],
          [
           "Arsenal"
          ],
          [
           "Arsenal"
          ],
          [
           "Arsenal"
          ],
          [
           "Arsenal"
          ],
          [
           "Arsenal"
          ],
          [
           "Arsenal"
          ],
          [
           "Arsenal"
          ],
          [
           "Arsenal"
          ],
          [
           "Arsenal"
          ],
          [
           "Arsenal"
          ],
          [
           "Arsenal"
          ],
          [
           "Arsenal"
          ],
          [
           "Arsenal"
          ]
         ],
         "hovertemplate": "Squad=%{customdata[0]}<br>Age=%{x}<br>count=%{y}<extra></extra>",
         "legendgroup": "Arsenal",
         "marker": {
          "color": "#B6E880"
         },
         "name": "Arsenal",
         "offsetgroup": "Arsenal",
         "orientation": "v",
         "showlegend": true,
         "textposition": "auto",
         "type": "bar",
         "x": [
          19,
          20,
          21,
          22,
          23,
          24,
          25,
          26,
          27,
          28,
          29,
          31,
          32,
          33
         ],
         "xaxis": "x",
         "y": [
          2,
          1,
          3,
          1,
          3,
          1,
          2,
          3,
          3,
          4,
          3,
          1,
          1,
          1
         ],
         "yaxis": "y"
        },
        {
         "alignmentgroup": "True",
         "customdata": [
          [
           "Aston Villa"
          ],
          [
           "Aston Villa"
          ],
          [
           "Aston Villa"
          ],
          [
           "Aston Villa"
          ],
          [
           "Aston Villa"
          ],
          [
           "Aston Villa"
          ],
          [
           "Aston Villa"
          ],
          [
           "Aston Villa"
          ],
          [
           "Aston Villa"
          ],
          [
           "Aston Villa"
          ]
         ],
         "hovertemplate": "Squad=%{customdata[0]}<br>Age=%{x}<br>count=%{y}<extra></extra>",
         "legendgroup": "Aston Villa",
         "marker": {
          "color": "#FF97FF"
         },
         "name": "Aston Villa",
         "offsetgroup": "Aston Villa",
         "orientation": "v",
         "showlegend": true,
         "textposition": "auto",
         "type": "bar",
         "x": [
          19,
          22,
          23,
          25,
          26,
          27,
          28,
          30,
          32,
          33
         ],
         "xaxis": "x",
         "y": [
          1,
          1,
          3,
          6,
          3,
          2,
          2,
          1,
          1,
          1
         ],
         "yaxis": "y"
        },
        {
         "alignmentgroup": "True",
         "customdata": [
          [
           "Brighton"
          ],
          [
           "Brighton"
          ],
          [
           "Brighton"
          ],
          [
           "Brighton"
          ],
          [
           "Brighton"
          ],
          [
           "Brighton"
          ],
          [
           "Brighton"
          ],
          [
           "Brighton"
          ],
          [
           "Brighton"
          ],
          [
           "Brighton"
          ],
          [
           "Brighton"
          ],
          [
           "Brighton"
          ],
          [
           "Brighton"
          ]
         ],
         "hovertemplate": "Squad=%{customdata[0]}<br>Age=%{x}<br>count=%{y}<extra></extra>",
         "legendgroup": "Brighton",
         "marker": {
          "color": "#FECB52"
         },
         "name": "Brighton",
         "offsetgroup": "Brighton",
         "orientation": "v",
         "showlegend": true,
         "textposition": "auto",
         "type": "bar",
         "x": [
          19,
          20,
          21,
          22,
          23,
          24,
          25,
          26,
          27,
          28,
          29,
          30,
          32
         ],
         "xaxis": "x",
         "y": [
          1,
          1,
          4,
          2,
          2,
          2,
          1,
          4,
          1,
          2,
          4,
          1,
          1
         ],
         "yaxis": "y"
        },
        {
         "alignmentgroup": "True",
         "customdata": [
          [
           "Chelsea"
          ],
          [
           "Chelsea"
          ],
          [
           "Chelsea"
          ],
          [
           "Chelsea"
          ],
          [
           "Chelsea"
          ],
          [
           "Chelsea"
          ],
          [
           "Chelsea"
          ],
          [
           "Chelsea"
          ],
          [
           "Chelsea"
          ],
          [
           "Chelsea"
          ],
          [
           "Chelsea"
          ],
          [
           "Chelsea"
          ],
          [
           "Chelsea"
          ],
          [
           "Chelsea"
          ],
          [
           "Chelsea"
          ],
          [
           "Chelsea"
          ]
         ],
         "hovertemplate": "Squad=%{customdata[0]}<br>Age=%{x}<br>count=%{y}<extra></extra>",
         "legendgroup": "Chelsea",
         "marker": {
          "color": "#636efa"
         },
         "name": "Chelsea",
         "offsetgroup": "Chelsea",
         "orientation": "v",
         "showlegend": true,
         "textposition": "auto",
         "type": "bar",
         "x": [
          19,
          20,
          21,
          22,
          23,
          24,
          25,
          26,
          27,
          28,
          29,
          30,
          31,
          34,
          36,
          39
         ],
         "xaxis": "x",
         "y": [
          1,
          1,
          2,
          2,
          2,
          2,
          2,
          4,
          1,
          2,
          2,
          2,
          1,
          1,
          1,
          1
         ],
         "yaxis": "y"
        },
        {
         "alignmentgroup": "True",
         "customdata": [
          [
           "Leicester City"
          ],
          [
           "Leicester City"
          ],
          [
           "Leicester City"
          ],
          [
           "Leicester City"
          ],
          [
           "Leicester City"
          ],
          [
           "Leicester City"
          ],
          [
           "Leicester City"
          ],
          [
           "Leicester City"
          ],
          [
           "Leicester City"
          ],
          [
           "Leicester City"
          ],
          [
           "Leicester City"
          ],
          [
           "Leicester City"
          ],
          [
           "Leicester City"
          ],
          [
           "Leicester City"
          ]
         ],
         "hovertemplate": "Squad=%{customdata[0]}<br>Age=%{x}<br>count=%{y}<extra></extra>",
         "legendgroup": "Leicester City",
         "marker": {
          "color": "#EF553B"
         },
         "name": "Leicester City",
         "offsetgroup": "Leicester City",
         "orientation": "v",
         "showlegend": true,
         "textposition": "auto",
         "type": "bar",
         "x": [
          19,
          20,
          21,
          23,
          24,
          25,
          26,
          27,
          28,
          31,
          32,
          33,
          34,
          37
         ],
         "xaxis": "x",
         "y": [
          2,
          1,
          1,
          5,
          5,
          1,
          2,
          2,
          1,
          1,
          1,
          1,
          3,
          1
         ],
         "yaxis": "y"
        },
        {
         "alignmentgroup": "True",
         "customdata": [
          [
           "Liverpool"
          ],
          [
           "Liverpool"
          ],
          [
           "Liverpool"
          ],
          [
           "Liverpool"
          ],
          [
           "Liverpool"
          ],
          [
           "Liverpool"
          ],
          [
           "Liverpool"
          ],
          [
           "Liverpool"
          ],
          [
           "Liverpool"
          ],
          [
           "Liverpool"
          ],
          [
           "Liverpool"
          ],
          [
           "Liverpool"
          ],
          [
           "Liverpool"
          ],
          [
           "Liverpool"
          ]
         ],
         "hovertemplate": "Squad=%{customdata[0]}<br>Age=%{x}<br>count=%{y}<extra></extra>",
         "legendgroup": "Liverpool",
         "marker": {
          "color": "#00cc96"
         },
         "name": "Liverpool",
         "offsetgroup": "Liverpool",
         "orientation": "v",
         "showlegend": true,
         "textposition": "auto",
         "type": "bar",
         "x": [
          19,
          20,
          21,
          22,
          23,
          24,
          25,
          26,
          27,
          28,
          29,
          30,
          34,
          35
         ],
         "xaxis": "x",
         "y": [
          1,
          2,
          1,
          2,
          1,
          3,
          1,
          2,
          3,
          3,
          5,
          2,
          1,
          1
         ],
         "yaxis": "y"
        },
        {
         "alignmentgroup": "True",
         "customdata": [
          [
           "Southampton"
          ],
          [
           "Southampton"
          ],
          [
           "Southampton"
          ],
          [
           "Southampton"
          ],
          [
           "Southampton"
          ],
          [
           "Southampton"
          ],
          [
           "Southampton"
          ],
          [
           "Southampton"
          ],
          [
           "Southampton"
          ],
          [
           "Southampton"
          ],
          [
           "Southampton"
          ],
          [
           "Southampton"
          ],
          [
           "Southampton"
          ],
          [
           "Southampton"
          ]
         ],
         "hovertemplate": "Squad=%{customdata[0]}<br>Age=%{x}<br>count=%{y}<extra></extra>",
         "legendgroup": "Southampton",
         "marker": {
          "color": "#ab63fa"
         },
         "name": "Southampton",
         "offsetgroup": "Southampton",
         "orientation": "v",
         "showlegend": true,
         "textposition": "auto",
         "type": "bar",
         "x": [
          19,
          20,
          21,
          22,
          23,
          24,
          26,
          27,
          28,
          29,
          31,
          32,
          33,
          34
         ],
         "xaxis": "x",
         "y": [
          3,
          2,
          4,
          4,
          1,
          2,
          2,
          2,
          2,
          2,
          2,
          1,
          1,
          1
         ],
         "yaxis": "y"
        },
        {
         "alignmentgroup": "True",
         "customdata": [
          [
           "Everton"
          ],
          [
           "Everton"
          ],
          [
           "Everton"
          ],
          [
           "Everton"
          ],
          [
           "Everton"
          ],
          [
           "Everton"
          ],
          [
           "Everton"
          ],
          [
           "Everton"
          ],
          [
           "Everton"
          ],
          [
           "Everton"
          ],
          [
           "Everton"
          ],
          [
           "Everton"
          ]
         ],
         "hovertemplate": "Squad=%{customdata[0]}<br>Age=%{x}<br>count=%{y}<extra></extra>",
         "legendgroup": "Everton",
         "marker": {
          "color": "#FFA15A"
         },
         "name": "Everton",
         "offsetgroup": "Everton",
         "orientation": "v",
         "showlegend": true,
         "textposition": "auto",
         "type": "bar",
         "x": [
          20,
          21,
          22,
          23,
          24,
          26,
          27,
          28,
          29,
          30,
          31,
          32
         ],
         "xaxis": "x",
         "y": [
          2,
          2,
          1,
          2,
          4,
          1,
          3,
          3,
          3,
          1,
          3,
          2
         ],
         "yaxis": "y"
        },
        {
         "alignmentgroup": "True",
         "customdata": [
          [
           "Leeds United"
          ],
          [
           "Leeds United"
          ],
          [
           "Leeds United"
          ],
          [
           "Leeds United"
          ],
          [
           "Leeds United"
          ],
          [
           "Leeds United"
          ],
          [
           "Leeds United"
          ],
          [
           "Leeds United"
          ],
          [
           "Leeds United"
          ],
          [
           "Leeds United"
          ]
         ],
         "hovertemplate": "Squad=%{customdata[0]}<br>Age=%{x}<br>count=%{y}<extra></extra>",
         "legendgroup": "Leeds United",
         "marker": {
          "color": "#19d3f3"
         },
         "name": "Leeds United",
         "offsetgroup": "Leeds United",
         "orientation": "v",
         "showlegend": true,
         "textposition": "auto",
         "type": "bar",
         "x": [
          20,
          21,
          22,
          24,
          25,
          27,
          29,
          30,
          34,
          35
         ],
         "xaxis": "x",
         "y": [
          1,
          5,
          1,
          3,
          1,
          3,
          4,
          2,
          1,
          1
         ],
         "yaxis": "y"
        },
        {
         "alignmentgroup": "True",
         "customdata": [
          [
           "Crystal Palace"
          ],
          [
           "Crystal Palace"
          ],
          [
           "Crystal Palace"
          ],
          [
           "Crystal Palace"
          ],
          [
           "Crystal Palace"
          ],
          [
           "Crystal Palace"
          ],
          [
           "Crystal Palace"
          ],
          [
           "Crystal Palace"
          ],
          [
           "Crystal Palace"
          ],
          [
           "Crystal Palace"
          ],
          [
           "Crystal Palace"
          ],
          [
           "Crystal Palace"
          ],
          [
           "Crystal Palace"
          ]
         ],
         "hovertemplate": "Squad=%{customdata[0]}<br>Age=%{x}<br>count=%{y}<extra></extra>",
         "legendgroup": "Crystal Palace",
         "marker": {
          "color": "#FF6692"
         },
         "name": "Crystal Palace",
         "offsetgroup": "Crystal Palace",
         "orientation": "v",
         "showlegend": true,
         "textposition": "auto",
         "type": "bar",
         "x": [
          21,
          22,
          23,
          24,
          27,
          28,
          29,
          30,
          31,
          32,
          33,
          34,
          35
         ],
         "xaxis": "x",
         "y": [
          1,
          1,
          1,
          1,
          1,
          2,
          4,
          3,
          3,
          1,
          1,
          2,
          1
         ],
         "yaxis": "y"
        },
        {
         "alignmentgroup": "True",
         "customdata": [
          [
           "West Brom"
          ],
          [
           "West Brom"
          ],
          [
           "West Brom"
          ],
          [
           "West Brom"
          ],
          [
           "West Brom"
          ],
          [
           "West Brom"
          ],
          [
           "West Brom"
          ],
          [
           "West Brom"
          ],
          [
           "West Brom"
          ],
          [
           "West Brom"
          ],
          [
           "West Brom"
          ],
          [
           "West Brom"
          ],
          [
           "West Brom"
          ],
          [
           "West Brom"
          ],
          [
           "West Brom"
          ]
         ],
         "hovertemplate": "Squad=%{customdata[0]}<br>Age=%{x}<br>count=%{y}<extra></extra>",
         "legendgroup": "West Brom",
         "marker": {
          "color": "#B6E880"
         },
         "name": "West Brom",
         "offsetgroup": "West Brom",
         "orientation": "v",
         "showlegend": true,
         "textposition": "auto",
         "type": "bar",
         "x": [
          21,
          22,
          23,
          24,
          25,
          26,
          27,
          28,
          29,
          30,
          31,
          32,
          33,
          34,
          37
         ],
         "xaxis": "x",
         "y": [
          2,
          3,
          3,
          1,
          2,
          1,
          2,
          2,
          3,
          2,
          4,
          2,
          1,
          1,
          1
         ],
         "yaxis": "y"
        },
        {
         "alignmentgroup": "True",
         "customdata": [
          [
           "West Ham"
          ],
          [
           "West Ham"
          ],
          [
           "West Ham"
          ],
          [
           "West Ham"
          ],
          [
           "West Ham"
          ],
          [
           "West Ham"
          ],
          [
           "West Ham"
          ],
          [
           "West Ham"
          ],
          [
           "West Ham"
          ],
          [
           "West Ham"
          ],
          [
           "West Ham"
          ],
          [
           "West Ham"
          ],
          [
           "West Ham"
          ]
         ],
         "hovertemplate": "Squad=%{customdata[0]}<br>Age=%{x}<br>count=%{y}<extra></extra>",
         "legendgroup": "West Ham",
         "marker": {
          "color": "#FF97FF"
         },
         "name": "West Ham",
         "offsetgroup": "West Ham",
         "orientation": "v",
         "showlegend": true,
         "textposition": "auto",
         "type": "bar",
         "x": [
          21,
          22,
          24,
          25,
          26,
          27,
          28,
          29,
          30,
          31,
          32,
          33,
          35
         ],
         "xaxis": "x",
         "y": [
          1,
          1,
          2,
          2,
          2,
          2,
          4,
          1,
          1,
          3,
          1,
          3,
          1
         ],
         "yaxis": "y"
        },
        {
         "alignmentgroup": "True",
         "customdata": [
          [
           "Fulham"
          ],
          [
           "Fulham"
          ],
          [
           "Fulham"
          ],
          [
           "Fulham"
          ],
          [
           "Fulham"
          ],
          [
           "Fulham"
          ],
          [
           "Fulham"
          ],
          [
           "Fulham"
          ],
          [
           "Fulham"
          ],
          [
           "Fulham"
          ],
          [
           "Fulham"
          ],
          [
           "Fulham"
          ]
         ],
         "hovertemplate": "Squad=%{customdata[0]}<br>Age=%{x}<br>count=%{y}<extra></extra>",
         "legendgroup": "Fulham",
         "marker": {
          "color": "#FECB52"
         },
         "name": "Fulham",
         "offsetgroup": "Fulham",
         "orientation": "v",
         "showlegend": true,
         "textposition": "auto",
         "type": "bar",
         "x": [
          22,
          23,
          24,
          25,
          26,
          27,
          28,
          29,
          30,
          31,
          32,
          33
         ],
         "xaxis": "x",
         "y": [
          1,
          4,
          3,
          3,
          3,
          3,
          3,
          1,
          1,
          1,
          1,
          1
         ],
         "yaxis": "y"
        }
       ],
       "layout": {
        "barmode": "stack",
        "legend": {
         "title": {
          "text": "Squad"
         },
         "tracegroupgap": 0
        },
        "template": {
         "data": {
          "bar": [
           {
            "error_x": {
             "color": "#2a3f5f"
            },
            "error_y": {
             "color": "#2a3f5f"
            },
            "marker": {
             "line": {
              "color": "#E5ECF6",
              "width": 0.5
             }
            },
            "type": "bar"
           }
          ],
          "barpolar": [
           {
            "marker": {
             "line": {
              "color": "#E5ECF6",
              "width": 0.5
             }
            },
            "type": "barpolar"
           }
          ],
          "carpet": [
           {
            "aaxis": {
             "endlinecolor": "#2a3f5f",
             "gridcolor": "white",
             "linecolor": "white",
             "minorgridcolor": "white",
             "startlinecolor": "#2a3f5f"
            },
            "baxis": {
             "endlinecolor": "#2a3f5f",
             "gridcolor": "white",
             "linecolor": "white",
             "minorgridcolor": "white",
             "startlinecolor": "#2a3f5f"
            },
            "type": "carpet"
           }
          ],
          "choropleth": [
           {
            "colorbar": {
             "outlinewidth": 0,
             "ticks": ""
            },
            "type": "choropleth"
           }
          ],
          "contour": [
           {
            "colorbar": {
             "outlinewidth": 0,
             "ticks": ""
            },
            "colorscale": [
             [
              0,
              "#0d0887"
             ],
             [
              0.1111111111111111,
              "#46039f"
             ],
             [
              0.2222222222222222,
              "#7201a8"
             ],
             [
              0.3333333333333333,
              "#9c179e"
             ],
             [
              0.4444444444444444,
              "#bd3786"
             ],
             [
              0.5555555555555556,
              "#d8576b"
             ],
             [
              0.6666666666666666,
              "#ed7953"
             ],
             [
              0.7777777777777778,
              "#fb9f3a"
             ],
             [
              0.8888888888888888,
              "#fdca26"
             ],
             [
              1,
              "#f0f921"
             ]
            ],
            "type": "contour"
           }
          ],
          "contourcarpet": [
           {
            "colorbar": {
             "outlinewidth": 0,
             "ticks": ""
            },
            "type": "contourcarpet"
           }
          ],
          "heatmap": [
           {
            "colorbar": {
             "outlinewidth": 0,
             "ticks": ""
            },
            "colorscale": [
             [
              0,
              "#0d0887"
             ],
             [
              0.1111111111111111,
              "#46039f"
             ],
             [
              0.2222222222222222,
              "#7201a8"
             ],
             [
              0.3333333333333333,
              "#9c179e"
             ],
             [
              0.4444444444444444,
              "#bd3786"
             ],
             [
              0.5555555555555556,
              "#d8576b"
             ],
             [
              0.6666666666666666,
              "#ed7953"
             ],
             [
              0.7777777777777778,
              "#fb9f3a"
             ],
             [
              0.8888888888888888,
              "#fdca26"
             ],
             [
              1,
              "#f0f921"
             ]
            ],
            "type": "heatmap"
           }
          ],
          "heatmapgl": [
           {
            "colorbar": {
             "outlinewidth": 0,
             "ticks": ""
            },
            "colorscale": [
             [
              0,
              "#0d0887"
             ],
             [
              0.1111111111111111,
              "#46039f"
             ],
             [
              0.2222222222222222,
              "#7201a8"
             ],
             [
              0.3333333333333333,
              "#9c179e"
             ],
             [
              0.4444444444444444,
              "#bd3786"
             ],
             [
              0.5555555555555556,
              "#d8576b"
             ],
             [
              0.6666666666666666,
              "#ed7953"
             ],
             [
              0.7777777777777778,
              "#fb9f3a"
             ],
             [
              0.8888888888888888,
              "#fdca26"
             ],
             [
              1,
              "#f0f921"
             ]
            ],
            "type": "heatmapgl"
           }
          ],
          "histogram": [
           {
            "marker": {
             "colorbar": {
              "outlinewidth": 0,
              "ticks": ""
             }
            },
            "type": "histogram"
           }
          ],
          "histogram2d": [
           {
            "colorbar": {
             "outlinewidth": 0,
             "ticks": ""
            },
            "colorscale": [
             [
              0,
              "#0d0887"
             ],
             [
              0.1111111111111111,
              "#46039f"
             ],
             [
              0.2222222222222222,
              "#7201a8"
             ],
             [
              0.3333333333333333,
              "#9c179e"
             ],
             [
              0.4444444444444444,
              "#bd3786"
             ],
             [
              0.5555555555555556,
              "#d8576b"
             ],
             [
              0.6666666666666666,
              "#ed7953"
             ],
             [
              0.7777777777777778,
              "#fb9f3a"
             ],
             [
              0.8888888888888888,
              "#fdca26"
             ],
             [
              1,
              "#f0f921"
             ]
            ],
            "type": "histogram2d"
           }
          ],
          "histogram2dcontour": [
           {
            "colorbar": {
             "outlinewidth": 0,
             "ticks": ""
            },
            "colorscale": [
             [
              0,
              "#0d0887"
             ],
             [
              0.1111111111111111,
              "#46039f"
             ],
             [
              0.2222222222222222,
              "#7201a8"
             ],
             [
              0.3333333333333333,
              "#9c179e"
             ],
             [
              0.4444444444444444,
              "#bd3786"
             ],
             [
              0.5555555555555556,
              "#d8576b"
             ],
             [
              0.6666666666666666,
              "#ed7953"
             ],
             [
              0.7777777777777778,
              "#fb9f3a"
             ],
             [
              0.8888888888888888,
              "#fdca26"
             ],
             [
              1,
              "#f0f921"
             ]
            ],
            "type": "histogram2dcontour"
           }
          ],
          "mesh3d": [
           {
            "colorbar": {
             "outlinewidth": 0,
             "ticks": ""
            },
            "type": "mesh3d"
           }
          ],
          "parcoords": [
           {
            "line": {
             "colorbar": {
              "outlinewidth": 0,
              "ticks": ""
             }
            },
            "type": "parcoords"
           }
          ],
          "pie": [
           {
            "automargin": true,
            "type": "pie"
           }
          ],
          "scatter": [
           {
            "marker": {
             "colorbar": {
              "outlinewidth": 0,
              "ticks": ""
             }
            },
            "type": "scatter"
           }
          ],
          "scatter3d": [
           {
            "line": {
             "colorbar": {
              "outlinewidth": 0,
              "ticks": ""
             }
            },
            "marker": {
             "colorbar": {
              "outlinewidth": 0,
              "ticks": ""
             }
            },
            "type": "scatter3d"
           }
          ],
          "scattercarpet": [
           {
            "marker": {
             "colorbar": {
              "outlinewidth": 0,
              "ticks": ""
             }
            },
            "type": "scattercarpet"
           }
          ],
          "scattergeo": [
           {
            "marker": {
             "colorbar": {
              "outlinewidth": 0,
              "ticks": ""
             }
            },
            "type": "scattergeo"
           }
          ],
          "scattergl": [
           {
            "marker": {
             "colorbar": {
              "outlinewidth": 0,
              "ticks": ""
             }
            },
            "type": "scattergl"
           }
          ],
          "scattermapbox": [
           {
            "marker": {
             "colorbar": {
              "outlinewidth": 0,
              "ticks": ""
             }
            },
            "type": "scattermapbox"
           }
          ],
          "scatterpolar": [
           {
            "marker": {
             "colorbar": {
              "outlinewidth": 0,
              "ticks": ""
             }
            },
            "type": "scatterpolar"
           }
          ],
          "scatterpolargl": [
           {
            "marker": {
             "colorbar": {
              "outlinewidth": 0,
              "ticks": ""
             }
            },
            "type": "scatterpolargl"
           }
          ],
          "scatterternary": [
           {
            "marker": {
             "colorbar": {
              "outlinewidth": 0,
              "ticks": ""
             }
            },
            "type": "scatterternary"
           }
          ],
          "surface": [
           {
            "colorbar": {
             "outlinewidth": 0,
             "ticks": ""
            },
            "colorscale": [
             [
              0,
              "#0d0887"
             ],
             [
              0.1111111111111111,
              "#46039f"
             ],
             [
              0.2222222222222222,
              "#7201a8"
             ],
             [
              0.3333333333333333,
              "#9c179e"
             ],
             [
              0.4444444444444444,
              "#bd3786"
             ],
             [
              0.5555555555555556,
              "#d8576b"
             ],
             [
              0.6666666666666666,
              "#ed7953"
             ],
             [
              0.7777777777777778,
              "#fb9f3a"
             ],
             [
              0.8888888888888888,
              "#fdca26"
             ],
             [
              1,
              "#f0f921"
             ]
            ],
            "type": "surface"
           }
          ],
          "table": [
           {
            "cells": {
             "fill": {
              "color": "#EBF0F8"
             },
             "line": {
              "color": "white"
             }
            },
            "header": {
             "fill": {
              "color": "#C8D4E3"
             },
             "line": {
              "color": "white"
             }
            },
            "type": "table"
           }
          ]
         },
         "layout": {
          "annotationdefaults": {
           "arrowcolor": "#2a3f5f",
           "arrowhead": 0,
           "arrowwidth": 1
          },
          "coloraxis": {
           "colorbar": {
            "outlinewidth": 0,
            "ticks": ""
           }
          },
          "colorscale": {
           "diverging": [
            [
             0,
             "#8e0152"
            ],
            [
             0.1,
             "#c51b7d"
            ],
            [
             0.2,
             "#de77ae"
            ],
            [
             0.3,
             "#f1b6da"
            ],
            [
             0.4,
             "#fde0ef"
            ],
            [
             0.5,
             "#f7f7f7"
            ],
            [
             0.6,
             "#e6f5d0"
            ],
            [
             0.7,
             "#b8e186"
            ],
            [
             0.8,
             "#7fbc41"
            ],
            [
             0.9,
             "#4d9221"
            ],
            [
             1,
             "#276419"
            ]
           ],
           "sequential": [
            [
             0,
             "#0d0887"
            ],
            [
             0.1111111111111111,
             "#46039f"
            ],
            [
             0.2222222222222222,
             "#7201a8"
            ],
            [
             0.3333333333333333,
             "#9c179e"
            ],
            [
             0.4444444444444444,
             "#bd3786"
            ],
            [
             0.5555555555555556,
             "#d8576b"
            ],
            [
             0.6666666666666666,
             "#ed7953"
            ],
            [
             0.7777777777777778,
             "#fb9f3a"
            ],
            [
             0.8888888888888888,
             "#fdca26"
            ],
            [
             1,
             "#f0f921"
            ]
           ],
           "sequentialminus": [
            [
             0,
             "#0d0887"
            ],
            [
             0.1111111111111111,
             "#46039f"
            ],
            [
             0.2222222222222222,
             "#7201a8"
            ],
            [
             0.3333333333333333,
             "#9c179e"
            ],
            [
             0.4444444444444444,
             "#bd3786"
            ],
            [
             0.5555555555555556,
             "#d8576b"
            ],
            [
             0.6666666666666666,
             "#ed7953"
            ],
            [
             0.7777777777777778,
             "#fb9f3a"
            ],
            [
             0.8888888888888888,
             "#fdca26"
            ],
            [
             1,
             "#f0f921"
            ]
           ]
          },
          "colorway": [
           "#636efa",
           "#EF553B",
           "#00cc96",
           "#ab63fa",
           "#FFA15A",
           "#19d3f3",
           "#FF6692",
           "#B6E880",
           "#FF97FF",
           "#FECB52"
          ],
          "font": {
           "color": "#2a3f5f"
          },
          "geo": {
           "bgcolor": "white",
           "lakecolor": "white",
           "landcolor": "#E5ECF6",
           "showlakes": true,
           "showland": true,
           "subunitcolor": "white"
          },
          "hoverlabel": {
           "align": "left"
          },
          "hovermode": "closest",
          "mapbox": {
           "style": "light"
          },
          "paper_bgcolor": "white",
          "plot_bgcolor": "#E5ECF6",
          "polar": {
           "angularaxis": {
            "gridcolor": "white",
            "linecolor": "white",
            "ticks": ""
           },
           "bgcolor": "#E5ECF6",
           "radialaxis": {
            "gridcolor": "white",
            "linecolor": "white",
            "ticks": ""
           }
          },
          "scene": {
           "xaxis": {
            "backgroundcolor": "#E5ECF6",
            "gridcolor": "white",
            "gridwidth": 2,
            "linecolor": "white",
            "showbackground": true,
            "ticks": "",
            "zerolinecolor": "white"
           },
           "yaxis": {
            "backgroundcolor": "#E5ECF6",
            "gridcolor": "white",
            "gridwidth": 2,
            "linecolor": "white",
            "showbackground": true,
            "ticks": "",
            "zerolinecolor": "white"
           },
           "zaxis": {
            "backgroundcolor": "#E5ECF6",
            "gridcolor": "white",
            "gridwidth": 2,
            "linecolor": "white",
            "showbackground": true,
            "ticks": "",
            "zerolinecolor": "white"
           }
          },
          "shapedefaults": {
           "line": {
            "color": "#2a3f5f"
           }
          },
          "ternary": {
           "aaxis": {
            "gridcolor": "white",
            "linecolor": "white",
            "ticks": ""
           },
           "baxis": {
            "gridcolor": "white",
            "linecolor": "white",
            "ticks": ""
           },
           "bgcolor": "#E5ECF6",
           "caxis": {
            "gridcolor": "white",
            "linecolor": "white",
            "ticks": ""
           }
          },
          "title": {
           "x": 0.05
          },
          "xaxis": {
           "automargin": true,
           "gridcolor": "white",
           "linecolor": "white",
           "ticks": "",
           "title": {
            "standoff": 15
           },
           "zerolinecolor": "white",
           "zerolinewidth": 2
          },
          "yaxis": {
           "automargin": true,
           "gridcolor": "white",
           "linecolor": "white",
           "ticks": "",
           "title": {
            "standoff": 15
           },
           "zerolinecolor": "white",
           "zerolinewidth": 2
          }
         }
        },
        "title": {
         "text": "EPL Player Age distribution By Team"
        },
        "xaxis": {
         "anchor": "y",
         "domain": [
          0,
          1
         ],
         "title": {
          "text": "Age"
         }
        },
        "yaxis": {
         "anchor": "x",
         "domain": [
          0,
          1
         ],
         "title": {
          "text": "count"
         }
        }
       }
      },
      "text/html": [
       "<div>                            <div id=\"14a5d3ba-9c94-4ad9-a2b0-d8b64f5d9bae\" class=\"plotly-graph-div\" style=\"height:525px; width:100%;\"></div>            <script type=\"text/javascript\">                require([\"plotly\"], function(Plotly) {                    window.PLOTLYENV=window.PLOTLYENV || {};                                    if (document.getElementById(\"14a5d3ba-9c94-4ad9-a2b0-d8b64f5d9bae\")) {                    Plotly.newPlot(                        \"14a5d3ba-9c94-4ad9-a2b0-d8b64f5d9bae\",                        [{\"alignmentgroup\": \"True\", \"customdata\": [[\"Manchester Utd\"], [\"Manchester Utd\"], [\"Manchester Utd\"], [\"Manchester Utd\"], [\"Manchester Utd\"], [\"Manchester Utd\"], [\"Manchester Utd\"], [\"Manchester Utd\"], [\"Manchester Utd\"], [\"Manchester Utd\"], [\"Manchester Utd\"], [\"Manchester Utd\"]], \"hovertemplate\": \"Squad=%{customdata[0]}<br>Age=%{x}<br>count=%{y}<extra></extra>\", \"legendgroup\": \"Manchester Utd\", \"marker\": {\"color\": \"#636efa\"}, \"name\": \"Manchester Utd\", \"offsetgroup\": \"Manchester Utd\", \"orientation\": \"v\", \"showlegend\": true, \"textposition\": \"auto\", \"type\": \"bar\", \"x\": [17, 19, 20, 23, 24, 25, 26, 28, 30, 31, 32, 34], \"xaxis\": \"x\", \"y\": [1, 1, 1, 6, 2, 2, 3, 4, 1, 1, 2, 1], \"yaxis\": \"y\"}, {\"alignmentgroup\": \"True\", \"customdata\": [[\"Sheffield Utd\"], [\"Sheffield Utd\"], [\"Sheffield Utd\"], [\"Sheffield Utd\"], [\"Sheffield Utd\"], [\"Sheffield Utd\"], [\"Sheffield Utd\"], [\"Sheffield Utd\"], [\"Sheffield Utd\"], [\"Sheffield Utd\"], [\"Sheffield Utd\"], [\"Sheffield Utd\"], [\"Sheffield Utd\"], [\"Sheffield Utd\"], [\"Sheffield Utd\"], [\"Sheffield Utd\"]], \"hovertemplate\": \"Squad=%{customdata[0]}<br>Age=%{x}<br>count=%{y}<extra></extra>\", \"legendgroup\": \"Sheffield Utd\", \"marker\": {\"color\": \"#EF553B\"}, \"name\": \"Sheffield Utd\", \"offsetgroup\": \"Sheffield Utd\", \"orientation\": \"v\", \"showlegend\": true, \"textposition\": \"auto\", \"type\": \"bar\", \"x\": [17, 20, 21, 22, 23, 24, 25, 26, 27, 28, 29, 30, 32, 33, 35, 38], \"xaxis\": \"x\", \"y\": [1, 3, 1, 1, 3, 2, 1, 1, 3, 2, 2, 1, 1, 1, 1, 1], \"yaxis\": \"y\"}, {\"alignmentgroup\": \"True\", \"customdata\": [[\"Tottenham\"], [\"Tottenham\"], [\"Tottenham\"], [\"Tottenham\"], [\"Tottenham\"], [\"Tottenham\"], [\"Tottenham\"], [\"Tottenham\"], [\"Tottenham\"], [\"Tottenham\"], [\"Tottenham\"], [\"Tottenham\"]], \"hovertemplate\": \"Squad=%{customdata[0]}<br>Age=%{x}<br>count=%{y}<extra></extra>\", \"legendgroup\": \"Tottenham\", \"marker\": {\"color\": \"#00cc96\"}, \"name\": \"Tottenham\", \"offsetgroup\": \"Tottenham\", \"orientation\": \"v\", \"showlegend\": true, \"textposition\": \"auto\", \"type\": \"bar\", \"x\": [17, 22, 23, 24, 25, 26, 27, 28, 29, 31, 32, 34], \"xaxis\": \"x\", \"y\": [1, 1, 2, 5, 2, 1, 3, 3, 2, 2, 1, 1], \"yaxis\": \"y\"}, {\"alignmentgroup\": \"True\", \"customdata\": [[\"Burnley\"], [\"Burnley\"], [\"Burnley\"], [\"Burnley\"], [\"Burnley\"], [\"Burnley\"], [\"Burnley\"], [\"Burnley\"], [\"Burnley\"], [\"Burnley\"], [\"Burnley\"], [\"Burnley\"], [\"Burnley\"]], \"hovertemplate\": \"Squad=%{customdata[0]}<br>Age=%{x}<br>count=%{y}<extra></extra>\", \"legendgroup\": \"Burnley\", \"marker\": {\"color\": \"#ab63fa\"}, \"name\": \"Burnley\", \"offsetgroup\": \"Burnley\", \"orientation\": \"v\", \"showlegend\": true, \"textposition\": \"auto\", \"type\": \"bar\", \"x\": [18, 21, 22, 23, 24, 25, 27, 28, 29, 30, 31, 32, 35], \"xaxis\": \"x\", \"y\": [1, 2, 1, 1, 1, 1, 1, 3, 2, 3, 6, 1, 1], \"yaxis\": \"y\"}, {\"alignmentgroup\": \"True\", \"customdata\": [[\"Manchester City\"], [\"Manchester City\"], [\"Manchester City\"], [\"Manchester City\"], [\"Manchester City\"], [\"Manchester City\"], [\"Manchester City\"], [\"Manchester City\"], [\"Manchester City\"], [\"Manchester City\"], [\"Manchester City\"], [\"Manchester City\"]], \"hovertemplate\": \"Squad=%{customdata[0]}<br>Age=%{x}<br>count=%{y}<extra></extra>\", \"legendgroup\": \"Manchester City\", \"marker\": {\"color\": \"#FFA15A\"}, \"name\": \"Manchester City\", \"offsetgroup\": \"Manchester City\", \"orientation\": \"v\", \"showlegend\": true, \"textposition\": \"auto\", \"type\": \"bar\", \"x\": [18, 20, 21, 23, 24, 25, 26, 27, 29, 30, 32, 35], \"xaxis\": \"x\", \"y\": [1, 2, 1, 2, 2, 1, 7, 1, 1, 3, 1, 1], \"yaxis\": \"y\"}, {\"alignmentgroup\": \"True\", \"customdata\": [[\"Newcastle Utd\"], [\"Newcastle Utd\"], [\"Newcastle Utd\"], [\"Newcastle Utd\"], [\"Newcastle Utd\"], [\"Newcastle Utd\"], [\"Newcastle Utd\"], [\"Newcastle Utd\"], [\"Newcastle Utd\"], [\"Newcastle Utd\"]], \"hovertemplate\": \"Squad=%{customdata[0]}<br>Age=%{x}<br>count=%{y}<extra></extra>\", \"legendgroup\": \"Newcastle Utd\", \"marker\": {\"color\": \"#19d3f3\"}, \"name\": \"Newcastle Utd\", \"offsetgroup\": \"Newcastle Utd\", \"orientation\": \"v\", \"showlegend\": true, \"textposition\": \"auto\", \"type\": \"bar\", \"x\": [18, 21, 23, 24, 26, 27, 29, 30, 31, 32], \"xaxis\": \"x\", \"y\": [1, 2, 2, 2, 4, 4, 5, 2, 2, 3], \"yaxis\": \"y\"}, {\"alignmentgroup\": \"True\", \"customdata\": [[\"Wolves\"], [\"Wolves\"], [\"Wolves\"], [\"Wolves\"], [\"Wolves\"], [\"Wolves\"], [\"Wolves\"], [\"Wolves\"], [\"Wolves\"], [\"Wolves\"], [\"Wolves\"], [\"Wolves\"], [\"Wolves\"], [\"Wolves\"]], \"hovertemplate\": \"Squad=%{customdata[0]}<br>Age=%{x}<br>count=%{y}<extra></extra>\", \"legendgroup\": \"Wolves\", \"marker\": {\"color\": \"#FF6692\"}, \"name\": \"Wolves\", \"offsetgroup\": \"Wolves\", \"orientation\": \"v\", \"showlegend\": true, \"textposition\": \"auto\", \"type\": \"bar\", \"x\": [18, 19, 21, 23, 24, 25, 27, 28, 29, 30, 31, 32, 33, 34], \"xaxis\": \"x\", \"y\": [1, 3, 4, 3, 1, 3, 2, 1, 2, 1, 1, 1, 1, 2], \"yaxis\": \"y\"}, {\"alignmentgroup\": \"True\", \"customdata\": [[\"Arsenal\"], [\"Arsenal\"], [\"Arsenal\"], [\"Arsenal\"], [\"Arsenal\"], [\"Arsenal\"], [\"Arsenal\"], [\"Arsenal\"], [\"Arsenal\"], [\"Arsenal\"], [\"Arsenal\"], [\"Arsenal\"], [\"Arsenal\"], [\"Arsenal\"]], \"hovertemplate\": \"Squad=%{customdata[0]}<br>Age=%{x}<br>count=%{y}<extra></extra>\", \"legendgroup\": \"Arsenal\", \"marker\": {\"color\": \"#B6E880\"}, \"name\": \"Arsenal\", \"offsetgroup\": \"Arsenal\", \"orientation\": \"v\", \"showlegend\": true, \"textposition\": \"auto\", \"type\": \"bar\", \"x\": [19, 20, 21, 22, 23, 24, 25, 26, 27, 28, 29, 31, 32, 33], \"xaxis\": \"x\", \"y\": [2, 1, 3, 1, 3, 1, 2, 3, 3, 4, 3, 1, 1, 1], \"yaxis\": \"y\"}, {\"alignmentgroup\": \"True\", \"customdata\": [[\"Aston Villa\"], [\"Aston Villa\"], [\"Aston Villa\"], [\"Aston Villa\"], [\"Aston Villa\"], [\"Aston Villa\"], [\"Aston Villa\"], [\"Aston Villa\"], [\"Aston Villa\"], [\"Aston Villa\"]], \"hovertemplate\": \"Squad=%{customdata[0]}<br>Age=%{x}<br>count=%{y}<extra></extra>\", \"legendgroup\": \"Aston Villa\", \"marker\": {\"color\": \"#FF97FF\"}, \"name\": \"Aston Villa\", \"offsetgroup\": \"Aston Villa\", \"orientation\": \"v\", \"showlegend\": true, \"textposition\": \"auto\", \"type\": \"bar\", \"x\": [19, 22, 23, 25, 26, 27, 28, 30, 32, 33], \"xaxis\": \"x\", \"y\": [1, 1, 3, 6, 3, 2, 2, 1, 1, 1], \"yaxis\": \"y\"}, {\"alignmentgroup\": \"True\", \"customdata\": [[\"Brighton\"], [\"Brighton\"], [\"Brighton\"], [\"Brighton\"], [\"Brighton\"], [\"Brighton\"], [\"Brighton\"], [\"Brighton\"], [\"Brighton\"], [\"Brighton\"], [\"Brighton\"], [\"Brighton\"], [\"Brighton\"]], \"hovertemplate\": \"Squad=%{customdata[0]}<br>Age=%{x}<br>count=%{y}<extra></extra>\", \"legendgroup\": \"Brighton\", \"marker\": {\"color\": \"#FECB52\"}, \"name\": \"Brighton\", \"offsetgroup\": \"Brighton\", \"orientation\": \"v\", \"showlegend\": true, \"textposition\": \"auto\", \"type\": \"bar\", \"x\": [19, 20, 21, 22, 23, 24, 25, 26, 27, 28, 29, 30, 32], \"xaxis\": \"x\", \"y\": [1, 1, 4, 2, 2, 2, 1, 4, 1, 2, 4, 1, 1], \"yaxis\": \"y\"}, {\"alignmentgroup\": \"True\", \"customdata\": [[\"Chelsea\"], [\"Chelsea\"], [\"Chelsea\"], [\"Chelsea\"], [\"Chelsea\"], [\"Chelsea\"], [\"Chelsea\"], [\"Chelsea\"], [\"Chelsea\"], [\"Chelsea\"], [\"Chelsea\"], [\"Chelsea\"], [\"Chelsea\"], [\"Chelsea\"], [\"Chelsea\"], [\"Chelsea\"]], \"hovertemplate\": \"Squad=%{customdata[0]}<br>Age=%{x}<br>count=%{y}<extra></extra>\", \"legendgroup\": \"Chelsea\", \"marker\": {\"color\": \"#636efa\"}, \"name\": \"Chelsea\", \"offsetgroup\": \"Chelsea\", \"orientation\": \"v\", \"showlegend\": true, \"textposition\": \"auto\", \"type\": \"bar\", \"x\": [19, 20, 21, 22, 23, 24, 25, 26, 27, 28, 29, 30, 31, 34, 36, 39], \"xaxis\": \"x\", \"y\": [1, 1, 2, 2, 2, 2, 2, 4, 1, 2, 2, 2, 1, 1, 1, 1], \"yaxis\": \"y\"}, {\"alignmentgroup\": \"True\", \"customdata\": [[\"Leicester City\"], [\"Leicester City\"], [\"Leicester City\"], [\"Leicester City\"], [\"Leicester City\"], [\"Leicester City\"], [\"Leicester City\"], [\"Leicester City\"], [\"Leicester City\"], [\"Leicester City\"], [\"Leicester City\"], [\"Leicester City\"], [\"Leicester City\"], [\"Leicester City\"]], \"hovertemplate\": \"Squad=%{customdata[0]}<br>Age=%{x}<br>count=%{y}<extra></extra>\", \"legendgroup\": \"Leicester City\", \"marker\": {\"color\": \"#EF553B\"}, \"name\": \"Leicester City\", \"offsetgroup\": \"Leicester City\", \"orientation\": \"v\", \"showlegend\": true, \"textposition\": \"auto\", \"type\": \"bar\", \"x\": [19, 20, 21, 23, 24, 25, 26, 27, 28, 31, 32, 33, 34, 37], \"xaxis\": \"x\", \"y\": [2, 1, 1, 5, 5, 1, 2, 2, 1, 1, 1, 1, 3, 1], \"yaxis\": \"y\"}, {\"alignmentgroup\": \"True\", \"customdata\": [[\"Liverpool\"], [\"Liverpool\"], [\"Liverpool\"], [\"Liverpool\"], [\"Liverpool\"], [\"Liverpool\"], [\"Liverpool\"], [\"Liverpool\"], [\"Liverpool\"], [\"Liverpool\"], [\"Liverpool\"], [\"Liverpool\"], [\"Liverpool\"], [\"Liverpool\"]], \"hovertemplate\": \"Squad=%{customdata[0]}<br>Age=%{x}<br>count=%{y}<extra></extra>\", \"legendgroup\": \"Liverpool\", \"marker\": {\"color\": \"#00cc96\"}, \"name\": \"Liverpool\", \"offsetgroup\": \"Liverpool\", \"orientation\": \"v\", \"showlegend\": true, \"textposition\": \"auto\", \"type\": \"bar\", \"x\": [19, 20, 21, 22, 23, 24, 25, 26, 27, 28, 29, 30, 34, 35], \"xaxis\": \"x\", \"y\": [1, 2, 1, 2, 1, 3, 1, 2, 3, 3, 5, 2, 1, 1], \"yaxis\": \"y\"}, {\"alignmentgroup\": \"True\", \"customdata\": [[\"Southampton\"], [\"Southampton\"], [\"Southampton\"], [\"Southampton\"], [\"Southampton\"], [\"Southampton\"], [\"Southampton\"], [\"Southampton\"], [\"Southampton\"], [\"Southampton\"], [\"Southampton\"], [\"Southampton\"], [\"Southampton\"], [\"Southampton\"]], \"hovertemplate\": \"Squad=%{customdata[0]}<br>Age=%{x}<br>count=%{y}<extra></extra>\", \"legendgroup\": \"Southampton\", \"marker\": {\"color\": \"#ab63fa\"}, \"name\": \"Southampton\", \"offsetgroup\": \"Southampton\", \"orientation\": \"v\", \"showlegend\": true, \"textposition\": \"auto\", \"type\": \"bar\", \"x\": [19, 20, 21, 22, 23, 24, 26, 27, 28, 29, 31, 32, 33, 34], \"xaxis\": \"x\", \"y\": [3, 2, 4, 4, 1, 2, 2, 2, 2, 2, 2, 1, 1, 1], \"yaxis\": \"y\"}, {\"alignmentgroup\": \"True\", \"customdata\": [[\"Everton\"], [\"Everton\"], [\"Everton\"], [\"Everton\"], [\"Everton\"], [\"Everton\"], [\"Everton\"], [\"Everton\"], [\"Everton\"], [\"Everton\"], [\"Everton\"], [\"Everton\"]], \"hovertemplate\": \"Squad=%{customdata[0]}<br>Age=%{x}<br>count=%{y}<extra></extra>\", \"legendgroup\": \"Everton\", \"marker\": {\"color\": \"#FFA15A\"}, \"name\": \"Everton\", \"offsetgroup\": \"Everton\", \"orientation\": \"v\", \"showlegend\": true, \"textposition\": \"auto\", \"type\": \"bar\", \"x\": [20, 21, 22, 23, 24, 26, 27, 28, 29, 30, 31, 32], \"xaxis\": \"x\", \"y\": [2, 2, 1, 2, 4, 1, 3, 3, 3, 1, 3, 2], \"yaxis\": \"y\"}, {\"alignmentgroup\": \"True\", \"customdata\": [[\"Leeds United\"], [\"Leeds United\"], [\"Leeds United\"], [\"Leeds United\"], [\"Leeds United\"], [\"Leeds United\"], [\"Leeds United\"], [\"Leeds United\"], [\"Leeds United\"], [\"Leeds United\"]], \"hovertemplate\": \"Squad=%{customdata[0]}<br>Age=%{x}<br>count=%{y}<extra></extra>\", \"legendgroup\": \"Leeds United\", \"marker\": {\"color\": \"#19d3f3\"}, \"name\": \"Leeds United\", \"offsetgroup\": \"Leeds United\", \"orientation\": \"v\", \"showlegend\": true, \"textposition\": \"auto\", \"type\": \"bar\", \"x\": [20, 21, 22, 24, 25, 27, 29, 30, 34, 35], \"xaxis\": \"x\", \"y\": [1, 5, 1, 3, 1, 3, 4, 2, 1, 1], \"yaxis\": \"y\"}, {\"alignmentgroup\": \"True\", \"customdata\": [[\"Crystal Palace\"], [\"Crystal Palace\"], [\"Crystal Palace\"], [\"Crystal Palace\"], [\"Crystal Palace\"], [\"Crystal Palace\"], [\"Crystal Palace\"], [\"Crystal Palace\"], [\"Crystal Palace\"], [\"Crystal Palace\"], [\"Crystal Palace\"], [\"Crystal Palace\"], [\"Crystal Palace\"]], \"hovertemplate\": \"Squad=%{customdata[0]}<br>Age=%{x}<br>count=%{y}<extra></extra>\", \"legendgroup\": \"Crystal Palace\", \"marker\": {\"color\": \"#FF6692\"}, \"name\": \"Crystal Palace\", \"offsetgroup\": \"Crystal Palace\", \"orientation\": \"v\", \"showlegend\": true, \"textposition\": \"auto\", \"type\": \"bar\", \"x\": [21, 22, 23, 24, 27, 28, 29, 30, 31, 32, 33, 34, 35], \"xaxis\": \"x\", \"y\": [1, 1, 1, 1, 1, 2, 4, 3, 3, 1, 1, 2, 1], \"yaxis\": \"y\"}, {\"alignmentgroup\": \"True\", \"customdata\": [[\"West Brom\"], [\"West Brom\"], [\"West Brom\"], [\"West Brom\"], [\"West Brom\"], [\"West Brom\"], [\"West Brom\"], [\"West Brom\"], [\"West Brom\"], [\"West Brom\"], [\"West Brom\"], [\"West Brom\"], [\"West Brom\"], [\"West Brom\"], [\"West Brom\"]], \"hovertemplate\": \"Squad=%{customdata[0]}<br>Age=%{x}<br>count=%{y}<extra></extra>\", \"legendgroup\": \"West Brom\", \"marker\": {\"color\": \"#B6E880\"}, \"name\": \"West Brom\", \"offsetgroup\": \"West Brom\", \"orientation\": \"v\", \"showlegend\": true, \"textposition\": \"auto\", \"type\": \"bar\", \"x\": [21, 22, 23, 24, 25, 26, 27, 28, 29, 30, 31, 32, 33, 34, 37], \"xaxis\": \"x\", \"y\": [2, 3, 3, 1, 2, 1, 2, 2, 3, 2, 4, 2, 1, 1, 1], \"yaxis\": \"y\"}, {\"alignmentgroup\": \"True\", \"customdata\": [[\"West Ham\"], [\"West Ham\"], [\"West Ham\"], [\"West Ham\"], [\"West Ham\"], [\"West Ham\"], [\"West Ham\"], [\"West Ham\"], [\"West Ham\"], [\"West Ham\"], [\"West Ham\"], [\"West Ham\"], [\"West Ham\"]], \"hovertemplate\": \"Squad=%{customdata[0]}<br>Age=%{x}<br>count=%{y}<extra></extra>\", \"legendgroup\": \"West Ham\", \"marker\": {\"color\": \"#FF97FF\"}, \"name\": \"West Ham\", \"offsetgroup\": \"West Ham\", \"orientation\": \"v\", \"showlegend\": true, \"textposition\": \"auto\", \"type\": \"bar\", \"x\": [21, 22, 24, 25, 26, 27, 28, 29, 30, 31, 32, 33, 35], \"xaxis\": \"x\", \"y\": [1, 1, 2, 2, 2, 2, 4, 1, 1, 3, 1, 3, 1], \"yaxis\": \"y\"}, {\"alignmentgroup\": \"True\", \"customdata\": [[\"Fulham\"], [\"Fulham\"], [\"Fulham\"], [\"Fulham\"], [\"Fulham\"], [\"Fulham\"], [\"Fulham\"], [\"Fulham\"], [\"Fulham\"], [\"Fulham\"], [\"Fulham\"], [\"Fulham\"]], \"hovertemplate\": \"Squad=%{customdata[0]}<br>Age=%{x}<br>count=%{y}<extra></extra>\", \"legendgroup\": \"Fulham\", \"marker\": {\"color\": \"#FECB52\"}, \"name\": \"Fulham\", \"offsetgroup\": \"Fulham\", \"orientation\": \"v\", \"showlegend\": true, \"textposition\": \"auto\", \"type\": \"bar\", \"x\": [22, 23, 24, 25, 26, 27, 28, 29, 30, 31, 32, 33], \"xaxis\": \"x\", \"y\": [1, 4, 3, 3, 3, 3, 3, 1, 1, 1, 1, 1], \"yaxis\": \"y\"}],                        {\"barmode\": \"stack\", \"legend\": {\"title\": {\"text\": \"Squad\"}, \"tracegroupgap\": 0}, \"template\": {\"data\": {\"bar\": [{\"error_x\": {\"color\": \"#2a3f5f\"}, \"error_y\": {\"color\": \"#2a3f5f\"}, \"marker\": {\"line\": {\"color\": \"#E5ECF6\", \"width\": 0.5}}, \"type\": \"bar\"}], \"barpolar\": [{\"marker\": {\"line\": {\"color\": \"#E5ECF6\", \"width\": 0.5}}, \"type\": \"barpolar\"}], \"carpet\": [{\"aaxis\": {\"endlinecolor\": \"#2a3f5f\", \"gridcolor\": \"white\", \"linecolor\": \"white\", \"minorgridcolor\": \"white\", \"startlinecolor\": \"#2a3f5f\"}, \"baxis\": {\"endlinecolor\": \"#2a3f5f\", \"gridcolor\": \"white\", \"linecolor\": \"white\", \"minorgridcolor\": \"white\", \"startlinecolor\": \"#2a3f5f\"}, \"type\": \"carpet\"}], \"choropleth\": [{\"colorbar\": {\"outlinewidth\": 0, \"ticks\": \"\"}, \"type\": \"choropleth\"}], \"contour\": [{\"colorbar\": {\"outlinewidth\": 0, \"ticks\": \"\"}, \"colorscale\": [[0.0, \"#0d0887\"], [0.1111111111111111, \"#46039f\"], [0.2222222222222222, \"#7201a8\"], [0.3333333333333333, \"#9c179e\"], [0.4444444444444444, \"#bd3786\"], [0.5555555555555556, \"#d8576b\"], [0.6666666666666666, \"#ed7953\"], [0.7777777777777778, \"#fb9f3a\"], [0.8888888888888888, \"#fdca26\"], [1.0, \"#f0f921\"]], \"type\": \"contour\"}], \"contourcarpet\": [{\"colorbar\": {\"outlinewidth\": 0, \"ticks\": \"\"}, \"type\": \"contourcarpet\"}], \"heatmap\": [{\"colorbar\": {\"outlinewidth\": 0, \"ticks\": \"\"}, \"colorscale\": [[0.0, \"#0d0887\"], [0.1111111111111111, \"#46039f\"], [0.2222222222222222, \"#7201a8\"], [0.3333333333333333, \"#9c179e\"], [0.4444444444444444, \"#bd3786\"], [0.5555555555555556, \"#d8576b\"], [0.6666666666666666, \"#ed7953\"], [0.7777777777777778, \"#fb9f3a\"], [0.8888888888888888, \"#fdca26\"], [1.0, \"#f0f921\"]], \"type\": \"heatmap\"}], \"heatmapgl\": [{\"colorbar\": {\"outlinewidth\": 0, \"ticks\": \"\"}, \"colorscale\": [[0.0, \"#0d0887\"], [0.1111111111111111, \"#46039f\"], [0.2222222222222222, \"#7201a8\"], [0.3333333333333333, \"#9c179e\"], [0.4444444444444444, \"#bd3786\"], [0.5555555555555556, \"#d8576b\"], [0.6666666666666666, \"#ed7953\"], [0.7777777777777778, \"#fb9f3a\"], [0.8888888888888888, \"#fdca26\"], [1.0, \"#f0f921\"]], \"type\": \"heatmapgl\"}], \"histogram\": [{\"marker\": {\"colorbar\": {\"outlinewidth\": 0, \"ticks\": \"\"}}, \"type\": \"histogram\"}], \"histogram2d\": [{\"colorbar\": {\"outlinewidth\": 0, \"ticks\": \"\"}, \"colorscale\": [[0.0, \"#0d0887\"], [0.1111111111111111, \"#46039f\"], [0.2222222222222222, \"#7201a8\"], [0.3333333333333333, \"#9c179e\"], [0.4444444444444444, \"#bd3786\"], [0.5555555555555556, \"#d8576b\"], [0.6666666666666666, \"#ed7953\"], [0.7777777777777778, \"#fb9f3a\"], [0.8888888888888888, \"#fdca26\"], [1.0, \"#f0f921\"]], \"type\": \"histogram2d\"}], \"histogram2dcontour\": [{\"colorbar\": {\"outlinewidth\": 0, \"ticks\": \"\"}, \"colorscale\": [[0.0, \"#0d0887\"], [0.1111111111111111, \"#46039f\"], [0.2222222222222222, \"#7201a8\"], [0.3333333333333333, \"#9c179e\"], [0.4444444444444444, \"#bd3786\"], [0.5555555555555556, \"#d8576b\"], [0.6666666666666666, \"#ed7953\"], [0.7777777777777778, \"#fb9f3a\"], [0.8888888888888888, \"#fdca26\"], [1.0, \"#f0f921\"]], \"type\": \"histogram2dcontour\"}], \"mesh3d\": [{\"colorbar\": {\"outlinewidth\": 0, \"ticks\": \"\"}, \"type\": \"mesh3d\"}], \"parcoords\": [{\"line\": {\"colorbar\": {\"outlinewidth\": 0, \"ticks\": \"\"}}, \"type\": \"parcoords\"}], \"pie\": [{\"automargin\": true, \"type\": \"pie\"}], \"scatter\": [{\"marker\": {\"colorbar\": {\"outlinewidth\": 0, \"ticks\": \"\"}}, \"type\": \"scatter\"}], \"scatter3d\": [{\"line\": {\"colorbar\": {\"outlinewidth\": 0, \"ticks\": \"\"}}, \"marker\": {\"colorbar\": {\"outlinewidth\": 0, \"ticks\": \"\"}}, \"type\": \"scatter3d\"}], \"scattercarpet\": [{\"marker\": {\"colorbar\": {\"outlinewidth\": 0, \"ticks\": \"\"}}, \"type\": \"scattercarpet\"}], \"scattergeo\": [{\"marker\": {\"colorbar\": {\"outlinewidth\": 0, \"ticks\": \"\"}}, \"type\": \"scattergeo\"}], \"scattergl\": [{\"marker\": {\"colorbar\": {\"outlinewidth\": 0, \"ticks\": \"\"}}, \"type\": \"scattergl\"}], \"scattermapbox\": [{\"marker\": {\"colorbar\": {\"outlinewidth\": 0, \"ticks\": \"\"}}, \"type\": \"scattermapbox\"}], \"scatterpolar\": [{\"marker\": {\"colorbar\": {\"outlinewidth\": 0, \"ticks\": \"\"}}, \"type\": \"scatterpolar\"}], \"scatterpolargl\": [{\"marker\": {\"colorbar\": {\"outlinewidth\": 0, \"ticks\": \"\"}}, \"type\": \"scatterpolargl\"}], \"scatterternary\": [{\"marker\": {\"colorbar\": {\"outlinewidth\": 0, \"ticks\": \"\"}}, \"type\": \"scatterternary\"}], \"surface\": [{\"colorbar\": {\"outlinewidth\": 0, \"ticks\": \"\"}, \"colorscale\": [[0.0, \"#0d0887\"], [0.1111111111111111, \"#46039f\"], [0.2222222222222222, \"#7201a8\"], [0.3333333333333333, \"#9c179e\"], [0.4444444444444444, \"#bd3786\"], [0.5555555555555556, \"#d8576b\"], [0.6666666666666666, \"#ed7953\"], [0.7777777777777778, \"#fb9f3a\"], [0.8888888888888888, \"#fdca26\"], [1.0, \"#f0f921\"]], \"type\": \"surface\"}], \"table\": [{\"cells\": {\"fill\": {\"color\": \"#EBF0F8\"}, \"line\": {\"color\": \"white\"}}, \"header\": {\"fill\": {\"color\": \"#C8D4E3\"}, \"line\": {\"color\": \"white\"}}, \"type\": \"table\"}]}, \"layout\": {\"annotationdefaults\": {\"arrowcolor\": \"#2a3f5f\", \"arrowhead\": 0, \"arrowwidth\": 1}, \"coloraxis\": {\"colorbar\": {\"outlinewidth\": 0, \"ticks\": \"\"}}, \"colorscale\": {\"diverging\": [[0, \"#8e0152\"], [0.1, \"#c51b7d\"], [0.2, \"#de77ae\"], [0.3, \"#f1b6da\"], [0.4, \"#fde0ef\"], [0.5, \"#f7f7f7\"], [0.6, \"#e6f5d0\"], [0.7, \"#b8e186\"], [0.8, \"#7fbc41\"], [0.9, \"#4d9221\"], [1, \"#276419\"]], \"sequential\": [[0.0, \"#0d0887\"], [0.1111111111111111, \"#46039f\"], [0.2222222222222222, \"#7201a8\"], [0.3333333333333333, \"#9c179e\"], [0.4444444444444444, \"#bd3786\"], [0.5555555555555556, \"#d8576b\"], [0.6666666666666666, \"#ed7953\"], [0.7777777777777778, \"#fb9f3a\"], [0.8888888888888888, \"#fdca26\"], [1.0, \"#f0f921\"]], \"sequentialminus\": [[0.0, \"#0d0887\"], [0.1111111111111111, \"#46039f\"], [0.2222222222222222, \"#7201a8\"], [0.3333333333333333, \"#9c179e\"], [0.4444444444444444, \"#bd3786\"], [0.5555555555555556, \"#d8576b\"], [0.6666666666666666, \"#ed7953\"], [0.7777777777777778, \"#fb9f3a\"], [0.8888888888888888, \"#fdca26\"], [1.0, \"#f0f921\"]]}, \"colorway\": [\"#636efa\", \"#EF553B\", \"#00cc96\", \"#ab63fa\", \"#FFA15A\", \"#19d3f3\", \"#FF6692\", \"#B6E880\", \"#FF97FF\", \"#FECB52\"], \"font\": {\"color\": \"#2a3f5f\"}, \"geo\": {\"bgcolor\": \"white\", \"lakecolor\": \"white\", \"landcolor\": \"#E5ECF6\", \"showlakes\": true, \"showland\": true, \"subunitcolor\": \"white\"}, \"hoverlabel\": {\"align\": \"left\"}, \"hovermode\": \"closest\", \"mapbox\": {\"style\": \"light\"}, \"paper_bgcolor\": \"white\", \"plot_bgcolor\": \"#E5ECF6\", \"polar\": {\"angularaxis\": {\"gridcolor\": \"white\", \"linecolor\": \"white\", \"ticks\": \"\"}, \"bgcolor\": \"#E5ECF6\", \"radialaxis\": {\"gridcolor\": \"white\", \"linecolor\": \"white\", \"ticks\": \"\"}}, \"scene\": {\"xaxis\": {\"backgroundcolor\": \"#E5ECF6\", \"gridcolor\": \"white\", \"gridwidth\": 2, \"linecolor\": \"white\", \"showbackground\": true, \"ticks\": \"\", \"zerolinecolor\": \"white\"}, \"yaxis\": {\"backgroundcolor\": \"#E5ECF6\", \"gridcolor\": \"white\", \"gridwidth\": 2, \"linecolor\": \"white\", \"showbackground\": true, \"ticks\": \"\", \"zerolinecolor\": \"white\"}, \"zaxis\": {\"backgroundcolor\": \"#E5ECF6\", \"gridcolor\": \"white\", \"gridwidth\": 2, \"linecolor\": \"white\", \"showbackground\": true, \"ticks\": \"\", \"zerolinecolor\": \"white\"}}, \"shapedefaults\": {\"line\": {\"color\": \"#2a3f5f\"}}, \"ternary\": {\"aaxis\": {\"gridcolor\": \"white\", \"linecolor\": \"white\", \"ticks\": \"\"}, \"baxis\": {\"gridcolor\": \"white\", \"linecolor\": \"white\", \"ticks\": \"\"}, \"bgcolor\": \"#E5ECF6\", \"caxis\": {\"gridcolor\": \"white\", \"linecolor\": \"white\", \"ticks\": \"\"}}, \"title\": {\"x\": 0.05}, \"xaxis\": {\"automargin\": true, \"gridcolor\": \"white\", \"linecolor\": \"white\", \"ticks\": \"\", \"title\": {\"standoff\": 15}, \"zerolinecolor\": \"white\", \"zerolinewidth\": 2}, \"yaxis\": {\"automargin\": true, \"gridcolor\": \"white\", \"linecolor\": \"white\", \"ticks\": \"\", \"title\": {\"standoff\": 15}, \"zerolinecolor\": \"white\", \"zerolinewidth\": 2}}}, \"title\": {\"text\": \"EPL Player Age distribution By Team\"}, \"xaxis\": {\"anchor\": \"y\", \"domain\": [0.0, 1.0], \"title\": {\"text\": \"Age\"}}, \"yaxis\": {\"anchor\": \"x\", \"domain\": [0.0, 1.0], \"title\": {\"text\": \"count\"}}},                        {\"responsive\": true}                    ).then(function(){\n",
       "                            \n",
       "var gd = document.getElementById('14a5d3ba-9c94-4ad9-a2b0-d8b64f5d9bae');\n",
       "var x = new MutationObserver(function (mutations, observer) {{\n",
       "        var display = window.getComputedStyle(gd).display;\n",
       "        if (!display || display === 'none') {{\n",
       "            console.log([gd, 'removed!']);\n",
       "            Plotly.purge(gd);\n",
       "            observer.disconnect();\n",
       "        }}\n",
       "}});\n",
       "\n",
       "// Listen for the removal of the full notebook cells\n",
       "var notebookContainer = gd.closest('#notebook-container');\n",
       "if (notebookContainer) {{\n",
       "    x.observe(notebookContainer, {childList: true});\n",
       "}}\n",
       "\n",
       "// Listen for the clearing of the current output cell\n",
       "var outputEl = gd.closest('.output');\n",
       "if (outputEl) {{\n",
       "    x.observe(outputEl, {childList: true});\n",
       "}}\n",
       "\n",
       "                        })                };                });            </script>        </div>"
      ]
     },
     "metadata": {},
     "output_type": "display_data"
    }
   ],
   "source": [
    "fig_age"
   ]
  }
 ],
 "metadata": {
  "kernelspec": {
   "display_name": "Python 3",
   "language": "python",
   "name": "python3"
  },
  "language_info": {
   "codemirror_mode": {
    "name": "ipython",
    "version": 3
   },
   "file_extension": ".py",
   "mimetype": "text/x-python",
   "name": "python",
   "nbconvert_exporter": "python",
   "pygments_lexer": "ipython3",
   "version": "3.8.3"
  }
 },
 "nbformat": 4,
 "nbformat_minor": 4
}
